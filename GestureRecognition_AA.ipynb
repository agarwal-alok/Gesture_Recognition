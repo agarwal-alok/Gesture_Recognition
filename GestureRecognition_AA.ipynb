{
 "cells": [
  {
   "cell_type": "code",
   "execution_count": 2,
   "id": "61531932",
   "metadata": {},
   "outputs": [
    {
     "name": "stdout",
     "output_type": "stream",
     "text": [
      "Requirement already satisfied: scikit-image in /usr/local/lib/python3.8/dist-packages (0.19.2)\n",
      "Requirement already satisfied: imageio>=2.4.1 in /usr/local/lib/python3.8/dist-packages (from scikit-image) (2.19.0)\n",
      "Requirement already satisfied: networkx>=2.2 in /usr/local/lib/python3.8/dist-packages (from scikit-image) (2.6.3)\n",
      "Requirement already satisfied: pillow!=7.1.0,!=7.1.1,!=8.3.0,>=6.1.0 in /usr/local/lib/python3.8/dist-packages (from scikit-image) (9.0.1)\n",
      "Requirement already satisfied: numpy>=1.17.0 in /usr/local/lib/python3.8/dist-packages (from scikit-image) (1.19.4)\n",
      "Requirement already satisfied: packaging>=20.0 in /usr/local/lib/python3.8/dist-packages (from scikit-image) (21.3)\n",
      "Requirement already satisfied: scipy>=1.4.1 in /usr/local/lib/python3.8/dist-packages (from scikit-image) (1.4.1)\n",
      "Requirement already satisfied: PyWavelets>=1.1.1 in /usr/local/lib/python3.8/dist-packages (from scikit-image) (1.3.0)\n",
      "Requirement already satisfied: tifffile>=2019.7.26 in /usr/local/lib/python3.8/dist-packages (from scikit-image) (2022.5.4)\n",
      "Requirement already satisfied: pyparsing!=3.0.5,>=2.0.2 in /usr/local/lib/python3.8/dist-packages (from packaging>=20.0->scikit-image) (3.0.7)\n",
      "\u001b[33mWARNING: Running pip as the 'root' user can result in broken permissions and conflicting behaviour with the system package manager. It is recommended to use a virtual environment instead: https://pip.pypa.io/warnings/venv\u001b[0m\u001b[33m\n",
      "\u001b[0m\u001b[33mWARNING: You are using pip version 22.0.3; however, version 23.0.1 is available.\n",
      "You should consider upgrading via the '/usr/bin/python -m pip install --upgrade pip' command.\u001b[0m\u001b[33m\n",
      "\u001b[0m"
     ]
    }
   ],
   "source": [
    "!pip install scikit-image\n",
    "from skimage.transform import resize"
   ]
  },
  {
   "cell_type": "code",
   "execution_count": 3,
   "id": "a8c124c6",
   "metadata": {},
   "outputs": [
    {
     "name": "stdout",
     "output_type": "stream",
     "text": [
      "Requirement already satisfied: imageio in /usr/local/lib/python3.8/dist-packages (2.19.0)\n",
      "Requirement already satisfied: numpy in /usr/local/lib/python3.8/dist-packages (from imageio) (1.19.4)\n",
      "Requirement already satisfied: pillow>=8.3.2 in /usr/local/lib/python3.8/dist-packages (from imageio) (9.0.1)\n",
      "\u001b[33mWARNING: Running pip as the 'root' user can result in broken permissions and conflicting behaviour with the system package manager. It is recommended to use a virtual environment instead: https://pip.pypa.io/warnings/venv\u001b[0m\u001b[33m\n",
      "\u001b[0m\u001b[33mWARNING: You are using pip version 22.0.3; however, version 23.0.1 is available.\n",
      "You should consider upgrading via the '/usr/bin/python -m pip install --upgrade pip' command.\u001b[0m\u001b[33m\n",
      "\u001b[0m"
     ]
    }
   ],
   "source": [
    "!pip install imageio\n",
    "from imageio import imread"
   ]
  },
  {
   "cell_type": "code",
   "execution_count": 4,
   "id": "3f9aefef",
   "metadata": {},
   "outputs": [],
   "source": [
    "import numpy as np\n",
    "import os\n",
    "import datetime\n",
    "import os\n",
    "import warnings\n",
    "warnings.filterwarnings(\"ignore\")\n",
    "import abc\n",
    "from sys import getsizeof"
   ]
  },
  {
   "cell_type": "code",
   "execution_count": 5,
   "id": "83023894",
   "metadata": {},
   "outputs": [],
   "source": [
    "np.random.seed(30)\n",
    "import random as rn\n",
    "rn.seed(30)\n",
    "from keras import backend as K\n",
    "import tensorflow as tf\n",
    "tf.random.set_seed(30)"
   ]
  },
  {
   "cell_type": "code",
   "execution_count": 6,
   "id": "ecf2f17c",
   "metadata": {},
   "outputs": [],
   "source": [
    "import cv2\n",
    "import matplotlib.pyplot as plt"
   ]
  },
  {
   "cell_type": "code",
   "execution_count": 7,
   "id": "2d55cd21",
   "metadata": {},
   "outputs": [],
   "source": [
    "from keras.models import Sequential, Model\n",
    "from keras.layers import Dense, GRU, Flatten, TimeDistributed, Flatten, BatchNormalization, Activation\n",
    "from keras.layers.convolutional import Conv3D, MaxPooling3D, Conv2D, MaxPooling2D\n",
    "from keras.layers import LSTM\n",
    "from keras.callbacks import ModelCheckpoint, ReduceLROnPlateau\n",
    "from keras import optimizers\n",
    "from keras.layers import Dropout"
   ]
  },
  {
   "cell_type": "code",
   "execution_count": 8,
   "id": "e29b68c3",
   "metadata": {},
   "outputs": [],
   "source": [
    "project_folder = '/home/datasets/Project_data'"
   ]
  },
  {
   "cell_type": "code",
   "execution_count": 9,
   "id": "06bd01ad",
   "metadata": {},
   "outputs": [],
   "source": [
    "def plot(history):\n",
    "    fig, axes = plt.subplots(nrows=1, ncols=2, figsize=(15,4))\n",
    "    axes[0].plot(history.history['loss'])   \n",
    "    axes[0].plot(history.history['val_loss'])\n",
    "    axes[0].legend(['loss','val_loss'])\n",
    "\n",
    "    axes[1].plot(history.history['categorical_accuracy'])   \n",
    "    axes[1].plot(history.history['val_categorical_accuracy'])\n",
    "    axes[1].legend(['categorical_accuracy','val_categorical_accuracy'])"
   ]
  },
  {
   "cell_type": "code",
   "execution_count": 10,
   "id": "f31b7439",
   "metadata": {},
   "outputs": [],
   "source": [
    "class ModelBuilder(metaclass= abc.ABCMeta):\n",
    "    \n",
    "    def initialize_path(self,project_folder):\n",
    "        self.train_doc = np.random.permutation(open(project_folder + '/' + 'train.csv').readlines())\n",
    "        self.val_doc = np.random.permutation(open(project_folder + '/' + 'val.csv').readlines())\n",
    "        self.train_path = project_folder + '/' + 'train'\n",
    "        self.val_path =  project_folder + '/' + 'val'\n",
    "        self.num_train_sequences = len(self.train_doc)\n",
    "        self.num_val_sequences = len(self.val_doc)\n",
    "        \n",
    "    def initialize_image_properties(self,image_height=100,image_width=100):\n",
    "        self.image_height=image_height\n",
    "        self.image_width=image_width\n",
    "        self.channels=3\n",
    "        self.num_classes=5\n",
    "        self.total_frames=30\n",
    "          \n",
    "    def initialize_hyperparams(self,frames_to_sample=30,batch_size=20,num_epochs=20):\n",
    "        self.frames_to_sample=frames_to_sample\n",
    "        self.batch_size=batch_size\n",
    "        self.num_epochs=num_epochs\n",
    "        \n",
    "        \n",
    "    def generator(self,source_path, folder_list, augment=False):\n",
    "        img_idx = np.round(np.linspace(0,self.total_frames-1,self.frames_to_sample)).astype(int)\n",
    "        batch_size=self.batch_size\n",
    "        while True:\n",
    "            t = np.random.permutation(folder_list)\n",
    "            num_batches = len(t)//batch_size\n",
    "        \n",
    "            for batch in range(num_batches): \n",
    "                batch_data, batch_labels= self.one_batch_data(source_path,t,batch,batch_size,img_idx,augment)\n",
    "                yield batch_data, batch_labels \n",
    "\n",
    "            remaining_seq=len(t)%batch_size\n",
    "        \n",
    "            if (remaining_seq != 0):\n",
    "                batch_data, batch_labels= self.one_batch_data(source_path,t,num_batches,batch_size,img_idx,augment,remaining_seq)\n",
    "                yield batch_data, batch_labels \n",
    "    \n",
    "    \n",
    "    def one_batch_data(self,source_path,t,batch,batch_size,img_idx,augment,remaining_seq=0):\n",
    "    \n",
    "        seq_len = remaining_seq if remaining_seq else batch_size\n",
    "    \n",
    "        batch_data = np.zeros((seq_len,len(img_idx),self.image_height,self.image_width,self.channels)) \n",
    "        batch_labels = np.zeros((seq_len,self.num_classes)) \n",
    "    \n",
    "        if (augment): batch_data_aug = np.zeros((seq_len,len(img_idx),self.image_height,self.image_width,self.channels))\n",
    "\n",
    "        \n",
    "        for folder in range(seq_len): \n",
    "            imgs = os.listdir(source_path+'/'+ t[folder + (batch*batch_size)].split(';')[0]) \n",
    "            for idx,item in enumerate(img_idx): \n",
    "                image = imread(source_path+'/'+ t[folder + (batch*batch_size)].strip().split(';')[0]+'/'+imgs[item]).astype(np.float32)\n",
    "                image_resized=resize(image,(self.image_height,self.image_width,3))\n",
    "            \n",
    "\n",
    "                batch_data[folder,idx,:,:,0] = (image_resized[:,:,0])/255\n",
    "                batch_data[folder,idx,:,:,1] = (image_resized[:,:,1])/255\n",
    "                batch_data[folder,idx,:,:,2] = (image_resized[:,:,2])/255\n",
    "            \n",
    "                if (augment):\n",
    "                    shifted = cv2.warpAffine(image, \n",
    "                                             np.float32([[1, 0, np.random.randint(-30,30)],[0, 1, np.random.randint(-30,30)]]), \n",
    "                                            (image.shape[1], image.shape[0]))\n",
    "                    \n",
    "                    gray = cv2.cvtColor(shifted,cv2.COLOR_BGR2GRAY)\n",
    "\n",
    "                    x0, y0 = np.argwhere(gray > 0).min(axis=0)\n",
    "                    x1, y1 = np.argwhere(gray > 0).max(axis=0) \n",
    "                    \n",
    "                    cropped=shifted[x0:x1,y0:y1,:]\n",
    "                    \n",
    "                    image_resized=resize(cropped,(self.image_height,self.image_width,3))\n",
    "                    \n",
    "                    #shifted = cv2.warpAffine(image_resized, \n",
    "                    #                        np.float32([[1, 0, np.random.randint(-3,3)],[0, 1, np.random.randint(-3,3)]]), \n",
    "                    #                        (image_resized.shape[1], image_resized.shape[0]))\n",
    "            \n",
    "                    batch_data_aug[folder,idx,:,:,0] = (image_resized[:,:,0])/255\n",
    "                    batch_data_aug[folder,idx,:,:,1] = (image_resized[:,:,1])/255\n",
    "                    batch_data_aug[folder,idx,:,:,2] = (image_resized[:,:,2])/255\n",
    "                \n",
    "            \n",
    "            batch_labels[folder, int(t[folder + (batch*batch_size)].strip().split(';')[2])] = 1\n",
    "            \n",
    "    \n",
    "        if (augment):\n",
    "            batch_data=np.concatenate([batch_data,batch_data_aug])\n",
    "            batch_labels=np.concatenate([batch_labels,batch_labels])\n",
    "\n",
    "        \n",
    "        return(batch_data,batch_labels)\n",
    "    \n",
    "    \n",
    "    def train_model(self, model, augment_data=False):\n",
    "        train_generator = self.generator(self.train_path, self.train_doc,augment=augment_data)\n",
    "        val_generator = self.generator(self.val_path, self.val_doc)\n",
    "\n",
    "        model_name = 'model_init' + '_' + str(datetime.datetime.now()).replace(' ','').replace(':','_') + '/'\n",
    "    \n",
    "        if not os.path.exists(model_name):\n",
    "            os.mkdir(model_name)\n",
    "        \n",
    "        filepath = model_name + 'model-{epoch:05d}-{loss:.5f}-{categorical_accuracy:.5f}-{val_loss:.5f}-{val_categorical_accuracy:.5f}.h5'\n",
    "\n",
    "        checkpoint = ModelCheckpoint(filepath, monitor='val_loss', verbose=1, save_best_only=False, save_weights_only=False, mode='auto', period=1)\n",
    "        LR = ReduceLROnPlateau(monitor='val_loss', factor=0.2, verbose=1, patience=4)\n",
    "        callbacks_list = [checkpoint, LR]\n",
    "\n",
    "        if (self.num_train_sequences%self.batch_size) == 0:\n",
    "            steps_per_epoch = int(self.num_train_sequences/self.batch_size)\n",
    "        else:\n",
    "            steps_per_epoch = (self.num_train_sequences//self.batch_size) + 1\n",
    "\n",
    "        if (self.num_val_sequences%self.batch_size) == 0:\n",
    "            validation_steps = int(self.num_val_sequences/self.batch_size)\n",
    "        else:\n",
    "            validation_steps = (self.num_val_sequences//self.batch_size) + 1\n",
    "    \n",
    "        history=model.fit_generator(train_generator, steps_per_epoch=steps_per_epoch, epochs=self.num_epochs, verbose=1, \n",
    "                            callbacks=callbacks_list, validation_data=val_generator, \n",
    "                            validation_steps=validation_steps, class_weight=None, workers=1, initial_epoch=0)\n",
    "        return history\n",
    "\n",
    "        \n",
    "    @abc.abstractmethod\n",
    "    def define_model(self):\n",
    "        pass"
   ]
  },
  {
   "cell_type": "code",
   "execution_count": 14,
   "id": "7390206b",
   "metadata": {},
   "outputs": [],
   "source": [
    "class ModelConv3D1(ModelBuilder):\n",
    "    \n",
    "    def define_model(self):\n",
    "\n",
    "        model = Sequential()\n",
    "        model.add(Conv3D(16, (3, 3, 3), padding='same',\n",
    "                 input_shape=(self.frames_to_sample,self.image_height,self.image_width,self.channels)))\n",
    "        model.add(Activation('relu'))\n",
    "        model.add(BatchNormalization())\n",
    "        model.add(MaxPooling3D(pool_size=(2, 2, 2)))\n",
    "\n",
    "        model.add(Conv3D(32, (2, 2, 2), padding='same'))\n",
    "        model.add(Activation('relu'))\n",
    "        model.add(BatchNormalization())\n",
    "        model.add(MaxPooling3D(pool_size=(2, 2, 2)))\n",
    "\n",
    "        model.add(Conv3D(64, (2, 2, 2), padding='same'))\n",
    "        model.add(Activation('relu'))\n",
    "        model.add(BatchNormalization())\n",
    "        model.add(MaxPooling3D(pool_size=(2, 2, 2)))\n",
    "\n",
    "        model.add(Conv3D(128, (2, 2, 2), padding='same'))\n",
    "        model.add(Activation('relu'))\n",
    "        model.add(BatchNormalization())\n",
    "        model.add(MaxPooling3D(pool_size=(2, 2, 2)))\n",
    "\n",
    "        model.add(Flatten())\n",
    "        model.add(Dense(128,activation='relu'))\n",
    "        model.add(BatchNormalization())\n",
    "        model.add(Dropout(0.5))\n",
    "\n",
    "        model.add(Dense(64,activation='relu'))\n",
    "        model.add(BatchNormalization())\n",
    "        model.add(Dropout(0.25))\n",
    "\n",
    "\n",
    "        model.add(Dense(self.num_classes,activation='softmax'))\n",
    "\n",
    "        optimiser = tf.optimizers.Adam()\n",
    "        #optimiser = 'sgd'\n",
    "        model.compile(optimizer=optimiser, loss='categorical_crossentropy', metrics=['categorical_accuracy'])\n",
    "        return model"
   ]
  },
  {
   "cell_type": "code",
   "execution_count": 15,
   "id": "22c77dd2",
   "metadata": {},
   "outputs": [],
   "source": [
    "from tensorflow import keras"
   ]
  },
  {
   "cell_type": "code",
   "execution_count": 16,
   "id": "5cf052b2",
   "metadata": {},
   "outputs": [
    {
     "name": "stderr",
     "output_type": "stream",
     "text": [
      "2023-03-22 01:54:43.013966: W tensorflow/core/common_runtime/gpu/gpu_bfc_allocator.cc:39] Overriding allow_growth setting because the TF_FORCE_GPU_ALLOW_GROWTH environment variable is set. Original config value was 0.\n",
      "2023-03-22 01:54:43.014030: I tensorflow/core/common_runtime/gpu/gpu_device.cc:1525] Created device /job:localhost/replica:0/task:0/device:GPU:0 with 14802 MB memory:  -> device: 0, name: Quadro RTX 5000, pci bus id: 0000:1b:00.0, compute capability: 7.5\n"
     ]
    },
    {
     "name": "stdout",
     "output_type": "stream",
     "text": [
      "Model: \"sequential\"\n",
      "_________________________________________________________________\n",
      " Layer (type)                Output Shape              Param #   \n",
      "=================================================================\n",
      " conv3d (Conv3D)             (None, 30, 160, 160, 16)  1312      \n",
      "                                                                 \n",
      " activation (Activation)     (None, 30, 160, 160, 16)  0         \n",
      "                                                                 \n",
      " batch_normalization (BatchN  (None, 30, 160, 160, 16)  64       \n",
      " ormalization)                                                   \n",
      "                                                                 \n",
      " max_pooling3d (MaxPooling3D  (None, 15, 80, 80, 16)   0         \n",
      " )                                                               \n",
      "                                                                 \n",
      " conv3d_1 (Conv3D)           (None, 15, 80, 80, 32)    4128      \n",
      "                                                                 \n",
      " activation_1 (Activation)   (None, 15, 80, 80, 32)    0         \n",
      "                                                                 \n",
      " batch_normalization_1 (Batc  (None, 15, 80, 80, 32)   128       \n",
      " hNormalization)                                                 \n",
      "                                                                 \n",
      " max_pooling3d_1 (MaxPooling  (None, 7, 40, 40, 32)    0         \n",
      " 3D)                                                             \n",
      "                                                                 \n",
      " conv3d_2 (Conv3D)           (None, 7, 40, 40, 64)     16448     \n",
      "                                                                 \n",
      " activation_2 (Activation)   (None, 7, 40, 40, 64)     0         \n",
      "                                                                 \n",
      " batch_normalization_2 (Batc  (None, 7, 40, 40, 64)    256       \n",
      " hNormalization)                                                 \n",
      "                                                                 \n",
      " max_pooling3d_2 (MaxPooling  (None, 3, 20, 20, 64)    0         \n",
      " 3D)                                                             \n",
      "                                                                 \n",
      " conv3d_3 (Conv3D)           (None, 3, 20, 20, 128)    65664     \n",
      "                                                                 \n",
      " activation_3 (Activation)   (None, 3, 20, 20, 128)    0         \n",
      "                                                                 \n",
      " batch_normalization_3 (Batc  (None, 3, 20, 20, 128)   512       \n",
      " hNormalization)                                                 \n",
      "                                                                 \n",
      " max_pooling3d_3 (MaxPooling  (None, 1, 10, 10, 128)   0         \n",
      " 3D)                                                             \n",
      "                                                                 \n",
      " flatten (Flatten)           (None, 12800)             0         \n",
      "                                                                 \n",
      " dense (Dense)               (None, 128)               1638528   \n",
      "                                                                 \n",
      " batch_normalization_4 (Batc  (None, 128)              512       \n",
      " hNormalization)                                                 \n",
      "                                                                 \n",
      " dropout (Dropout)           (None, 128)               0         \n",
      "                                                                 \n",
      " dense_1 (Dense)             (None, 64)                8256      \n",
      "                                                                 \n",
      " batch_normalization_5 (Batc  (None, 64)               256       \n",
      " hNormalization)                                                 \n",
      "                                                                 \n",
      " dropout_1 (Dropout)         (None, 64)                0         \n",
      "                                                                 \n",
      " dense_2 (Dense)             (None, 5)                 325       \n",
      "                                                                 \n",
      "=================================================================\n",
      "Total params: 1,736,389\n",
      "Trainable params: 1,735,525\n",
      "Non-trainable params: 864\n",
      "_________________________________________________________________\n"
     ]
    }
   ],
   "source": [
    "conv_3d1=ModelConv3D1()\n",
    "conv_3d1.initialize_path(project_folder)\n",
    "conv_3d1.initialize_image_properties(image_height=160,image_width=160)\n",
    "conv_3d1.initialize_hyperparams(frames_to_sample=30,batch_size=40,num_epochs=1)\n",
    "conv_3d1_model=conv_3d1.define_model()\n",
    "conv_3d1_model.summary()"
   ]
  },
  {
   "cell_type": "code",
   "execution_count": 13,
   "id": "586aa12b",
   "metadata": {},
   "outputs": [
    {
     "name": "stdout",
     "output_type": "stream",
     "text": [
      "Memory util is 3.662109524011612 Gigs\n"
     ]
    }
   ],
   "source": [
    "print(\"Memory util is {} Gigs\". format(getsizeof(np.zeros((40,16,30,160,160)))/(1024*1024*1024)))"
   ]
  },
  {
   "cell_type": "code",
   "execution_count": 14,
   "id": "03cc117b",
   "metadata": {},
   "outputs": [
    {
     "name": "stdout",
     "output_type": "stream",
     "text": [
      "Total Params: 1736389\n",
      "WARNING:tensorflow:`period` argument is deprecated. Please use `save_freq` to specify the frequency in number of batches seen.\n",
      "Epoch 1/3\n"
     ]
    },
    {
     "name": "stderr",
     "output_type": "stream",
     "text": [
      "2023-03-21 17:47:55.842926: I tensorflow/stream_executor/cuda/cuda_dnn.cc:377] Loaded cuDNN version 8302\n"
     ]
    },
    {
     "name": "stdout",
     "output_type": "stream",
     "text": [
      "23/23 [==============================] - ETA: 0s - loss: 1.4924 - categorical_accuracy: 0.4419\n",
      "Epoch 00001: saving model to model_init_2023-03-2117_47_49.994018/model-00001-1.49237-0.44193-2.41849-0.17000.h5\n",
      "23/23 [==============================] - 96s 4s/step - loss: 1.4924 - categorical_accuracy: 0.4419 - val_loss: 2.4185 - val_categorical_accuracy: 0.1700 - lr: 0.0010\n",
      "Epoch 2/3\n",
      "23/23 [==============================] - ETA: 0s - loss: 0.9003 - categorical_accuracy: 0.6591\n",
      "Epoch 00002: saving model to model_init_2023-03-2117_47_49.994018/model-00002-0.90034-0.65913-4.23561-0.14000.h5\n",
      "23/23 [==============================] - 95s 4s/step - loss: 0.9003 - categorical_accuracy: 0.6591 - val_loss: 4.2356 - val_categorical_accuracy: 0.1400 - lr: 0.0010\n",
      "Epoch 3/3\n",
      "23/23 [==============================] - ETA: 0s - loss: 0.7016 - categorical_accuracy: 0.7451\n",
      "Epoch 00003: saving model to model_init_2023-03-2117_47_49.994018/model-00003-0.70164-0.74510-5.10166-0.15000.h5\n",
      "23/23 [==============================] - 94s 4s/step - loss: 0.7016 - categorical_accuracy: 0.7451 - val_loss: 5.1017 - val_categorical_accuracy: 0.1500 - lr: 0.0010\n"
     ]
    },
    {
     "data": {
      "text/plain": [
       "<keras.callbacks.History at 0x7ffa415078e0>"
      ]
     },
     "execution_count": 14,
     "metadata": {},
     "output_type": "execute_result"
    }
   ],
   "source": [
    "conv_3d1=ModelConv3D1()\n",
    "conv_3d1.initialize_path(project_folder)\n",
    "conv_3d1.initialize_image_properties(image_height=160,image_width=160)\n",
    "conv_3d1.initialize_hyperparams(frames_to_sample=16,batch_size=30,num_epochs=3)\n",
    "conv_3d1_model=conv_3d1.define_model()\n",
    "print(\"Total Params:\", conv_3d1_model.count_params())\n",
    "conv_3d1.train_model(conv_3d1_model)"
   ]
  },
  {
   "cell_type": "code",
   "execution_count": 15,
   "id": "41564c31",
   "metadata": {},
   "outputs": [
    {
     "name": "stdout",
     "output_type": "stream",
     "text": [
      "Total Params: 687813\n",
      "WARNING:tensorflow:`period` argument is deprecated. Please use `save_freq` to specify the frequency in number of batches seen.\n",
      "Epoch 1/2\n",
      "23/23 [==============================] - ETA: 0s - loss: 1.5242 - categorical_accuracy: 0.4103\n",
      "Epoch 00001: saving model to model_init_2023-03-2117_52_40.095783/model-00001-1.52421-0.41026-2.49810-0.21000.h5\n",
      "23/23 [==============================] - 158s 7s/step - loss: 1.5242 - categorical_accuracy: 0.4103 - val_loss: 2.4981 - val_categorical_accuracy: 0.2100 - lr: 0.0010\n",
      "Epoch 2/2\n",
      "23/23 [==============================] - ETA: 0s - loss: 0.9753 - categorical_accuracy: 0.6335\n",
      "Epoch 00002: saving model to model_init_2023-03-2117_52_40.095783/model-00002-0.97529-0.63348-4.59889-0.19000.h5\n",
      "23/23 [==============================] - 157s 7s/step - loss: 0.9753 - categorical_accuracy: 0.6335 - val_loss: 4.5989 - val_categorical_accuracy: 0.1900 - lr: 0.0010\n"
     ]
    },
    {
     "data": {
      "text/plain": [
       "<keras.callbacks.History at 0x7ffa40cb1700>"
      ]
     },
     "execution_count": 15,
     "metadata": {},
     "output_type": "execute_result"
    }
   ],
   "source": [
    "conv_3d1=ModelConv3D1()\n",
    "conv_3d1.initialize_path(project_folder)\n",
    "conv_3d1.initialize_image_properties(image_height=100,image_width=100)\n",
    "conv_3d1.initialize_hyperparams(frames_to_sample=30,batch_size=30,num_epochs=2)\n",
    "conv_3d1_model=conv_3d1.define_model()\n",
    "print(\"Total Params:\", conv_3d1_model.count_params())\n",
    "conv_3d1.train_model(conv_3d1_model)"
   ]
  },
  {
   "cell_type": "code",
   "execution_count": 16,
   "id": "8e9d3843",
   "metadata": {},
   "outputs": [
    {
     "name": "stdout",
     "output_type": "stream",
     "text": [
      "Total Params: 687813\n",
      "WARNING:tensorflow:`period` argument is deprecated. Please use `save_freq` to specify the frequency in number of batches seen.\n",
      "Epoch 1/2\n",
      "12/12 [==============================] - ETA: 0s - loss: 1.7031 - categorical_accuracy: 0.3786 \n",
      "Epoch 00001: saving model to model_init_2023-03-2117_58_01.126100/model-00001-1.70309-0.37858-1.66139-0.16000.h5\n",
      "12/12 [==============================] - 161s 14s/step - loss: 1.7031 - categorical_accuracy: 0.3786 - val_loss: 1.6614 - val_categorical_accuracy: 0.1600 - lr: 0.0010\n",
      "Epoch 2/2\n",
      "12/12 [==============================] - ETA: 0s - loss: 1.0778 - categorical_accuracy: 0.5837 \n",
      "Epoch 00002: saving model to model_init_2023-03-2117_58_01.126100/model-00002-1.07783-0.58371-2.60871-0.18000.h5\n",
      "12/12 [==============================] - 153s 14s/step - loss: 1.0778 - categorical_accuracy: 0.5837 - val_loss: 2.6087 - val_categorical_accuracy: 0.1800 - lr: 0.0010\n"
     ]
    },
    {
     "data": {
      "text/plain": [
       "<keras.callbacks.History at 0x7ffa40a0bf40>"
      ]
     },
     "execution_count": 16,
     "metadata": {},
     "output_type": "execute_result"
    }
   ],
   "source": [
    "conv_3d1=ModelConv3D1()\n",
    "conv_3d1.initialize_path(project_folder)\n",
    "conv_3d1.initialize_image_properties(image_height=100,image_width=100)\n",
    "conv_3d1.initialize_hyperparams(frames_to_sample=30,batch_size=60,num_epochs=2)\n",
    "conv_3d1_model=conv_3d1.define_model()\n",
    "print(\"Total Params:\", conv_3d1_model.count_params())\n",
    "conv_3d1.train_model(conv_3d1_model)"
   ]
  },
  {
   "cell_type": "code",
   "execution_count": 17,
   "id": "b24150ec",
   "metadata": {},
   "outputs": [
    {
     "name": "stdout",
     "output_type": "stream",
     "text": [
      "Total Params: 687813\n",
      "WARNING:tensorflow:`period` argument is deprecated. Please use `save_freq` to specify the frequency in number of batches seen.\n",
      "Epoch 1/2\n",
      "12/12 [==============================] - ETA: 0s - loss: 1.5594 - categorical_accuracy: 0.4087\n",
      "Epoch 00001: saving model to model_init_2023-03-2118_03_26.817058/model-00001-1.55940-0.40875-1.56504-0.33000.h5\n",
      "12/12 [==============================] - 86s 8s/step - loss: 1.5594 - categorical_accuracy: 0.4087 - val_loss: 1.5650 - val_categorical_accuracy: 0.3300 - lr: 0.0010\n",
      "Epoch 2/2\n",
      "12/12 [==============================] - ETA: 0s - loss: 1.0378 - categorical_accuracy: 0.6003\n",
      "Epoch 00002: saving model to model_init_2023-03-2118_03_26.817058/model-00002-1.03783-0.60030-2.02746-0.21000.h5\n",
      "12/12 [==============================] - 81s 7s/step - loss: 1.0378 - categorical_accuracy: 0.6003 - val_loss: 2.0275 - val_categorical_accuracy: 0.2100 - lr: 0.0010\n"
     ]
    },
    {
     "data": {
      "text/plain": [
       "<keras.callbacks.History at 0x7ffa406cb820>"
      ]
     },
     "execution_count": 17,
     "metadata": {},
     "output_type": "execute_result"
    }
   ],
   "source": [
    "conv_3d1=ModelConv3D1()\n",
    "conv_3d1.initialize_path(project_folder)\n",
    "conv_3d1.initialize_image_properties(image_height=100,image_width=100)\n",
    "conv_3d1.initialize_hyperparams(frames_to_sample=16,batch_size=60,num_epochs=2)\n",
    "conv_3d1_model=conv_3d1.define_model()\n",
    "print(\"Total Params:\", conv_3d1_model.count_params())\n",
    "conv_3d1.train_model(conv_3d1_model)"
   ]
  },
  {
   "cell_type": "code",
   "execution_count": 18,
   "id": "507da233",
   "metadata": {},
   "outputs": [
    {
     "name": "stdout",
     "output_type": "stream",
     "text": [
      "Total Params: 687813\n",
      "WARNING:tensorflow:`period` argument is deprecated. Please use `save_freq` to specify the frequency in number of batches seen.\n",
      "Epoch 1/2\n",
      "9/9 [==============================] - ETA: 0s - loss: 1.7467 - categorical_accuracy: 0.3710\n",
      "Epoch 00001: saving model to model_init_2023-03-2118_06_20.578652/model-00001-1.74667-0.37104-1.63713-0.16000.h5\n",
      "9/9 [==============================] - 86s 11s/step - loss: 1.7467 - categorical_accuracy: 0.3710 - val_loss: 1.6371 - val_categorical_accuracy: 0.1600 - lr: 0.0010\n",
      "Epoch 2/2\n",
      "9/9 [==============================] - ETA: 0s - loss: 1.0688 - categorical_accuracy: 0.5852\n",
      "Epoch 00002: saving model to model_init_2023-03-2118_06_20.578652/model-00002-1.06877-0.58522-2.20647-0.22000.h5\n",
      "9/9 [==============================] - 77s 10s/step - loss: 1.0688 - categorical_accuracy: 0.5852 - val_loss: 2.2065 - val_categorical_accuracy: 0.2200 - lr: 0.0010\n"
     ]
    },
    {
     "data": {
      "text/plain": [
       "<keras.callbacks.History at 0x7ffa40391940>"
      ]
     },
     "execution_count": 18,
     "metadata": {},
     "output_type": "execute_result"
    }
   ],
   "source": [
    "conv_3d1=ModelConv3D1()\n",
    "conv_3d1.initialize_path(project_folder)\n",
    "conv_3d1.initialize_image_properties(image_height=100,image_width=100)\n",
    "conv_3d1.initialize_hyperparams(frames_to_sample=16,batch_size=80,num_epochs=2)\n",
    "conv_3d1_model=conv_3d1.define_model()\n",
    "print(\"Total Params:\", conv_3d1_model.count_params())\n",
    "conv_3d1.train_model(conv_3d1_model)"
   ]
  },
  {
   "cell_type": "code",
   "execution_count": 19,
   "id": "ce38e3f9",
   "metadata": {},
   "outputs": [
    {
     "name": "stdout",
     "output_type": "stream",
     "text": [
      "Total Params: 1736389\n",
      "WARNING:tensorflow:`period` argument is deprecated. Please use `save_freq` to specify the frequency in number of batches seen.\n",
      "Epoch 1/2\n",
      "45/45 [==============================] - ETA: 0s - loss: 1.5026 - categorical_accuracy: 0.4284\n",
      "Epoch 00001: saving model to model_init_2023-03-2118_09_12.699416/model-00001-1.50259-0.42836-5.27060-0.16000.h5\n",
      "45/45 [==============================] - 180s 4s/step - loss: 1.5026 - categorical_accuracy: 0.4284 - val_loss: 5.2706 - val_categorical_accuracy: 0.1600 - lr: 0.0010\n",
      "Epoch 2/2\n",
      "45/45 [==============================] - ETA: 0s - loss: 0.9929 - categorical_accuracy: 0.6124\n",
      "Epoch 00002: saving model to model_init_2023-03-2118_09_12.699416/model-00002-0.99289-0.61237-8.34927-0.15000.h5\n",
      "45/45 [==============================] - 176s 4s/step - loss: 0.9929 - categorical_accuracy: 0.6124 - val_loss: 8.3493 - val_categorical_accuracy: 0.1500 - lr: 0.0010\n"
     ]
    },
    {
     "data": {
      "text/plain": [
       "<keras.callbacks.History at 0x7ffa4005e190>"
      ]
     },
     "execution_count": 19,
     "metadata": {},
     "output_type": "execute_result"
    }
   ],
   "source": [
    "conv_3d1=ModelConv3D1()\n",
    "conv_3d1.initialize_path(project_folder)\n",
    "conv_3d1.initialize_image_properties(image_height=160,image_width=160)\n",
    "conv_3d1.initialize_hyperparams(frames_to_sample=30,batch_size=15,num_epochs=2)\n",
    "conv_3d1_model=conv_3d1.define_model()\n",
    "print(\"Total Params:\", conv_3d1_model.count_params())\n",
    "conv_3d1.train_model(conv_3d1_model)"
   ]
  },
  {
   "cell_type": "code",
   "execution_count": 20,
   "id": "f70813a5",
   "metadata": {},
   "outputs": [
    {
     "name": "stdout",
     "output_type": "stream",
     "text": [
      "Total Params: 1736389\n",
      "WARNING:tensorflow:`period` argument is deprecated. Please use `save_freq` to specify the frequency in number of batches seen.\n",
      "Epoch 1/2\n",
      "45/45 [==============================] - ETA: 0s - loss: 1.4524 - categorical_accuracy: 0.4630\n",
      "Epoch 00001: saving model to model_init_2023-03-2118_15_11.442794/model-00001-1.45239-0.46305-7.76471-0.16000.h5\n",
      "45/45 [==============================] - 95s 2s/step - loss: 1.4524 - categorical_accuracy: 0.4630 - val_loss: 7.7647 - val_categorical_accuracy: 0.1600 - lr: 0.0010\n",
      "Epoch 2/2\n",
      "45/45 [==============================] - ETA: 0s - loss: 1.1253 - categorical_accuracy: 0.5852\n",
      "Epoch 00002: saving model to model_init_2023-03-2118_15_11.442794/model-00002-1.12525-0.58522-16.73376-0.17000.h5\n",
      "45/45 [==============================] - 93s 2s/step - loss: 1.1253 - categorical_accuracy: 0.5852 - val_loss: 16.7338 - val_categorical_accuracy: 0.1700 - lr: 0.0010\n"
     ]
    },
    {
     "data": {
      "text/plain": [
       "<keras.callbacks.History at 0x7ffa3635cd30>"
      ]
     },
     "execution_count": 20,
     "metadata": {},
     "output_type": "execute_result"
    }
   ],
   "source": [
    "conv_3d1=ModelConv3D1()\n",
    "conv_3d1.initialize_path(project_folder)\n",
    "conv_3d1.initialize_image_properties(image_height=160,image_width=160)\n",
    "conv_3d1.initialize_hyperparams(frames_to_sample=16,batch_size=15,num_epochs=2)\n",
    "conv_3d1_model=conv_3d1.define_model()\n",
    "print(\"Total Params:\", conv_3d1_model.count_params())\n",
    "conv_3d1.train_model(conv_3d1_model)"
   ]
  },
  {
   "cell_type": "code",
   "execution_count": 21,
   "id": "ac742871",
   "metadata": {},
   "outputs": [
    {
     "name": "stdout",
     "output_type": "stream",
     "text": [
      "Total Params: 687813\n",
      "WARNING:tensorflow:`period` argument is deprecated. Please use `save_freq` to specify the frequency in number of batches seen.\n",
      "Epoch 1/2\n",
      "45/45 [==============================] - ETA: 0s - loss: 1.6547 - categorical_accuracy: 0.3846\n",
      "Epoch 00001: saving model to model_init_2023-03-2118_18_21.979858/model-00001-1.65474-0.38462-4.96952-0.21000.h5\n",
      "45/45 [==============================] - 82s 2s/step - loss: 1.6547 - categorical_accuracy: 0.3846 - val_loss: 4.9695 - val_categorical_accuracy: 0.2100 - lr: 0.0010\n",
      "Epoch 2/2\n",
      "45/45 [==============================] - ETA: 0s - loss: 1.1961 - categorical_accuracy: 0.5354\n",
      "Epoch 00002: saving model to model_init_2023-03-2118_18_21.979858/model-00002-1.19610-0.53544-7.81179-0.21000.h5\n",
      "45/45 [==============================] - 82s 2s/step - loss: 1.1961 - categorical_accuracy: 0.5354 - val_loss: 7.8118 - val_categorical_accuracy: 0.2100 - lr: 0.0010\n"
     ]
    },
    {
     "data": {
      "text/plain": [
       "<keras.callbacks.History at 0x7ffa36070280>"
      ]
     },
     "execution_count": 21,
     "metadata": {},
     "output_type": "execute_result"
    }
   ],
   "source": [
    "conv_3d1=ModelConv3D1()\n",
    "conv_3d1.initialize_path(project_folder)\n",
    "conv_3d1.initialize_image_properties(image_height=100,image_width=100)\n",
    "conv_3d1.initialize_hyperparams(frames_to_sample=16,batch_size=15,num_epochs=2)\n",
    "conv_3d1_model=conv_3d1.define_model()\n",
    "print(\"Total Params:\", conv_3d1_model.count_params())\n",
    "conv_3d1.train_model(conv_3d1_model)"
   ]
  },
  {
   "cell_type": "code",
   "execution_count": 22,
   "id": "4b2ab9ca",
   "metadata": {},
   "outputs": [
    {
     "name": "stdout",
     "output_type": "stream",
     "text": [
      "Total Params: 687813\n",
      "WARNING:tensorflow:`period` argument is deprecated. Please use `save_freq` to specify the frequency in number of batches seen.\n",
      "Epoch 1/2\n",
      "67/67 [==============================] - ETA: 0s - loss: 1.7222 - categorical_accuracy: 0.3469\n",
      "Epoch 00001: saving model to model_init_2023-03-2118_21_46.475559/model-00001-1.72223-0.34691-1.97276-0.18000.h5\n",
      "67/67 [==============================] - 82s 1s/step - loss: 1.7222 - categorical_accuracy: 0.3469 - val_loss: 1.9728 - val_categorical_accuracy: 0.1800 - lr: 0.0010\n",
      "Epoch 2/2\n",
      "67/67 [==============================] - ETA: 0s - loss: 1.2443 - categorical_accuracy: 0.5294\n",
      "Epoch 00002: saving model to model_init_2023-03-2118_21_46.475559/model-00002-1.24431-0.52941-3.92973-0.18000.h5\n",
      "67/67 [==============================] - 82s 1s/step - loss: 1.2443 - categorical_accuracy: 0.5294 - val_loss: 3.9297 - val_categorical_accuracy: 0.1800 - lr: 0.0010\n"
     ]
    },
    {
     "data": {
      "text/plain": [
       "<keras.callbacks.History at 0x7ffa35ce8ac0>"
      ]
     },
     "execution_count": 22,
     "metadata": {},
     "output_type": "execute_result"
    }
   ],
   "source": [
    "conv_3d1=ModelConv3D1()\n",
    "conv_3d1.initialize_path(project_folder)\n",
    "conv_3d1.initialize_image_properties(image_height=100,image_width=100)\n",
    "conv_3d1.initialize_hyperparams(frames_to_sample=16,batch_size=10,num_epochs=2)\n",
    "conv_3d1_model=conv_3d1.define_model()\n",
    "print(\"Total Params:\", conv_3d1_model.count_params())\n",
    "conv_3d1.train_model(conv_3d1_model)"
   ]
  },
  {
   "cell_type": "code",
   "execution_count": 23,
   "id": "07f103ac",
   "metadata": {},
   "outputs": [
    {
     "name": "stdout",
     "output_type": "stream",
     "text": [
      "Total Params: 687813\n",
      "WARNING:tensorflow:`period` argument is deprecated. Please use `save_freq` to specify the frequency in number of batches seen.\n",
      "Epoch 1/2\n",
      "67/67 [==============================] - ETA: 0s - loss: 1.5840 - categorical_accuracy: 0.3937\n",
      "Epoch 00001: saving model to model_init_2023-03-2118_24_31.583435/model-00001-1.58403-0.39367-3.39641-0.16000.h5\n",
      "67/67 [==============================] - 156s 2s/step - loss: 1.5840 - categorical_accuracy: 0.3937 - val_loss: 3.3964 - val_categorical_accuracy: 0.1600 - lr: 0.0010\n",
      "Epoch 2/2\n",
      "67/67 [==============================] - ETA: 0s - loss: 1.1266 - categorical_accuracy: 0.5686\n",
      "Epoch 00002: saving model to model_init_2023-03-2118_24_31.583435/model-00002-1.12658-0.56863-3.96866-0.18000.h5\n",
      "67/67 [==============================] - 153s 2s/step - loss: 1.1266 - categorical_accuracy: 0.5686 - val_loss: 3.9687 - val_categorical_accuracy: 0.1800 - lr: 0.0010\n"
     ]
    },
    {
     "data": {
      "text/plain": [
       "<keras.callbacks.History at 0x7ffa359b2c70>"
      ]
     },
     "execution_count": 23,
     "metadata": {},
     "output_type": "execute_result"
    }
   ],
   "source": [
    "conv_3d1=ModelConv3D1()\n",
    "conv_3d1.initialize_path(project_folder)\n",
    "conv_3d1.initialize_image_properties(image_height=100,image_width=100)\n",
    "conv_3d1.initialize_hyperparams(frames_to_sample=30,batch_size=10,num_epochs=2)\n",
    "conv_3d1_model=conv_3d1.define_model()\n",
    "print(\"Total Params:\", conv_3d1_model.count_params())\n",
    "conv_3d1.train_model(conv_3d1_model)"
   ]
  },
  {
   "cell_type": "code",
   "execution_count": 24,
   "id": "2a970f4f",
   "metadata": {},
   "outputs": [
    {
     "name": "stdout",
     "output_type": "stream",
     "text": [
      "Total Params: 1736389\n",
      "WARNING:tensorflow:`period` argument is deprecated. Please use `save_freq` to specify the frequency in number of batches seen.\n",
      "Epoch 1/2\n",
      "67/67 [==============================] - ETA: 0s - loss: 1.4722 - categorical_accuracy: 0.4676\n",
      "Epoch 00001: saving model to model_init_2023-03-2118_29_42.145418/model-00001-1.47218-0.46757-6.10743-0.22000.h5\n",
      "67/67 [==============================] - 176s 3s/step - loss: 1.4722 - categorical_accuracy: 0.4676 - val_loss: 6.1074 - val_categorical_accuracy: 0.2200 - lr: 0.0010\n",
      "Epoch 2/2\n",
      "67/67 [==============================] - ETA: 0s - loss: 1.0686 - categorical_accuracy: 0.6124\n",
      "Epoch 00002: saving model to model_init_2023-03-2118_29_42.145418/model-00002-1.06862-0.61237-3.94089-0.21000.h5\n",
      "67/67 [==============================] - 175s 3s/step - loss: 1.0686 - categorical_accuracy: 0.6124 - val_loss: 3.9409 - val_categorical_accuracy: 0.2100 - lr: 0.0010\n"
     ]
    },
    {
     "data": {
      "text/plain": [
       "<keras.callbacks.History at 0x7ffa35673760>"
      ]
     },
     "execution_count": 24,
     "metadata": {},
     "output_type": "execute_result"
    }
   ],
   "source": [
    "conv_3d1=ModelConv3D1()\n",
    "conv_3d1.initialize_path(project_folder)\n",
    "conv_3d1.initialize_image_properties(image_height=160,image_width=160)\n",
    "conv_3d1.initialize_hyperparams(frames_to_sample=30,batch_size=10,num_epochs=2)\n",
    "conv_3d1_model=conv_3d1.define_model()\n",
    "print(\"Total Params:\", conv_3d1_model.count_params())\n",
    "conv_3d1.train_model(conv_3d1_model)"
   ]
  },
  {
   "cell_type": "code",
   "execution_count": 25,
   "id": "0e94024f",
   "metadata": {},
   "outputs": [
    {
     "name": "stdout",
     "output_type": "stream",
     "text": [
      "Total Params: 1736389\n",
      "WARNING:tensorflow:`period` argument is deprecated. Please use `save_freq` to specify the frequency in number of batches seen.\n",
      "Epoch 1/2\n",
      "67/67 [==============================] - ETA: 0s - loss: 1.6578 - categorical_accuracy: 0.4178\n",
      "Epoch 00001: saving model to model_init_2023-03-2118_35_35.261548/model-00001-1.65781-0.41780-13.15850-0.16000.h5\n",
      "67/67 [==============================] - 96s 1s/step - loss: 1.6578 - categorical_accuracy: 0.4178 - val_loss: 13.1585 - val_categorical_accuracy: 0.1600 - lr: 0.0010\n",
      "Epoch 2/2\n",
      "67/67 [==============================] - ETA: 0s - loss: 1.1840 - categorical_accuracy: 0.5370\n",
      "Epoch 00002: saving model to model_init_2023-03-2118_35_35.261548/model-00002-1.18396-0.53695-8.45696-0.22000.h5\n",
      "67/67 [==============================] - 94s 1s/step - loss: 1.1840 - categorical_accuracy: 0.5370 - val_loss: 8.4570 - val_categorical_accuracy: 0.2200 - lr: 0.0010\n"
     ]
    },
    {
     "data": {
      "text/plain": [
       "<keras.callbacks.History at 0x7ffa35381cd0>"
      ]
     },
     "execution_count": 25,
     "metadata": {},
     "output_type": "execute_result"
    }
   ],
   "source": [
    "conv_3d1=ModelConv3D1()\n",
    "conv_3d1.initialize_path(project_folder)\n",
    "conv_3d1.initialize_image_properties(image_height=160,image_width=160)\n",
    "conv_3d1.initialize_hyperparams(frames_to_sample=16,batch_size=10,num_epochs=2)\n",
    "conv_3d1_model=conv_3d1.define_model()\n",
    "print(\"Total Params:\", conv_3d1_model.count_params())\n",
    "conv_3d1.train_model(conv_3d1_model)"
   ]
  },
  {
   "cell_type": "code",
   "execution_count": 26,
   "id": "8805c1d3",
   "metadata": {},
   "outputs": [
    {
     "name": "stdout",
     "output_type": "stream",
     "text": [
      "Total Params: 1736389\n",
      "WARNING:tensorflow:`period` argument is deprecated. Please use `save_freq` to specify the frequency in number of batches seen.\n",
      "Epoch 1/2\n",
      "17/17 [==============================] - ETA: 0s - loss: 1.4707 - categorical_accuracy: 0.4329\n",
      "Epoch 00001: saving model to model_init_2023-03-2118_38_46.247048/model-00001-1.47073-0.43288-2.50488-0.21000.h5\n",
      "17/17 [==============================] - 97s 6s/step - loss: 1.4707 - categorical_accuracy: 0.4329 - val_loss: 2.5049 - val_categorical_accuracy: 0.2100 - lr: 0.0010\n",
      "Epoch 2/2\n",
      "17/17 [==============================] - ETA: 0s - loss: 0.8498 - categorical_accuracy: 0.6802\n",
      "Epoch 00002: saving model to model_init_2023-03-2118_38_46.247048/model-00002-0.84978-0.68024-5.45865-0.21000.h5\n",
      "17/17 [==============================] - 94s 6s/step - loss: 0.8498 - categorical_accuracy: 0.6802 - val_loss: 5.4587 - val_categorical_accuracy: 0.2100 - lr: 0.0010\n"
     ]
    },
    {
     "data": {
      "text/plain": [
       "<keras.callbacks.History at 0x7ffa14291ca0>"
      ]
     },
     "execution_count": 26,
     "metadata": {},
     "output_type": "execute_result"
    }
   ],
   "source": [
    "conv_3d1=ModelConv3D1()\n",
    "conv_3d1.initialize_path(project_folder)\n",
    "conv_3d1.initialize_image_properties(image_height=160,image_width=160)\n",
    "conv_3d1.initialize_hyperparams(frames_to_sample=16,batch_size=40,num_epochs=2)\n",
    "conv_3d1_model=conv_3d1.define_model()\n",
    "print(\"Total Params:\", conv_3d1_model.count_params())\n",
    "conv_3d1.train_model(conv_3d1_model)"
   ]
  },
  {
   "cell_type": "code",
   "execution_count": 27,
   "id": "62f28e0d",
   "metadata": {},
   "outputs": [],
   "source": [
    "#As we see from the above experiments image resolution and number of frames in sequence have more impact on training time than batch_size"
   ]
  },
  {
   "cell_type": "raw",
   "id": "cefc156c",
   "metadata": {},
   "source": [
    "#So experimentations are carried with batch size fixed around 15-40 and changing the resolution and number of image per sequence based on the device memory constraints . Models are designed such that their memory foot print is less than 50 MB which corresponds to 4.3 million parameters assuming the datatype size of parameters to be 12 bytes"
   ]
  },
  {
   "cell_type": "raw",
   "id": "a61f5572",
   "metadata": {},
   "source": [
    "#Model 1 - Base Model - No Data Augmentation Batch Size 40 and Epoch 15"
   ]
  },
  {
   "cell_type": "code",
   "execution_count": 31,
   "id": "2588989e",
   "metadata": {},
   "outputs": [],
   "source": [
    "class ModelConv3D1(ModelBuilder):\n",
    "    \n",
    "    def define_model(self,filtersize=(3,3,3),dense_neurons=64,dropout=0.25):\n",
    "\n",
    "        model = Sequential()\n",
    "        model.add(Conv3D(16, filtersize, padding='same',\n",
    "                 input_shape=(self.frames_to_sample,self.image_height,self.image_width,self.channels)))\n",
    "        model.add(Activation('relu'))\n",
    "        model.add(BatchNormalization())\n",
    "        model.add(MaxPooling3D(pool_size=(2, 2, 2)))\n",
    "\n",
    "        model.add(Conv3D(32, filtersize, padding='same'))\n",
    "        model.add(Activation('relu'))\n",
    "        model.add(BatchNormalization())\n",
    "        model.add(MaxPooling3D(pool_size=(2, 2, 2)))\n",
    "\n",
    "        model.add(Conv3D(64, filtersize, padding='same'))\n",
    "        model.add(Activation('relu'))\n",
    "        model.add(BatchNormalization())\n",
    "        model.add(MaxPooling3D(pool_size=(2, 2, 2)))\n",
    "\n",
    "        model.add(Conv3D(128, filtersize, padding='same'))\n",
    "        model.add(Activation('relu'))\n",
    "        model.add(BatchNormalization())\n",
    "        model.add(MaxPooling3D(pool_size=(2, 2, 2)))\n",
    "\n",
    "        model.add(Flatten())\n",
    "        model.add(Dense(dense_neurons,activation='relu'))\n",
    "        model.add(BatchNormalization())\n",
    "        model.add(Dropout(dropout))\n",
    "\n",
    "        model.add(Dense(dense_neurons,activation='relu'))\n",
    "        model.add(BatchNormalization())\n",
    "        model.add(Dropout(dropout))\n",
    "\n",
    "\n",
    "        model.add(Dense(self.num_classes,activation='softmax'))\n",
    "\n",
    "        optimiser = tf.optimizers.Adam()\n",
    "        model.compile(optimizer=optimiser, loss='categorical_crossentropy', metrics=['categorical_accuracy'])\n",
    "        return model"
   ]
  },
  {
   "cell_type": "code",
   "execution_count": 32,
   "id": "9a9d2ded",
   "metadata": {},
   "outputs": [
    {
     "name": "stdout",
     "output_type": "stream",
     "text": [
      "Model: \"sequential_16\"\n",
      "_________________________________________________________________\n",
      " Layer (type)                Output Shape              Param #   \n",
      "=================================================================\n",
      " conv3d_64 (Conv3D)          (None, 20, 160, 160, 16)  1312      \n",
      "                                                                 \n",
      " activation_64 (Activation)  (None, 20, 160, 160, 16)  0         \n",
      "                                                                 \n",
      " batch_normalization_96 (Bat  (None, 20, 160, 160, 16)  64       \n",
      " chNormalization)                                                \n",
      "                                                                 \n",
      " max_pooling3d_64 (MaxPoolin  (None, 10, 80, 80, 16)   0         \n",
      " g3D)                                                            \n",
      "                                                                 \n",
      " conv3d_65 (Conv3D)          (None, 10, 80, 80, 32)    13856     \n",
      "                                                                 \n",
      " activation_65 (Activation)  (None, 10, 80, 80, 32)    0         \n",
      "                                                                 \n",
      " batch_normalization_97 (Bat  (None, 10, 80, 80, 32)   128       \n",
      " chNormalization)                                                \n",
      "                                                                 \n",
      " max_pooling3d_65 (MaxPoolin  (None, 5, 40, 40, 32)    0         \n",
      " g3D)                                                            \n",
      "                                                                 \n",
      " conv3d_66 (Conv3D)          (None, 5, 40, 40, 64)     55360     \n",
      "                                                                 \n",
      " activation_66 (Activation)  (None, 5, 40, 40, 64)     0         \n",
      "                                                                 \n",
      " batch_normalization_98 (Bat  (None, 5, 40, 40, 64)    256       \n",
      " chNormalization)                                                \n",
      "                                                                 \n",
      " max_pooling3d_66 (MaxPoolin  (None, 2, 20, 20, 64)    0         \n",
      " g3D)                                                            \n",
      "                                                                 \n",
      " conv3d_67 (Conv3D)          (None, 2, 20, 20, 128)    221312    \n",
      "                                                                 \n",
      " activation_67 (Activation)  (None, 2, 20, 20, 128)    0         \n",
      "                                                                 \n",
      " batch_normalization_99 (Bat  (None, 2, 20, 20, 128)   512       \n",
      " chNormalization)                                                \n",
      "                                                                 \n",
      " max_pooling3d_67 (MaxPoolin  (None, 1, 10, 10, 128)   0         \n",
      " g3D)                                                            \n",
      "                                                                 \n",
      " flatten_16 (Flatten)        (None, 12800)             0         \n",
      "                                                                 \n",
      " dense_48 (Dense)            (None, 64)                819264    \n",
      "                                                                 \n",
      " batch_normalization_100 (Ba  (None, 64)               256       \n",
      " tchNormalization)                                               \n",
      "                                                                 \n",
      " dropout_32 (Dropout)        (None, 64)                0         \n",
      "                                                                 \n",
      " dense_49 (Dense)            (None, 64)                4160      \n",
      "                                                                 \n",
      " batch_normalization_101 (Ba  (None, 64)               256       \n",
      " tchNormalization)                                               \n",
      "                                                                 \n",
      " dropout_33 (Dropout)        (None, 64)                0         \n",
      "                                                                 \n",
      " dense_50 (Dense)            (None, 5)                 325       \n",
      "                                                                 \n",
      "=================================================================\n",
      "Total params: 1,117,061\n",
      "Trainable params: 1,116,325\n",
      "Non-trainable params: 736\n",
      "_________________________________________________________________\n"
     ]
    }
   ],
   "source": [
    "conv_3d1=ModelConv3D1()\n",
    "conv_3d1.initialize_path(project_folder)\n",
    "conv_3d1.initialize_image_properties(image_height=160,image_width=160)\n",
    "conv_3d1.initialize_hyperparams(frames_to_sample=20,batch_size=40,num_epochs=15)\n",
    "conv_3d1_model=conv_3d1.define_model()\n",
    "conv_3d1_model.summary()"
   ]
  },
  {
   "cell_type": "code",
   "execution_count": 33,
   "id": "68a6924f",
   "metadata": {},
   "outputs": [
    {
     "name": "stdout",
     "output_type": "stream",
     "text": [
      "Total Params: 1117061\n",
      "WARNING:tensorflow:`period` argument is deprecated. Please use `save_freq` to specify the frequency in number of batches seen.\n",
      "Epoch 1/15\n",
      "17/17 [==============================] - ETA: 0s - loss: 1.5558 - categorical_accuracy: 0.4178\n",
      "Epoch 00001: saving model to model_init_2023-03-2118_58_47.987144/model-00001-1.55583-0.41780-1.59838-0.22000.h5\n",
      "17/17 [==============================] - 119s 7s/step - loss: 1.5558 - categorical_accuracy: 0.4178 - val_loss: 1.5984 - val_categorical_accuracy: 0.2200 - lr: 0.0010\n",
      "Epoch 2/15\n",
      "17/17 [==============================] - ETA: 0s - loss: 0.9532 - categorical_accuracy: 0.6335\n",
      "Epoch 00002: saving model to model_init_2023-03-2118_58_47.987144/model-00002-0.95321-0.63348-2.13300-0.19000.h5\n",
      "17/17 [==============================] - 117s 7s/step - loss: 0.9532 - categorical_accuracy: 0.6335 - val_loss: 2.1330 - val_categorical_accuracy: 0.1900 - lr: 0.0010\n",
      "Epoch 3/15\n",
      "17/17 [==============================] - ETA: 0s - loss: 0.6332 - categorical_accuracy: 0.7617\n",
      "Epoch 00003: saving model to model_init_2023-03-2118_58_47.987144/model-00003-0.63321-0.76169-2.48607-0.29000.h5\n",
      "17/17 [==============================] - 114s 7s/step - loss: 0.6332 - categorical_accuracy: 0.7617 - val_loss: 2.4861 - val_categorical_accuracy: 0.2900 - lr: 0.0010\n",
      "Epoch 4/15\n",
      "17/17 [==============================] - ETA: 0s - loss: 0.5023 - categorical_accuracy: 0.8190\n",
      "Epoch 00004: saving model to model_init_2023-03-2118_58_47.987144/model-00004-0.50226-0.81900-3.10667-0.23000.h5\n",
      "17/17 [==============================] - 116s 7s/step - loss: 0.5023 - categorical_accuracy: 0.8190 - val_loss: 3.1067 - val_categorical_accuracy: 0.2300 - lr: 0.0010\n",
      "Epoch 5/15\n",
      "17/17 [==============================] - ETA: 0s - loss: 0.2752 - categorical_accuracy: 0.9291\n",
      "Epoch 00005: saving model to model_init_2023-03-2118_58_47.987144/model-00005-0.27522-0.92911-3.96502-0.21000.h5\n",
      "\n",
      "Epoch 00005: ReduceLROnPlateau reducing learning rate to 0.00020000000949949026.\n",
      "17/17 [==============================] - 116s 7s/step - loss: 0.2752 - categorical_accuracy: 0.9291 - val_loss: 3.9650 - val_categorical_accuracy: 0.2100 - lr: 0.0010\n",
      "Epoch 6/15\n",
      "17/17 [==============================] - ETA: 0s - loss: 0.2067 - categorical_accuracy: 0.9382\n",
      "Epoch 00006: saving model to model_init_2023-03-2118_58_47.987144/model-00006-0.20672-0.93816-3.91731-0.28000.h5\n",
      "17/17 [==============================] - 113s 7s/step - loss: 0.2067 - categorical_accuracy: 0.9382 - val_loss: 3.9173 - val_categorical_accuracy: 0.2800 - lr: 2.0000e-04\n",
      "Epoch 7/15\n",
      "17/17 [==============================] - ETA: 0s - loss: 0.1613 - categorical_accuracy: 0.9668\n",
      "Epoch 00007: saving model to model_init_2023-03-2118_58_47.987144/model-00007-0.16130-0.96682-4.30553-0.22000.h5\n",
      "17/17 [==============================] - 113s 7s/step - loss: 0.1613 - categorical_accuracy: 0.9668 - val_loss: 4.3055 - val_categorical_accuracy: 0.2200 - lr: 2.0000e-04\n",
      "Epoch 8/15\n",
      "17/17 [==============================] - ETA: 0s - loss: 0.1434 - categorical_accuracy: 0.9713\n",
      "Epoch 00008: saving model to model_init_2023-03-2118_58_47.987144/model-00008-0.14336-0.97134-4.64383-0.20000.h5\n",
      "17/17 [==============================] - 114s 7s/step - loss: 0.1434 - categorical_accuracy: 0.9713 - val_loss: 4.6438 - val_categorical_accuracy: 0.2000 - lr: 2.0000e-04\n",
      "Epoch 9/15\n",
      "17/17 [==============================] - ETA: 0s - loss: 0.1322 - categorical_accuracy: 0.9774\n",
      "Epoch 00009: saving model to model_init_2023-03-2118_58_47.987144/model-00009-0.13225-0.97738-4.71751-0.23000.h5\n",
      "\n",
      "Epoch 00009: ReduceLROnPlateau reducing learning rate to 4.0000001899898055e-05.\n",
      "17/17 [==============================] - 110s 7s/step - loss: 0.1322 - categorical_accuracy: 0.9774 - val_loss: 4.7175 - val_categorical_accuracy: 0.2300 - lr: 2.0000e-04\n",
      "Epoch 10/15\n",
      "17/17 [==============================] - ETA: 0s - loss: 0.1305 - categorical_accuracy: 0.9804\n",
      "Epoch 00010: saving model to model_init_2023-03-2118_58_47.987144/model-00010-0.13049-0.98039-4.82139-0.25000.h5\n",
      "17/17 [==============================] - 113s 7s/step - loss: 0.1305 - categorical_accuracy: 0.9804 - val_loss: 4.8214 - val_categorical_accuracy: 0.2500 - lr: 4.0000e-05\n",
      "Epoch 11/15\n",
      "17/17 [==============================] - ETA: 0s - loss: 0.1118 - categorical_accuracy: 0.9864\n",
      "Epoch 00011: saving model to model_init_2023-03-2118_58_47.987144/model-00011-0.11176-0.98643-4.74566-0.25000.h5\n",
      "17/17 [==============================] - 114s 7s/step - loss: 0.1118 - categorical_accuracy: 0.9864 - val_loss: 4.7457 - val_categorical_accuracy: 0.2500 - lr: 4.0000e-05\n",
      "Epoch 12/15\n",
      "17/17 [==============================] - ETA: 0s - loss: 0.1095 - categorical_accuracy: 0.9834\n",
      "Epoch 00012: saving model to model_init_2023-03-2118_58_47.987144/model-00012-0.10951-0.98341-4.85975-0.21000.h5\n",
      "17/17 [==============================] - 110s 7s/step - loss: 0.1095 - categorical_accuracy: 0.9834 - val_loss: 4.8598 - val_categorical_accuracy: 0.2100 - lr: 4.0000e-05\n",
      "Epoch 13/15\n",
      "17/17 [==============================] - ETA: 0s - loss: 0.0998 - categorical_accuracy: 0.9849\n",
      "Epoch 00013: saving model to model_init_2023-03-2118_58_47.987144/model-00013-0.09985-0.98492-4.58968-0.25000.h5\n",
      "\n",
      "Epoch 00013: ReduceLROnPlateau reducing learning rate to 8.000000525498762e-06.\n",
      "17/17 [==============================] - 125s 8s/step - loss: 0.0998 - categorical_accuracy: 0.9849 - val_loss: 4.5897 - val_categorical_accuracy: 0.2500 - lr: 4.0000e-05\n",
      "Epoch 14/15\n",
      "17/17 [==============================] - ETA: 0s - loss: 0.1073 - categorical_accuracy: 0.9804\n",
      "Epoch 00014: saving model to model_init_2023-03-2118_58_47.987144/model-00014-0.10730-0.98039-4.52480-0.25000.h5\n",
      "17/17 [==============================] - 122s 8s/step - loss: 0.1073 - categorical_accuracy: 0.9804 - val_loss: 4.5248 - val_categorical_accuracy: 0.2500 - lr: 8.0000e-06\n",
      "Epoch 15/15\n",
      "17/17 [==============================] - ETA: 0s - loss: 0.1015 - categorical_accuracy: 0.9894\n",
      "Epoch 00015: saving model to model_init_2023-03-2118_58_47.987144/model-00015-0.10153-0.98944-4.18236-0.28000.h5\n",
      "17/17 [==============================] - 119s 7s/step - loss: 0.1015 - categorical_accuracy: 0.9894 - val_loss: 4.1824 - val_categorical_accuracy: 0.2800 - lr: 8.0000e-06\n"
     ]
    }
   ],
   "source": [
    "print(\"Total Params:\", conv_3d1_model.count_params())\n",
    "history_model1 = conv_3d1.train_model(conv_3d1_model)"
   ]
  },
  {
   "cell_type": "code",
   "execution_count": 34,
   "id": "387c75e2",
   "metadata": {},
   "outputs": [
    {
     "data": {
      "image/png": "[encoded data removed]",
      "text/plain": [
       "<Figure size 1080x288 with 2 Axes>"
      ]
     },
     "metadata": {
      "needs_background": "light"
     },
     "output_type": "display_data"
    }
   ],
   "source": [
    "plot(history_model1)"
   ]
  },
  {
   "cell_type": "raw",
   "id": "a63f46fb",
   "metadata": {},
   "source": [
    "Model is clearly overfitting. So we need to do data augmentation"
   ]
  },
  {
   "cell_type": "code",
   "execution_count": 35,
   "id": "55b6d3cc",
   "metadata": {},
   "outputs": [],
   "source": [
    "#Model 2 - Augment Data , (3,3,3) filter & 160x160 image resolution"
   ]
  },
  {
   "cell_type": "code",
   "execution_count": 36,
   "id": "622decec",
   "metadata": {},
   "outputs": [
    {
     "name": "stdout",
     "output_type": "stream",
     "text": [
      "Model: \"sequential_17\"\n",
      "_________________________________________________________________\n",
      " Layer (type)                Output Shape              Param #   \n",
      "=================================================================\n",
      " conv3d_68 (Conv3D)          (None, 20, 160, 160, 16)  1312      \n",
      "                                                                 \n",
      " activation_68 (Activation)  (None, 20, 160, 160, 16)  0         \n",
      "                                                                 \n",
      " batch_normalization_102 (Ba  (None, 20, 160, 160, 16)  64       \n",
      " tchNormalization)                                               \n",
      "                                                                 \n",
      " max_pooling3d_68 (MaxPoolin  (None, 10, 80, 80, 16)   0         \n",
      " g3D)                                                            \n",
      "                                                                 \n",
      " conv3d_69 (Conv3D)          (None, 10, 80, 80, 32)    13856     \n",
      "                                                                 \n",
      " activation_69 (Activation)  (None, 10, 80, 80, 32)    0         \n",
      "                                                                 \n",
      " batch_normalization_103 (Ba  (None, 10, 80, 80, 32)   128       \n",
      " tchNormalization)                                               \n",
      "                                                                 \n",
      " max_pooling3d_69 (MaxPoolin  (None, 5, 40, 40, 32)    0         \n",
      " g3D)                                                            \n",
      "                                                                 \n",
      " conv3d_70 (Conv3D)          (None, 5, 40, 40, 64)     55360     \n",
      "                                                                 \n",
      " activation_70 (Activation)  (None, 5, 40, 40, 64)     0         \n",
      "                                                                 \n",
      " batch_normalization_104 (Ba  (None, 5, 40, 40, 64)    256       \n",
      " tchNormalization)                                               \n",
      "                                                                 \n",
      " max_pooling3d_70 (MaxPoolin  (None, 2, 20, 20, 64)    0         \n",
      " g3D)                                                            \n",
      "                                                                 \n",
      " conv3d_71 (Conv3D)          (None, 2, 20, 20, 128)    221312    \n",
      "                                                                 \n",
      " activation_71 (Activation)  (None, 2, 20, 20, 128)    0         \n",
      "                                                                 \n",
      " batch_normalization_105 (Ba  (None, 2, 20, 20, 128)   512       \n",
      " tchNormalization)                                               \n",
      "                                                                 \n",
      " max_pooling3d_71 (MaxPoolin  (None, 1, 10, 10, 128)   0         \n",
      " g3D)                                                            \n",
      "                                                                 \n",
      " flatten_17 (Flatten)        (None, 12800)             0         \n",
      "                                                                 \n",
      " dense_51 (Dense)            (None, 256)               3277056   \n",
      "                                                                 \n",
      " batch_normalization_106 (Ba  (None, 256)              1024      \n",
      " tchNormalization)                                               \n",
      "                                                                 \n",
      " dropout_34 (Dropout)        (None, 256)               0         \n",
      "                                                                 \n",
      " dense_52 (Dense)            (None, 256)               65792     \n",
      "                                                                 \n",
      " batch_normalization_107 (Ba  (None, 256)              1024      \n",
      " tchNormalization)                                               \n",
      "                                                                 \n",
      " dropout_35 (Dropout)        (None, 256)               0         \n",
      "                                                                 \n",
      " dense_53 (Dense)            (None, 5)                 1285      \n",
      "                                                                 \n",
      "=================================================================\n",
      "Total params: 3,638,981\n",
      "Trainable params: 3,637,477\n",
      "Non-trainable params: 1,504\n",
      "_________________________________________________________________\n"
     ]
    }
   ],
   "source": [
    "conv_3d2=ModelConv3D1()\n",
    "conv_3d2.initialize_path(project_folder)\n",
    "conv_3d2.initialize_image_properties(image_height=160,image_width=160)\n",
    "conv_3d2.initialize_hyperparams(frames_to_sample=20,batch_size=20,num_epochs=25)\n",
    "conv_3d2_model=conv_3d2.define_model(dense_neurons=256,dropout=0.5)\n",
    "conv_3d2_model.summary()"
   ]
  },
  {
   "cell_type": "code",
   "execution_count": 37,
   "id": "b574f3be",
   "metadata": {},
   "outputs": [
    {
     "name": "stdout",
     "output_type": "stream",
     "text": [
      "Total Params: 3638981\n",
      "WARNING:tensorflow:`period` argument is deprecated. Please use `save_freq` to specify the frequency in number of batches seen.\n",
      "Epoch 1/25\n",
      "34/34 [==============================] - ETA: 0s - loss: 1.8898 - categorical_accuracy: 0.3786\n",
      "Epoch 00001: saving model to model_init_2023-03-2119_27_51.824158/model-00001-1.88980-0.37858-1.45521-0.45000.h5\n",
      "34/34 [==============================] - 226s 7s/step - loss: 1.8898 - categorical_accuracy: 0.3786 - val_loss: 1.4552 - val_categorical_accuracy: 0.4500 - lr: 0.0010\n",
      "Epoch 2/25\n",
      "34/34 [==============================] - ETA: 0s - loss: 1.3840 - categorical_accuracy: 0.5158\n",
      "Epoch 00002: saving model to model_init_2023-03-2119_27_51.824158/model-00002-1.38395-0.51584-3.37901-0.22000.h5\n",
      "34/34 [==============================] - 227s 7s/step - loss: 1.3840 - categorical_accuracy: 0.5158 - val_loss: 3.3790 - val_categorical_accuracy: 0.2200 - lr: 0.0010\n",
      "Epoch 3/25\n",
      "34/34 [==============================] - ETA: 0s - loss: 1.2143 - categorical_accuracy: 0.5739\n",
      "Epoch 00003: saving model to model_init_2023-03-2119_27_51.824158/model-00003-1.21434-0.57391-5.49624-0.18000.h5\n",
      "34/34 [==============================] - 227s 7s/step - loss: 1.2143 - categorical_accuracy: 0.5739 - val_loss: 5.4962 - val_categorical_accuracy: 0.1800 - lr: 0.0010\n",
      "Epoch 4/25\n",
      "34/34 [==============================] - ETA: 0s - loss: 1.0305 - categorical_accuracy: 0.6320\n",
      "Epoch 00004: saving model to model_init_2023-03-2119_27_51.824158/model-00004-1.03055-0.63198-5.68141-0.18000.h5\n",
      "34/34 [==============================] - 224s 7s/step - loss: 1.0305 - categorical_accuracy: 0.6320 - val_loss: 5.6814 - val_categorical_accuracy: 0.1800 - lr: 0.0010\n",
      "Epoch 5/25\n",
      "34/34 [==============================] - ETA: 0s - loss: 0.7167 - categorical_accuracy: 0.7293\n",
      "Epoch 00005: saving model to model_init_2023-03-2119_27_51.824158/model-00005-0.71667-0.72926-6.19377-0.30000.h5\n",
      "\n",
      "Epoch 00005: ReduceLROnPlateau reducing learning rate to 0.00020000000949949026.\n",
      "34/34 [==============================] - 225s 7s/step - loss: 0.7167 - categorical_accuracy: 0.7293 - val_loss: 6.1938 - val_categorical_accuracy: 0.3000 - lr: 0.0010\n",
      "Epoch 6/25\n",
      "34/34 [==============================] - ETA: 0s - loss: 0.4672 - categorical_accuracy: 0.8183\n",
      "Epoch 00006: saving model to model_init_2023-03-2119_27_51.824158/model-00006-0.46722-0.81825-6.92287-0.27000.h5\n",
      "34/34 [==============================] - 224s 7s/step - loss: 0.4672 - categorical_accuracy: 0.8183 - val_loss: 6.9229 - val_categorical_accuracy: 0.2700 - lr: 2.0000e-04\n",
      "Epoch 7/25\n",
      "34/34 [==============================] - ETA: 0s - loss: 0.4319 - categorical_accuracy: 0.8431\n",
      "Epoch 00007: saving model to model_init_2023-03-2119_27_51.824158/model-00007-0.43187-0.84314-5.66033-0.27000.h5\n",
      "34/34 [==============================] - 222s 7s/step - loss: 0.4319 - categorical_accuracy: 0.8431 - val_loss: 5.6603 - val_categorical_accuracy: 0.2700 - lr: 2.0000e-04\n",
      "Epoch 8/25\n",
      "34/34 [==============================] - ETA: 0s - loss: 0.3703 - categorical_accuracy: 0.8552\n",
      "Epoch 00008: saving model to model_init_2023-03-2119_27_51.824158/model-00008-0.37029-0.85520-6.79800-0.22000.h5\n",
      "34/34 [==============================] - 224s 7s/step - loss: 0.3703 - categorical_accuracy: 0.8552 - val_loss: 6.7980 - val_categorical_accuracy: 0.2200 - lr: 2.0000e-04\n",
      "Epoch 9/25\n",
      "34/34 [==============================] - ETA: 0s - loss: 0.3475 - categorical_accuracy: 0.8688\n",
      "Epoch 00009: saving model to model_init_2023-03-2119_27_51.824158/model-00009-0.34745-0.86878-6.63293-0.22000.h5\n",
      "\n",
      "Epoch 00009: ReduceLROnPlateau reducing learning rate to 4.0000001899898055e-05.\n",
      "34/34 [==============================] - 221s 7s/step - loss: 0.3475 - categorical_accuracy: 0.8688 - val_loss: 6.6329 - val_categorical_accuracy: 0.2200 - lr: 2.0000e-04\n",
      "Epoch 10/25\n",
      "34/34 [==============================] - ETA: 0s - loss: 0.3622 - categorical_accuracy: 0.8635\n",
      "Epoch 00010: saving model to model_init_2023-03-2119_27_51.824158/model-00010-0.36215-0.86350-5.07352-0.28000.h5\n",
      "34/34 [==============================] - 221s 7s/step - loss: 0.3622 - categorical_accuracy: 0.8635 - val_loss: 5.0735 - val_categorical_accuracy: 0.2800 - lr: 4.0000e-05\n",
      "Epoch 11/25\n",
      "34/34 [==============================] - ETA: 0s - loss: 0.3487 - categorical_accuracy: 0.8793\n",
      "Epoch 00011: saving model to model_init_2023-03-2119_27_51.824158/model-00011-0.34867-0.87934-4.28856-0.25000.h5\n",
      "34/34 [==============================] - 219s 7s/step - loss: 0.3487 - categorical_accuracy: 0.8793 - val_loss: 4.2886 - val_categorical_accuracy: 0.2500 - lr: 4.0000e-05\n",
      "Epoch 12/25\n",
      "34/34 [==============================] - ETA: 0s - loss: 0.3085 - categorical_accuracy: 0.8793\n",
      "Epoch 00012: saving model to model_init_2023-03-2119_27_51.824158/model-00012-0.30845-0.87934-3.76103-0.23000.h5\n",
      "34/34 [==============================] - 215s 6s/step - loss: 0.3085 - categorical_accuracy: 0.8793 - val_loss: 3.7610 - val_categorical_accuracy: 0.2300 - lr: 4.0000e-05\n",
      "Epoch 13/25\n",
      "34/34 [==============================] - ETA: 0s - loss: 0.2952 - categorical_accuracy: 0.8967\n",
      "Epoch 00013: saving model to model_init_2023-03-2119_27_51.824158/model-00013-0.29516-0.89668-2.69830-0.31000.h5\n",
      "\n",
      "Epoch 00013: ReduceLROnPlateau reducing learning rate to 8.000000525498762e-06.\n",
      "34/34 [==============================] - 210s 6s/step - loss: 0.2952 - categorical_accuracy: 0.8967 - val_loss: 2.6983 - val_categorical_accuracy: 0.3100 - lr: 4.0000e-05\n",
      "Epoch 14/25\n",
      "34/34 [==============================] - ETA: 0s - loss: 0.2950 - categorical_accuracy: 0.8997\n",
      "Epoch 00014: saving model to model_init_2023-03-2119_27_51.824158/model-00014-0.29501-0.89970-2.05829-0.37000.h5\n",
      "34/34 [==============================] - 212s 6s/step - loss: 0.2950 - categorical_accuracy: 0.8997 - val_loss: 2.0583 - val_categorical_accuracy: 0.3700 - lr: 8.0000e-06\n",
      "Epoch 15/25\n",
      "34/34 [==============================] - ETA: 0s - loss: 0.3294 - categorical_accuracy: 0.8786\n",
      "Epoch 00015: saving model to model_init_2023-03-2119_27_51.824158/model-00015-0.32941-0.87858-1.47153-0.51000.h5\n",
      "34/34 [==============================] - 213s 6s/step - loss: 0.3294 - categorical_accuracy: 0.8786 - val_loss: 1.4715 - val_categorical_accuracy: 0.5100 - lr: 8.0000e-06\n",
      "Epoch 16/25\n",
      "34/34 [==============================] - ETA: 0s - loss: 0.2867 - categorical_accuracy: 0.8937\n",
      "Epoch 00016: saving model to model_init_2023-03-2119_27_51.824158/model-00016-0.28667-0.89367-1.12804-0.59000.h5\n",
      "34/34 [==============================] - 214s 6s/step - loss: 0.2867 - categorical_accuracy: 0.8937 - val_loss: 1.1280 - val_categorical_accuracy: 0.5900 - lr: 8.0000e-06\n",
      "Epoch 17/25\n",
      "34/34 [==============================] - ETA: 0s - loss: 0.3150 - categorical_accuracy: 0.8876\n",
      "Epoch 00017: saving model to model_init_2023-03-2119_27_51.824158/model-00017-0.31501-0.88763-0.81159-0.72000.h5\n",
      "34/34 [==============================] - 216s 7s/step - loss: 0.3150 - categorical_accuracy: 0.8876 - val_loss: 0.8116 - val_categorical_accuracy: 0.7200 - lr: 8.0000e-06\n",
      "Epoch 18/25\n",
      "34/34 [==============================] - ETA: 0s - loss: 0.2785 - categorical_accuracy: 0.8982\n",
      "Epoch 00018: saving model to model_init_2023-03-2119_27_51.824158/model-00018-0.27847-0.89819-0.72561-0.73000.h5\n",
      "34/34 [==============================] - 213s 6s/step - loss: 0.2785 - categorical_accuracy: 0.8982 - val_loss: 0.7256 - val_categorical_accuracy: 0.7300 - lr: 8.0000e-06\n",
      "Epoch 19/25\n",
      "34/34 [==============================] - ETA: 0s - loss: 0.2759 - categorical_accuracy: 0.8989\n",
      "Epoch 00019: saving model to model_init_2023-03-2119_27_51.824158/model-00019-0.27588-0.89894-0.59080-0.86000.h5\n",
      "34/34 [==============================] - 215s 7s/step - loss: 0.2759 - categorical_accuracy: 0.8989 - val_loss: 0.5908 - val_categorical_accuracy: 0.8600 - lr: 8.0000e-06\n",
      "Epoch 20/25\n",
      "34/34 [==============================] - ETA: 0s - loss: 0.2703 - categorical_accuracy: 0.8997\n",
      "Epoch 00020: saving model to model_init_2023-03-2119_27_51.824158/model-00020-0.27030-0.89970-0.42861-0.87000.h5\n",
      "34/34 [==============================] - 213s 6s/step - loss: 0.2703 - categorical_accuracy: 0.8997 - val_loss: 0.4286 - val_categorical_accuracy: 0.8700 - lr: 8.0000e-06\n",
      "Epoch 21/25\n",
      "34/34 [==============================] - ETA: 0s - loss: 0.3257 - categorical_accuracy: 0.8884\n",
      "Epoch 00021: saving model to model_init_2023-03-2119_27_51.824158/model-00021-0.32568-0.88839-0.37235-0.89000.h5\n",
      "34/34 [==============================] - 216s 7s/step - loss: 0.3257 - categorical_accuracy: 0.8884 - val_loss: 0.3724 - val_categorical_accuracy: 0.8900 - lr: 8.0000e-06\n",
      "Epoch 22/25\n",
      "34/34 [==============================] - ETA: 0s - loss: 0.2788 - categorical_accuracy: 0.9012\n",
      "Epoch 00022: saving model to model_init_2023-03-2119_27_51.824158/model-00022-0.27882-0.90121-0.31002-0.90000.h5\n",
      "34/34 [==============================] - 215s 7s/step - loss: 0.2788 - categorical_accuracy: 0.9012 - val_loss: 0.3100 - val_categorical_accuracy: 0.9000 - lr: 8.0000e-06\n",
      "Epoch 23/25\n",
      "34/34 [==============================] - ETA: 0s - loss: 0.2490 - categorical_accuracy: 0.9050\n",
      "Epoch 00023: saving model to model_init_2023-03-2119_27_51.824158/model-00023-0.24898-0.90498-0.26405-0.90000.h5\n",
      "34/34 [==============================] - 222s 7s/step - loss: 0.2490 - categorical_accuracy: 0.9050 - val_loss: 0.2641 - val_categorical_accuracy: 0.9000 - lr: 8.0000e-06\n",
      "Epoch 24/25\n",
      "34/34 [==============================] - ETA: 0s - loss: 0.2468 - categorical_accuracy: 0.9155\n",
      "Epoch 00024: saving model to model_init_2023-03-2119_27_51.824158/model-00024-0.24678-0.91554-0.35785-0.88000.h5\n",
      "34/34 [==============================] - 225s 7s/step - loss: 0.2468 - categorical_accuracy: 0.9155 - val_loss: 0.3578 - val_categorical_accuracy: 0.8800 - lr: 8.0000e-06\n",
      "Epoch 25/25\n",
      "34/34 [==============================] - ETA: 0s - loss: 0.2653 - categorical_accuracy: 0.9012\n",
      "Epoch 00025: saving model to model_init_2023-03-2119_27_51.824158/model-00025-0.26527-0.90121-0.40088-0.88000.h5\n",
      "34/34 [==============================] - 217s 7s/step - loss: 0.2653 - categorical_accuracy: 0.9012 - val_loss: 0.4009 - val_categorical_accuracy: 0.8800 - lr: 8.0000e-06\n"
     ]
    }
   ],
   "source": [
    "print(\"Total Params:\", conv_3d2_model.count_params())\n",
    "history_model2=conv_3d2.train_model(conv_3d2_model,augment_data=True)"
   ]
  },
  {
   "cell_type": "code",
   "execution_count": 38,
   "id": "b2d45cf8",
   "metadata": {},
   "outputs": [
    {
     "data": {
      "image/png": "[encoded data removed]",
      "text/plain": [
       "<Figure size 1080x288 with 2 Axes>"
      ]
     },
     "metadata": {
      "needs_background": "light"
     },
     "output_type": "display_data"
    }
   ],
   "source": [
    "plot(history_model2)"
   ]
  },
  {
   "cell_type": "raw",
   "id": "6e692e00",
   "metadata": {},
   "source": [
    "#Model is not overfitting and we get a best validation accuracy of 85% and training accuracy of 91%. Next we will try to reduce the filter size and image resolution and see if get better results. Moreover since we see minor oscillations in loss, let's try lowering the learning rate to 0.0002"
   ]
  },
  {
   "cell_type": "code",
   "execution_count": 39,
   "id": "7111efe6",
   "metadata": {},
   "outputs": [],
   "source": [
    "#Model 3 - Reduce filter size to (2,2,2) and image res to 120 x 120"
   ]
  },
  {
   "cell_type": "code",
   "execution_count": 17,
   "id": "7601c3e1",
   "metadata": {},
   "outputs": [],
   "source": [
    "class ModelConv3D3(ModelBuilder):\n",
    "    \n",
    "    def define_model(self,filtersize=(3,3,3),dense_neurons=64,dropout=0.25):\n",
    "\n",
    "        model = Sequential()\n",
    "        model.add(Conv3D(16, filtersize, padding='same',\n",
    "                 input_shape=(self.frames_to_sample,self.image_height,self.image_width,self.channels)))\n",
    "        model.add(Activation('relu'))\n",
    "        model.add(BatchNormalization())\n",
    "        model.add(MaxPooling3D(pool_size=(2, 2, 2)))\n",
    "\n",
    "        model.add(Conv3D(32, filtersize, padding='same'))\n",
    "        model.add(Activation('relu'))\n",
    "        model.add(BatchNormalization())\n",
    "        model.add(MaxPooling3D(pool_size=(2, 2, 2)))\n",
    "\n",
    "        model.add(Conv3D(64, filtersize, padding='same'))\n",
    "        model.add(Activation('relu'))\n",
    "        model.add(BatchNormalization())\n",
    "        model.add(MaxPooling3D(pool_size=(2, 2, 2)))\n",
    "\n",
    "        model.add(Conv3D(128, filtersize, padding='same'))\n",
    "        model.add(Activation('relu'))\n",
    "        model.add(BatchNormalization())\n",
    "        model.add(MaxPooling3D(pool_size=(2, 2, 2)))\n",
    "\n",
    "        model.add(Flatten())\n",
    "        model.add(Dense(dense_neurons,activation='relu'))\n",
    "        model.add(BatchNormalization())\n",
    "        model.add(Dropout(dropout))\n",
    "\n",
    "        model.add(Dense(dense_neurons,activation='relu'))\n",
    "        model.add(BatchNormalization())\n",
    "        model.add(Dropout(dropout))\n",
    "\n",
    "\n",
    "        model.add(Dense(self.num_classes,activation='softmax'))\n",
    "\n",
    "        optimiser = tf.optimizers.Adam(lr=0.0002)\n",
    "        model.compile(optimizer=optimiser, loss='categorical_crossentropy', metrics=['categorical_accuracy'])\n",
    "        return model"
   ]
  },
  {
   "cell_type": "code",
   "execution_count": 18,
   "id": "f5a175fe",
   "metadata": {},
   "outputs": [
    {
     "name": "stdout",
     "output_type": "stream",
     "text": [
      "Model: \"sequential_1\"\n",
      "_________________________________________________________________\n",
      " Layer (type)                Output Shape              Param #   \n",
      "=================================================================\n",
      " conv3d_4 (Conv3D)           (None, 16, 120, 120, 16)  400       \n",
      "                                                                 \n",
      " activation_4 (Activation)   (None, 16, 120, 120, 16)  0         \n",
      "                                                                 \n",
      " batch_normalization_6 (Batc  (None, 16, 120, 120, 16)  64       \n",
      " hNormalization)                                                 \n",
      "                                                                 \n",
      " max_pooling3d_4 (MaxPooling  (None, 8, 60, 60, 16)    0         \n",
      " 3D)                                                             \n",
      "                                                                 \n",
      " conv3d_5 (Conv3D)           (None, 8, 60, 60, 32)     4128      \n",
      "                                                                 \n",
      " activation_5 (Activation)   (None, 8, 60, 60, 32)     0         \n",
      "                                                                 \n",
      " batch_normalization_7 (Batc  (None, 8, 60, 60, 32)    128       \n",
      " hNormalization)                                                 \n",
      "                                                                 \n",
      " max_pooling3d_5 (MaxPooling  (None, 4, 30, 30, 32)    0         \n",
      " 3D)                                                             \n",
      "                                                                 \n",
      " conv3d_6 (Conv3D)           (None, 4, 30, 30, 64)     16448     \n",
      "                                                                 \n",
      " activation_6 (Activation)   (None, 4, 30, 30, 64)     0         \n",
      "                                                                 \n",
      " batch_normalization_8 (Batc  (None, 4, 30, 30, 64)    256       \n",
      " hNormalization)                                                 \n",
      "                                                                 \n",
      " max_pooling3d_6 (MaxPooling  (None, 2, 15, 15, 64)    0         \n",
      " 3D)                                                             \n",
      "                                                                 \n",
      " conv3d_7 (Conv3D)           (None, 2, 15, 15, 128)    65664     \n",
      "                                                                 \n",
      " activation_7 (Activation)   (None, 2, 15, 15, 128)    0         \n",
      "                                                                 \n",
      " batch_normalization_9 (Batc  (None, 2, 15, 15, 128)   512       \n",
      " hNormalization)                                                 \n",
      "                                                                 \n",
      " max_pooling3d_7 (MaxPooling  (None, 1, 7, 7, 128)     0         \n",
      " 3D)                                                             \n",
      "                                                                 \n",
      " flatten_1 (Flatten)         (None, 6272)              0         \n",
      "                                                                 \n",
      " dense_3 (Dense)             (None, 256)               1605888   \n",
      "                                                                 \n",
      " batch_normalization_10 (Bat  (None, 256)              1024      \n",
      " chNormalization)                                                \n",
      "                                                                 \n",
      " dropout_2 (Dropout)         (None, 256)               0         \n",
      "                                                                 \n",
      " dense_4 (Dense)             (None, 256)               65792     \n",
      "                                                                 \n",
      " batch_normalization_11 (Bat  (None, 256)              1024      \n",
      " chNormalization)                                                \n",
      "                                                                 \n",
      " dropout_3 (Dropout)         (None, 256)               0         \n",
      "                                                                 \n",
      " dense_5 (Dense)             (None, 5)                 1285      \n",
      "                                                                 \n",
      "=================================================================\n",
      "Total params: 1,762,613\n",
      "Trainable params: 1,761,109\n",
      "Non-trainable params: 1,504\n",
      "_________________________________________________________________\n"
     ]
    }
   ],
   "source": [
    "conv_3d3=ModelConv3D3()\n",
    "conv_3d3.initialize_path(project_folder)\n",
    "conv_3d3.initialize_image_properties(image_height=120,image_width=120)\n",
    "conv_3d3.initialize_hyperparams(frames_to_sample=16,batch_size=30,num_epochs=30)\n",
    "conv_3d3_model=conv_3d3.define_model(filtersize=(2,2,2),dense_neurons=256,dropout=0.5)\n",
    "conv_3d3_model.summary()"
   ]
  },
  {
   "cell_type": "code",
   "execution_count": 19,
   "id": "f2cf8a98",
   "metadata": {},
   "outputs": [
    {
     "name": "stdout",
     "output_type": "stream",
     "text": [
      "Total Params: 1762613\n",
      "WARNING:tensorflow:`period` argument is deprecated. Please use `save_freq` to specify the frequency in number of batches seen.\n",
      "Epoch 1/30\n"
     ]
    },
    {
     "name": "stderr",
     "output_type": "stream",
     "text": [
      "2023-03-22 01:55:35.450092: I tensorflow/stream_executor/cuda/cuda_dnn.cc:377] Loaded cuDNN version 8302\n"
     ]
    },
    {
     "name": "stdout",
     "output_type": "stream",
     "text": [
      "23/23 [==============================] - ETA: 0s - loss: 2.1405 - categorical_accuracy: 0.3371\n",
      "Epoch 00001: saving model to model_init_2023-03-2201_55_26.605442/model-00001-2.14049-0.33710-1.75292-0.16000.h5\n",
      "23/23 [==============================] - 152s 7s/step - loss: 2.1405 - categorical_accuracy: 0.3371 - val_loss: 1.7529 - val_categorical_accuracy: 0.1600 - lr: 2.0000e-04\n",
      "Epoch 2/30\n",
      "23/23 [==============================] - ETA: 0s - loss: 1.4315 - categorical_accuracy: 0.4962\n",
      "Epoch 00002: saving model to model_init_2023-03-2201_55_26.605442/model-00002-1.43151-0.49623-2.54491-0.19000.h5\n",
      "23/23 [==============================] - 151s 7s/step - loss: 1.4315 - categorical_accuracy: 0.4962 - val_loss: 2.5449 - val_categorical_accuracy: 0.1900 - lr: 2.0000e-04\n",
      "Epoch 3/30\n",
      "23/23 [==============================] - ETA: 0s - loss: 1.1752 - categorical_accuracy: 0.6011\n",
      "Epoch 00003: saving model to model_init_2023-03-2201_55_26.605442/model-00003-1.17522-0.60106-4.06055-0.14000.h5\n",
      "23/23 [==============================] - 151s 7s/step - loss: 1.1752 - categorical_accuracy: 0.6011 - val_loss: 4.0605 - val_categorical_accuracy: 0.1400 - lr: 2.0000e-04\n",
      "Epoch 4/30\n",
      "23/23 [==============================] - ETA: 0s - loss: 1.0320 - categorical_accuracy: 0.6501\n",
      "Epoch 00004: saving model to model_init_2023-03-2201_55_26.605442/model-00004-1.03200-0.65008-5.17464-0.16000.h5\n",
      "23/23 [==============================] - 149s 7s/step - loss: 1.0320 - categorical_accuracy: 0.6501 - val_loss: 5.1746 - val_categorical_accuracy: 0.1600 - lr: 2.0000e-04\n",
      "Epoch 5/30\n",
      "23/23 [==============================] - ETA: 0s - loss: 0.9231 - categorical_accuracy: 0.6584\n",
      "Epoch 00005: saving model to model_init_2023-03-2201_55_26.605442/model-00005-0.92309-0.65837-6.07113-0.16000.h5\n",
      "\n",
      "Epoch 00005: ReduceLROnPlateau reducing learning rate to 3.9999998989515007e-05.\n",
      "23/23 [==============================] - 152s 7s/step - loss: 0.9231 - categorical_accuracy: 0.6584 - val_loss: 6.0711 - val_categorical_accuracy: 0.1600 - lr: 2.0000e-04\n",
      "Epoch 6/30\n",
      "23/23 [==============================] - ETA: 0s - loss: 0.9379 - categorical_accuracy: 0.6523\n",
      "Epoch 00006: saving model to model_init_2023-03-2201_55_26.605442/model-00006-0.93794-0.65234-6.74847-0.17000.h5\n",
      "23/23 [==============================] - 151s 7s/step - loss: 0.9379 - categorical_accuracy: 0.6523 - val_loss: 6.7485 - val_categorical_accuracy: 0.1700 - lr: 4.0000e-05\n",
      "Epoch 7/30\n",
      "23/23 [==============================] - ETA: 0s - loss: 0.8840 - categorical_accuracy: 0.6757\n",
      "Epoch 00007: saving model to model_init_2023-03-2201_55_26.605442/model-00007-0.88399-0.67572-8.15804-0.13000.h5\n",
      "23/23 [==============================] - 152s 7s/step - loss: 0.8840 - categorical_accuracy: 0.6757 - val_loss: 8.1580 - val_categorical_accuracy: 0.1300 - lr: 4.0000e-05\n",
      "Epoch 8/30\n",
      "23/23 [==============================] - ETA: 0s - loss: 0.8466 - categorical_accuracy: 0.6855\n",
      "Epoch 00008: saving model to model_init_2023-03-2201_55_26.605442/model-00008-0.84664-0.68552-8.39108-0.14000.h5\n",
      "23/23 [==============================] - 150s 7s/step - loss: 0.8466 - categorical_accuracy: 0.6855 - val_loss: 8.3911 - val_categorical_accuracy: 0.1400 - lr: 4.0000e-05\n",
      "Epoch 9/30\n",
      "23/23 [==============================] - ETA: 0s - loss: 0.8871 - categorical_accuracy: 0.6833\n",
      "Epoch 00009: saving model to model_init_2023-03-2201_55_26.605442/model-00009-0.88711-0.68326-8.28373-0.20000.h5\n",
      "\n",
      "Epoch 00009: ReduceLROnPlateau reducing learning rate to 7.999999797903002e-06.\n",
      "23/23 [==============================] - 152s 7s/step - loss: 0.8871 - categorical_accuracy: 0.6833 - val_loss: 8.2837 - val_categorical_accuracy: 0.2000 - lr: 4.0000e-05\n",
      "Epoch 10/30\n",
      "23/23 [==============================] - ETA: 0s - loss: 0.8253 - categorical_accuracy: 0.7097\n",
      "Epoch 00010: saving model to model_init_2023-03-2201_55_26.605442/model-00010-0.82529-0.70965-8.43816-0.26000.h5\n",
      "23/23 [==============================] - 152s 7s/step - loss: 0.8253 - categorical_accuracy: 0.7097 - val_loss: 8.4382 - val_categorical_accuracy: 0.2600 - lr: 8.0000e-06\n",
      "Epoch 11/30\n",
      "23/23 [==============================] - ETA: 0s - loss: 0.8515 - categorical_accuracy: 0.6991\n",
      "Epoch 00011: saving model to model_init_2023-03-2201_55_26.605442/model-00011-0.85153-0.69910-7.69520-0.30000.h5\n",
      "23/23 [==============================] - 153s 7s/step - loss: 0.8515 - categorical_accuracy: 0.6991 - val_loss: 7.6952 - val_categorical_accuracy: 0.3000 - lr: 8.0000e-06\n",
      "Epoch 12/30\n",
      "23/23 [==============================] - ETA: 0s - loss: 0.8138 - categorical_accuracy: 0.7021\n",
      "Epoch 00012: saving model to model_init_2023-03-2201_55_26.605442/model-00012-0.81380-0.70211-7.91668-0.22000.h5\n",
      "23/23 [==============================] - 148s 7s/step - loss: 0.8138 - categorical_accuracy: 0.7021 - val_loss: 7.9167 - val_categorical_accuracy: 0.2200 - lr: 8.0000e-06\n",
      "Epoch 13/30\n",
      "23/23 [==============================] - ETA: 0s - loss: 0.8182 - categorical_accuracy: 0.7059\n",
      "Epoch 00013: saving model to model_init_2023-03-2201_55_26.605442/model-00013-0.81818-0.70588-7.05023-0.24000.h5\n",
      "\n",
      "Epoch 00013: ReduceLROnPlateau reducing learning rate to 1.5999999959603884e-06.\n",
      "23/23 [==============================] - 151s 7s/step - loss: 0.8182 - categorical_accuracy: 0.7059 - val_loss: 7.0502 - val_categorical_accuracy: 0.2400 - lr: 8.0000e-06\n",
      "Epoch 14/30\n",
      "23/23 [==============================] - ETA: 0s - loss: 0.7814 - categorical_accuracy: 0.7089\n",
      "Epoch 00014: saving model to model_init_2023-03-2201_55_26.605442/model-00014-0.78136-0.70890-6.77757-0.21000.h5\n",
      "23/23 [==============================] - 151s 7s/step - loss: 0.7814 - categorical_accuracy: 0.7089 - val_loss: 6.7776 - val_categorical_accuracy: 0.2100 - lr: 1.6000e-06\n",
      "Epoch 15/30\n",
      "23/23 [==============================] - ETA: 0s - loss: 0.7723 - categorical_accuracy: 0.7225\n",
      "Epoch 00015: saving model to model_init_2023-03-2201_55_26.605442/model-00015-0.77230-0.72247-5.24836-0.31000.h5\n",
      "23/23 [==============================] - 151s 7s/step - loss: 0.7723 - categorical_accuracy: 0.7225 - val_loss: 5.2484 - val_categorical_accuracy: 0.3100 - lr: 1.6000e-06\n",
      "Epoch 16/30\n",
      "23/23 [==============================] - ETA: 0s - loss: 0.8108 - categorical_accuracy: 0.7029\n",
      "Epoch 00016: saving model to model_init_2023-03-2201_55_26.605442/model-00016-0.81078-0.70287-5.71570-0.24000.h5\n",
      "23/23 [==============================] - 147s 7s/step - loss: 0.8108 - categorical_accuracy: 0.7029 - val_loss: 5.7157 - val_categorical_accuracy: 0.2400 - lr: 1.6000e-06\n",
      "Epoch 17/30\n",
      "23/23 [==============================] - ETA: 0s - loss: 0.8369 - categorical_accuracy: 0.6976\n",
      "Epoch 00017: saving model to model_init_2023-03-2201_55_26.605442/model-00017-0.83690-0.69759-4.89566-0.30000.h5\n",
      "\n",
      "Epoch 00017: ReduceLROnPlateau reducing learning rate to 3.200000037395512e-07.\n",
      "23/23 [==============================] - 150s 7s/step - loss: 0.8369 - categorical_accuracy: 0.6976 - val_loss: 4.8957 - val_categorical_accuracy: 0.3000 - lr: 1.6000e-06\n",
      "Epoch 18/30\n",
      "23/23 [==============================] - ETA: 0s - loss: 0.8199 - categorical_accuracy: 0.7021\n",
      "Epoch 00018: saving model to model_init_2023-03-2201_55_26.605442/model-00018-0.81985-0.70211-4.21157-0.34000.h5\n",
      "23/23 [==============================] - 151s 7s/step - loss: 0.8199 - categorical_accuracy: 0.7021 - val_loss: 4.2116 - val_categorical_accuracy: 0.3400 - lr: 3.2000e-07\n",
      "Epoch 19/30\n",
      "23/23 [==============================] - ETA: 0s - loss: 0.8028 - categorical_accuracy: 0.7066\n",
      "Epoch 00019: saving model to model_init_2023-03-2201_55_26.605442/model-00019-0.80277-0.70664-3.87522-0.29000.h5\n",
      "23/23 [==============================] - 151s 7s/step - loss: 0.8028 - categorical_accuracy: 0.7066 - val_loss: 3.8752 - val_categorical_accuracy: 0.2900 - lr: 3.2000e-07\n",
      "Epoch 20/30\n",
      "23/23 [==============================] - ETA: 0s - loss: 0.8127 - categorical_accuracy: 0.7127\n",
      "Epoch 00020: saving model to model_init_2023-03-2201_55_26.605442/model-00020-0.81268-0.71267-3.34444-0.32000.h5\n",
      "23/23 [==============================] - 148s 7s/step - loss: 0.8127 - categorical_accuracy: 0.7127 - val_loss: 3.3444 - val_categorical_accuracy: 0.3200 - lr: 3.2000e-07\n",
      "Epoch 21/30\n",
      "23/23 [==============================] - ETA: 0s - loss: 0.8704 - categorical_accuracy: 0.6916\n",
      "Epoch 00021: saving model to model_init_2023-03-2201_55_26.605442/model-00021-0.87040-0.69155-2.96473-0.36000.h5\n",
      "\n",
      "Epoch 00021: ReduceLROnPlateau reducing learning rate to 6.399999961104187e-08.\n",
      "23/23 [==============================] - 152s 7s/step - loss: 0.8704 - categorical_accuracy: 0.6916 - val_loss: 2.9647 - val_categorical_accuracy: 0.3600 - lr: 3.2000e-07\n",
      "Epoch 22/30\n",
      "23/23 [==============================] - ETA: 0s - loss: 0.7406 - categorical_accuracy: 0.7247\n",
      "Epoch 00022: saving model to model_init_2023-03-2201_55_26.605442/model-00022-0.74058-0.72474-2.67191-0.35000.h5\n",
      "23/23 [==============================] - 152s 7s/step - loss: 0.7406 - categorical_accuracy: 0.7247 - val_loss: 2.6719 - val_categorical_accuracy: 0.3500 - lr: 6.4000e-08\n",
      "Epoch 23/30\n",
      "23/23 [==============================] - ETA: 0s - loss: 0.7737 - categorical_accuracy: 0.7134\n",
      "Epoch 00023: saving model to model_init_2023-03-2201_55_26.605442/model-00023-0.77368-0.71342-2.07762-0.47000.h5\n",
      "23/23 [==============================] - 150s 7s/step - loss: 0.7737 - categorical_accuracy: 0.7134 - val_loss: 2.0776 - val_categorical_accuracy: 0.4700 - lr: 6.4000e-08\n",
      "Epoch 24/30\n",
      "23/23 [==============================] - ETA: 0s - loss: 0.7900 - categorical_accuracy: 0.7081\n",
      "Epoch 00024: saving model to model_init_2023-03-2201_55_26.605442/model-00024-0.78996-0.70814-2.09061-0.38000.h5\n",
      "23/23 [==============================] - 154s 7s/step - loss: 0.7900 - categorical_accuracy: 0.7081 - val_loss: 2.0906 - val_categorical_accuracy: 0.3800 - lr: 6.4000e-08\n",
      "Epoch 25/30\n",
      "23/23 [==============================] - ETA: 0s - loss: 0.8113 - categorical_accuracy: 0.6983\n",
      "Epoch 00025: saving model to model_init_2023-03-2201_55_26.605442/model-00025-0.81127-0.69834-1.67837-0.47000.h5\n",
      "23/23 [==============================] - 155s 7s/step - loss: 0.8113 - categorical_accuracy: 0.6983 - val_loss: 1.6784 - val_categorical_accuracy: 0.4700 - lr: 6.4000e-08\n",
      "Epoch 26/30\n",
      "23/23 [==============================] - ETA: 0s - loss: 0.7349 - categorical_accuracy: 0.7270\n",
      "Epoch 00026: saving model to model_init_2023-03-2201_55_26.605442/model-00026-0.73488-0.72700-1.53102-0.49000.h5\n",
      "23/23 [==============================] - 154s 7s/step - loss: 0.7349 - categorical_accuracy: 0.7270 - val_loss: 1.5310 - val_categorical_accuracy: 0.4900 - lr: 6.4000e-08\n",
      "Epoch 27/30\n",
      "23/23 [==============================] - ETA: 0s - loss: 0.7861 - categorical_accuracy: 0.7104\n",
      "Epoch 00027: saving model to model_init_2023-03-2201_55_26.605442/model-00027-0.78614-0.71041-1.26392-0.57000.h5\n",
      "23/23 [==============================] - 157s 7s/step - loss: 0.7861 - categorical_accuracy: 0.7104 - val_loss: 1.2639 - val_categorical_accuracy: 0.5700 - lr: 6.4000e-08\n",
      "Epoch 28/30\n",
      "23/23 [==============================] - ETA: 0s - loss: 0.7517 - categorical_accuracy: 0.7202\n",
      "Epoch 00028: saving model to model_init_2023-03-2201_55_26.605442/model-00028-0.75170-0.72021-1.16350-0.57000.h5\n",
      "23/23 [==============================] - 159s 7s/step - loss: 0.7517 - categorical_accuracy: 0.7202 - val_loss: 1.1635 - val_categorical_accuracy: 0.5700 - lr: 6.4000e-08\n",
      "Epoch 29/30\n",
      "23/23 [==============================] - ETA: 0s - loss: 0.8218 - categorical_accuracy: 0.6931\n",
      "Epoch 00029: saving model to model_init_2023-03-2201_55_26.605442/model-00029-0.82180-0.69306-1.02721-0.62000.h5\n",
      "23/23 [==============================] - 164s 7s/step - loss: 0.8218 - categorical_accuracy: 0.6931 - val_loss: 1.0272 - val_categorical_accuracy: 0.6200 - lr: 6.4000e-08\n",
      "Epoch 30/30\n",
      "23/23 [==============================] - ETA: 0s - loss: 0.7836 - categorical_accuracy: 0.6998\n",
      "Epoch 00030: saving model to model_init_2023-03-2201_55_26.605442/model-00030-0.78356-0.69985-0.98755-0.62000.h5\n",
      "23/23 [==============================] - 164s 7s/step - loss: 0.7836 - categorical_accuracy: 0.6998 - val_loss: 0.9876 - val_categorical_accuracy: 0.6200 - lr: 6.4000e-08\n"
     ]
    }
   ],
   "source": [
    "print(\"Total Params:\", conv_3d3_model.count_params())\n",
    "history_model3=conv_3d3.train_model(conv_3d3_model,augment_data=True)"
   ]
  },
  {
   "cell_type": "code",
   "execution_count": 20,
   "id": "47f1bdd8",
   "metadata": {},
   "outputs": [
    {
     "data": {
      "image/png": "[encoded data removed]",
      "text/plain": [
       "<Figure size 1080x288 with 2 Axes>"
      ]
     },
     "metadata": {
      "needs_background": "light"
     },
     "output_type": "display_data"
    }
   ],
   "source": [
    "plot(history_model3)"
   ]
  },
  {
   "cell_type": "code",
   "execution_count": 21,
   "id": "b4162862",
   "metadata": {},
   "outputs": [],
   "source": [
    "#Model has a best validation accuracy of 84% and training accuracy of 84% . Also we were able to reduce the parameter size by half the earlier model. Let's trying adding more layers"
   ]
  },
  {
   "cell_type": "code",
   "execution_count": 22,
   "id": "ca2179c8",
   "metadata": {},
   "outputs": [],
   "source": [
    "#Model 4 - Adding more layers"
   ]
  },
  {
   "cell_type": "code",
   "execution_count": 23,
   "id": "0eb599c2",
   "metadata": {},
   "outputs": [],
   "source": [
    "class ModelConv3D4(ModelBuilder):\n",
    "    \n",
    "    def define_model(self,filtersize=(3,3,3),dense_neurons=64,dropout=0.25):\n",
    "\n",
    "        model = Sequential()\n",
    "        model.add(Conv3D(16, filtersize, padding='same',\n",
    "                 input_shape=(self.frames_to_sample,self.image_height,self.image_width,self.channels)))\n",
    "        model.add(Activation('relu'))\n",
    "        model.add(BatchNormalization())\n",
    "        \n",
    "        model.add(Conv3D(16, filtersize, padding='same',\n",
    "                 input_shape=(self.frames_to_sample,self.image_height,self.image_width,self.channels)))\n",
    "        model.add(Activation('relu'))\n",
    "        model.add(BatchNormalization())\n",
    "        \n",
    "        model.add(MaxPooling3D(pool_size=(2, 2, 2)))\n",
    "\n",
    "        model.add(Conv3D(32, filtersize, padding='same'))\n",
    "        model.add(Activation('relu'))\n",
    "        model.add(BatchNormalization())\n",
    "        \n",
    "        model.add(Conv3D(32, filtersize, padding='same'))\n",
    "        model.add(Activation('relu'))\n",
    "        model.add(BatchNormalization())\n",
    "        \n",
    "        model.add(MaxPooling3D(pool_size=(2, 2, 2)))\n",
    "\n",
    "        model.add(Conv3D(64, filtersize, padding='same'))\n",
    "        model.add(Activation('relu'))\n",
    "        model.add(BatchNormalization())\n",
    "        \n",
    "        model.add(Conv3D(64, filtersize, padding='same'))\n",
    "        model.add(Activation('relu'))\n",
    "        model.add(BatchNormalization())\n",
    "        \n",
    "        model.add(MaxPooling3D(pool_size=(2, 2, 2)))\n",
    "\n",
    "        model.add(Conv3D(128, filtersize, padding='same'))\n",
    "        model.add(Activation('relu'))\n",
    "        model.add(BatchNormalization())\n",
    "        \n",
    "        model.add(Conv3D(128, filtersize, padding='same'))\n",
    "        model.add(Activation('relu'))\n",
    "        model.add(BatchNormalization())\n",
    "        \n",
    "        model.add(MaxPooling3D(pool_size=(2, 2, 2)))\n",
    "        \n",
    "\n",
    "        model.add(Flatten())\n",
    "        model.add(Dense(dense_neurons,activation='relu'))\n",
    "        model.add(BatchNormalization())\n",
    "        model.add(Dropout(dropout))\n",
    "\n",
    "        model.add(Dense(dense_neurons,activation='relu'))\n",
    "        model.add(BatchNormalization())\n",
    "        model.add(Dropout(dropout))\n",
    "\n",
    "\n",
    "        model.add(Dense(self.num_classes,activation='softmax'))\n",
    "\n",
    "        optimiser = tf.optimizers.Adam()\n",
    "        model.compile(optimizer=optimiser, loss='categorical_crossentropy', metrics=['categorical_accuracy'])\n",
    "        return model"
   ]
  },
  {
   "cell_type": "code",
   "execution_count": 24,
   "id": "885b8103",
   "metadata": {},
   "outputs": [
    {
     "name": "stdout",
     "output_type": "stream",
     "text": [
      "Model: \"sequential_2\"\n",
      "_________________________________________________________________\n",
      " Layer (type)                Output Shape              Param #   \n",
      "=================================================================\n",
      " conv3d_8 (Conv3D)           (None, 16, 120, 120, 16)  1312      \n",
      "                                                                 \n",
      " activation_8 (Activation)   (None, 16, 120, 120, 16)  0         \n",
      "                                                                 \n",
      " batch_normalization_12 (Bat  (None, 16, 120, 120, 16)  64       \n",
      " chNormalization)                                                \n",
      "                                                                 \n",
      " conv3d_9 (Conv3D)           (None, 16, 120, 120, 16)  6928      \n",
      "                                                                 \n",
      " activation_9 (Activation)   (None, 16, 120, 120, 16)  0         \n",
      "                                                                 \n",
      " batch_normalization_13 (Bat  (None, 16, 120, 120, 16)  64       \n",
      " chNormalization)                                                \n",
      "                                                                 \n",
      " max_pooling3d_8 (MaxPooling  (None, 8, 60, 60, 16)    0         \n",
      " 3D)                                                             \n",
      "                                                                 \n",
      " conv3d_10 (Conv3D)          (None, 8, 60, 60, 32)     13856     \n",
      "                                                                 \n",
      " activation_10 (Activation)  (None, 8, 60, 60, 32)     0         \n",
      "                                                                 \n",
      " batch_normalization_14 (Bat  (None, 8, 60, 60, 32)    128       \n",
      " chNormalization)                                                \n",
      "                                                                 \n",
      " conv3d_11 (Conv3D)          (None, 8, 60, 60, 32)     27680     \n",
      "                                                                 \n",
      " activation_11 (Activation)  (None, 8, 60, 60, 32)     0         \n",
      "                                                                 \n",
      " batch_normalization_15 (Bat  (None, 8, 60, 60, 32)    128       \n",
      " chNormalization)                                                \n",
      "                                                                 \n",
      " max_pooling3d_9 (MaxPooling  (None, 4, 30, 30, 32)    0         \n",
      " 3D)                                                             \n",
      "                                                                 \n",
      " conv3d_12 (Conv3D)          (None, 4, 30, 30, 64)     55360     \n",
      "                                                                 \n",
      " activation_12 (Activation)  (None, 4, 30, 30, 64)     0         \n",
      "                                                                 \n",
      " batch_normalization_16 (Bat  (None, 4, 30, 30, 64)    256       \n",
      " chNormalization)                                                \n",
      "                                                                 \n",
      " conv3d_13 (Conv3D)          (None, 4, 30, 30, 64)     110656    \n",
      "                                                                 \n",
      " activation_13 (Activation)  (None, 4, 30, 30, 64)     0         \n",
      "                                                                 \n",
      " batch_normalization_17 (Bat  (None, 4, 30, 30, 64)    256       \n",
      " chNormalization)                                                \n",
      "                                                                 \n",
      " max_pooling3d_10 (MaxPoolin  (None, 2, 15, 15, 64)    0         \n",
      " g3D)                                                            \n",
      "                                                                 \n",
      " conv3d_14 (Conv3D)          (None, 2, 15, 15, 128)    221312    \n",
      "                                                                 \n",
      " activation_14 (Activation)  (None, 2, 15, 15, 128)    0         \n",
      "                                                                 \n",
      " batch_normalization_18 (Bat  (None, 2, 15, 15, 128)   512       \n",
      " chNormalization)                                                \n",
      "                                                                 \n",
      " conv3d_15 (Conv3D)          (None, 2, 15, 15, 128)    442496    \n",
      "                                                                 \n",
      " activation_15 (Activation)  (None, 2, 15, 15, 128)    0         \n",
      "                                                                 \n",
      " batch_normalization_19 (Bat  (None, 2, 15, 15, 128)   512       \n",
      " chNormalization)                                                \n",
      "                                                                 \n",
      " max_pooling3d_11 (MaxPoolin  (None, 1, 7, 7, 128)     0         \n",
      " g3D)                                                            \n",
      "                                                                 \n",
      " flatten_2 (Flatten)         (None, 6272)              0         \n",
      "                                                                 \n",
      " dense_6 (Dense)             (None, 256)               1605888   \n",
      "                                                                 \n",
      " batch_normalization_20 (Bat  (None, 256)              1024      \n",
      " chNormalization)                                                \n",
      "                                                                 \n",
      " dropout_4 (Dropout)         (None, 256)               0         \n",
      "                                                                 \n",
      " dense_7 (Dense)             (None, 256)               65792     \n",
      "                                                                 \n",
      " batch_normalization_21 (Bat  (None, 256)              1024      \n",
      " chNormalization)                                                \n",
      "                                                                 \n",
      " dropout_5 (Dropout)         (None, 256)               0         \n",
      "                                                                 \n",
      " dense_8 (Dense)             (None, 5)                 1285      \n",
      "                                                                 \n",
      "=================================================================\n",
      "Total params: 2,556,533\n",
      "Trainable params: 2,554,549\n",
      "Non-trainable params: 1,984\n",
      "_________________________________________________________________\n"
     ]
    }
   ],
   "source": [
    "conv_3d4=ModelConv3D4()\n",
    "conv_3d4.initialize_path(project_folder)\n",
    "conv_3d4.initialize_image_properties(image_height=120,image_width=120)\n",
    "conv_3d4.initialize_hyperparams(frames_to_sample=16,batch_size=20,num_epochs=30)\n",
    "conv_3d4_model=conv_3d4.define_model(filtersize=(3,3,3),dense_neurons=256,dropout=0.5)\n",
    "conv_3d4_model.summary()"
   ]
  },
  {
   "cell_type": "code",
   "execution_count": 25,
   "id": "507b9601",
   "metadata": {},
   "outputs": [
    {
     "name": "stdout",
     "output_type": "stream",
     "text": [
      "Total Params: 2556533\n",
      "WARNING:tensorflow:`period` argument is deprecated. Please use `save_freq` to specify the frequency in number of batches seen.\n",
      "Epoch 1/30\n",
      "34/34 [==============================] - ETA: 0s - loss: 1.9664 - categorical_accuracy: 0.3846\n",
      "Epoch 00001: saving model to model_init_2023-03-2203_11_46.187135/model-00001-1.96638-0.38462-2.15448-0.21000.h5\n",
      "34/34 [==============================] - 168s 5s/step - loss: 1.9664 - categorical_accuracy: 0.3846 - val_loss: 2.1545 - val_categorical_accuracy: 0.2100 - lr: 0.0010\n",
      "Epoch 2/30\n",
      "34/34 [==============================] - ETA: 0s - loss: 1.4536 - categorical_accuracy: 0.5038\n",
      "Epoch 00002: saving model to model_init_2023-03-2203_11_46.187135/model-00002-1.45357-0.50377-3.58059-0.19000.h5\n",
      "34/34 [==============================] - 153s 5s/step - loss: 1.4536 - categorical_accuracy: 0.5038 - val_loss: 3.5806 - val_categorical_accuracy: 0.1900 - lr: 0.0010\n",
      "Epoch 3/30\n",
      "34/34 [==============================] - ETA: 0s - loss: 1.2200 - categorical_accuracy: 0.5588\n",
      "Epoch 00003: saving model to model_init_2023-03-2203_11_46.187135/model-00003-1.22002-0.55882-5.72379-0.13000.h5\n",
      "34/34 [==============================] - 153s 5s/step - loss: 1.2200 - categorical_accuracy: 0.5588 - val_loss: 5.7238 - val_categorical_accuracy: 0.1300 - lr: 0.0010\n",
      "Epoch 4/30\n",
      "34/34 [==============================] - ETA: 0s - loss: 1.0435 - categorical_accuracy: 0.6207\n",
      "Epoch 00004: saving model to model_init_2023-03-2203_11_46.187135/model-00004-1.04350-0.62066-5.99965-0.19000.h5\n",
      "34/34 [==============================] - 151s 5s/step - loss: 1.0435 - categorical_accuracy: 0.6207 - val_loss: 5.9997 - val_categorical_accuracy: 0.1900 - lr: 0.0010\n",
      "Epoch 5/30\n",
      "34/34 [==============================] - ETA: 0s - loss: 0.8803 - categorical_accuracy: 0.6652\n",
      "Epoch 00005: saving model to model_init_2023-03-2203_11_46.187135/model-00005-0.88034-0.66516-5.34476-0.21000.h5\n",
      "\n",
      "Epoch 00005: ReduceLROnPlateau reducing learning rate to 0.00020000000949949026.\n",
      "34/34 [==============================] - 152s 5s/step - loss: 0.8803 - categorical_accuracy: 0.6652 - val_loss: 5.3448 - val_categorical_accuracy: 0.2100 - lr: 0.0010\n",
      "Epoch 6/30\n",
      "34/34 [==============================] - ETA: 0s - loss: 0.6713 - categorical_accuracy: 0.7534\n",
      "Epoch 00006: saving model to model_init_2023-03-2203_11_46.187135/model-00006-0.67125-0.75339-5.91741-0.22000.h5\n",
      "34/34 [==============================] - 151s 5s/step - loss: 0.6713 - categorical_accuracy: 0.7534 - val_loss: 5.9174 - val_categorical_accuracy: 0.2200 - lr: 2.0000e-04\n",
      "Epoch 7/30\n",
      "34/34 [==============================] - ETA: 0s - loss: 0.5825 - categorical_accuracy: 0.7813\n",
      "Epoch 00007: saving model to model_init_2023-03-2203_11_46.187135/model-00007-0.58246-0.78130-6.02290-0.25000.h5\n",
      "34/34 [==============================] - 152s 5s/step - loss: 0.5825 - categorical_accuracy: 0.7813 - val_loss: 6.0229 - val_categorical_accuracy: 0.2500 - lr: 2.0000e-04\n",
      "Epoch 8/30\n",
      "34/34 [==============================] - ETA: 0s - loss: 0.4944 - categorical_accuracy: 0.8198\n",
      "Epoch 00008: saving model to model_init_2023-03-2203_11_46.187135/model-00008-0.49442-0.81976-6.85372-0.17000.h5\n",
      "34/34 [==============================] - 151s 5s/step - loss: 0.4944 - categorical_accuracy: 0.8198 - val_loss: 6.8537 - val_categorical_accuracy: 0.1700 - lr: 2.0000e-04\n",
      "Epoch 9/30\n",
      "34/34 [==============================] - ETA: 0s - loss: 0.4927 - categorical_accuracy: 0.8122\n",
      "Epoch 00009: saving model to model_init_2023-03-2203_11_46.187135/model-00009-0.49274-0.81222-5.14336-0.28000.h5\n",
      "\n",
      "Epoch 00009: ReduceLROnPlateau reducing learning rate to 4.0000001899898055e-05.\n",
      "34/34 [==============================] - 151s 5s/step - loss: 0.4927 - categorical_accuracy: 0.8122 - val_loss: 5.1434 - val_categorical_accuracy: 0.2800 - lr: 2.0000e-04\n",
      "Epoch 10/30\n",
      "34/34 [==============================] - ETA: 0s - loss: 0.4565 - categorical_accuracy: 0.8303\n",
      "Epoch 00010: saving model to model_init_2023-03-2203_11_46.187135/model-00010-0.45651-0.83032-4.82942-0.27000.h5\n",
      "34/34 [==============================] - 152s 5s/step - loss: 0.4565 - categorical_accuracy: 0.8303 - val_loss: 4.8294 - val_categorical_accuracy: 0.2700 - lr: 4.0000e-05\n",
      "Epoch 11/30\n",
      "34/34 [==============================] - ETA: 0s - loss: 0.4092 - categorical_accuracy: 0.8401\n",
      "Epoch 00011: saving model to model_init_2023-03-2203_11_46.187135/model-00011-0.40923-0.84012-4.55970-0.28000.h5\n",
      "34/34 [==============================] - 150s 5s/step - loss: 0.4092 - categorical_accuracy: 0.8401 - val_loss: 4.5597 - val_categorical_accuracy: 0.2800 - lr: 4.0000e-05\n",
      "Epoch 12/30\n",
      "34/34 [==============================] - ETA: 0s - loss: 0.3441 - categorical_accuracy: 0.8763\n",
      "Epoch 00012: saving model to model_init_2023-03-2203_11_46.187135/model-00012-0.34413-0.87632-3.71562-0.28000.h5\n",
      "34/34 [==============================] - 153s 5s/step - loss: 0.3441 - categorical_accuracy: 0.8763 - val_loss: 3.7156 - val_categorical_accuracy: 0.2800 - lr: 4.0000e-05\n",
      "Epoch 13/30\n",
      "34/34 [==============================] - ETA: 0s - loss: 0.4188 - categorical_accuracy: 0.8462\n",
      "Epoch 00013: saving model to model_init_2023-03-2203_11_46.187135/model-00013-0.41878-0.84615-3.17185-0.34000.h5\n",
      "\n",
      "Epoch 00013: ReduceLROnPlateau reducing learning rate to 8.000000525498762e-06.\n",
      "34/34 [==============================] - 151s 5s/step - loss: 0.4188 - categorical_accuracy: 0.8462 - val_loss: 3.1718 - val_categorical_accuracy: 0.3400 - lr: 4.0000e-05\n",
      "Epoch 14/30\n",
      "34/34 [==============================] - ETA: 0s - loss: 0.3607 - categorical_accuracy: 0.8725\n",
      "Epoch 00014: saving model to model_init_2023-03-2203_11_46.187135/model-00014-0.36065-0.87255-2.04055-0.53000.h5\n",
      "34/34 [==============================] - 152s 5s/step - loss: 0.3607 - categorical_accuracy: 0.8725 - val_loss: 2.0405 - val_categorical_accuracy: 0.5300 - lr: 8.0000e-06\n",
      "Epoch 15/30\n",
      "34/34 [==============================] - ETA: 0s - loss: 0.3973 - categorical_accuracy: 0.8560\n",
      "Epoch 00015: saving model to model_init_2023-03-2203_11_46.187135/model-00015-0.39727-0.85596-1.69966-0.50000.h5\n",
      "34/34 [==============================] - 152s 5s/step - loss: 0.3973 - categorical_accuracy: 0.8560 - val_loss: 1.6997 - val_categorical_accuracy: 0.5000 - lr: 8.0000e-06\n",
      "Epoch 16/30\n",
      "34/34 [==============================] - ETA: 0s - loss: 0.3853 - categorical_accuracy: 0.8560\n",
      "Epoch 00016: saving model to model_init_2023-03-2203_11_46.187135/model-00016-0.38534-0.85596-1.19876-0.61000.h5\n",
      "34/34 [==============================] - 151s 5s/step - loss: 0.3853 - categorical_accuracy: 0.8560 - val_loss: 1.1988 - val_categorical_accuracy: 0.6100 - lr: 8.0000e-06\n",
      "Epoch 17/30\n",
      "34/34 [==============================] - ETA: 0s - loss: 0.4030 - categorical_accuracy: 0.8635\n",
      "Epoch 00017: saving model to model_init_2023-03-2203_11_46.187135/model-00017-0.40300-0.86350-1.22737-0.64000.h5\n",
      "34/34 [==============================] - 152s 5s/step - loss: 0.4030 - categorical_accuracy: 0.8635 - val_loss: 1.2274 - val_categorical_accuracy: 0.6400 - lr: 8.0000e-06\n",
      "Epoch 18/30\n",
      "34/34 [==============================] - ETA: 0s - loss: 0.3686 - categorical_accuracy: 0.8650\n",
      "Epoch 00018: saving model to model_init_2023-03-2203_11_46.187135/model-00018-0.36861-0.86501-0.61411-0.81000.h5\n",
      "34/34 [==============================] - 151s 5s/step - loss: 0.3686 - categorical_accuracy: 0.8650 - val_loss: 0.6141 - val_categorical_accuracy: 0.8100 - lr: 8.0000e-06\n",
      "Epoch 19/30\n",
      "34/34 [==============================] - ETA: 0s - loss: 0.3512 - categorical_accuracy: 0.8612\n",
      "Epoch 00019: saving model to model_init_2023-03-2203_11_46.187135/model-00019-0.35116-0.86124-0.58943-0.78000.h5\n",
      "34/34 [==============================] - 150s 5s/step - loss: 0.3512 - categorical_accuracy: 0.8612 - val_loss: 0.5894 - val_categorical_accuracy: 0.7800 - lr: 8.0000e-06\n",
      "Epoch 20/30\n",
      "34/34 [==============================] - ETA: 0s - loss: 0.3489 - categorical_accuracy: 0.8710\n",
      "Epoch 00020: saving model to model_init_2023-03-2203_11_46.187135/model-00020-0.34895-0.87104-0.48079-0.83000.h5\n",
      "34/34 [==============================] - 150s 5s/step - loss: 0.3489 - categorical_accuracy: 0.8710 - val_loss: 0.4808 - val_categorical_accuracy: 0.8300 - lr: 8.0000e-06\n",
      "Epoch 21/30\n",
      "34/34 [==============================] - ETA: 0s - loss: 0.3280 - categorical_accuracy: 0.8801\n",
      "Epoch 00021: saving model to model_init_2023-03-2203_11_46.187135/model-00021-0.32798-0.88009-0.51795-0.84000.h5\n",
      "34/34 [==============================] - 152s 5s/step - loss: 0.3280 - categorical_accuracy: 0.8801 - val_loss: 0.5180 - val_categorical_accuracy: 0.8400 - lr: 8.0000e-06\n",
      "Epoch 22/30\n",
      "34/34 [==============================] - ETA: 0s - loss: 0.3891 - categorical_accuracy: 0.8605\n",
      "Epoch 00022: saving model to model_init_2023-03-2203_11_46.187135/model-00022-0.38907-0.86048-0.48080-0.84000.h5\n",
      "34/34 [==============================] - 150s 5s/step - loss: 0.3891 - categorical_accuracy: 0.8605 - val_loss: 0.4808 - val_categorical_accuracy: 0.8400 - lr: 8.0000e-06\n",
      "Epoch 23/30\n",
      "34/34 [==============================] - ETA: 0s - loss: 0.3272 - categorical_accuracy: 0.8778\n",
      "Epoch 00023: saving model to model_init_2023-03-2203_11_46.187135/model-00023-0.32723-0.87783-0.49263-0.82000.h5\n",
      "34/34 [==============================] - 152s 5s/step - loss: 0.3272 - categorical_accuracy: 0.8778 - val_loss: 0.4926 - val_categorical_accuracy: 0.8200 - lr: 8.0000e-06\n",
      "Epoch 24/30\n",
      "34/34 [==============================] - ETA: 0s - loss: 0.3433 - categorical_accuracy: 0.8710\n",
      "Epoch 00024: saving model to model_init_2023-03-2203_11_46.187135/model-00024-0.34327-0.87104-0.46254-0.85000.h5\n",
      "34/34 [==============================] - 151s 5s/step - loss: 0.3433 - categorical_accuracy: 0.8710 - val_loss: 0.4625 - val_categorical_accuracy: 0.8500 - lr: 8.0000e-06\n",
      "Epoch 25/30\n",
      "34/34 [==============================] - ETA: 0s - loss: 0.3238 - categorical_accuracy: 0.8763\n",
      "Epoch 00025: saving model to model_init_2023-03-2203_11_46.187135/model-00025-0.32380-0.87632-0.43675-0.86000.h5\n",
      "34/34 [==============================] - 151s 5s/step - loss: 0.3238 - categorical_accuracy: 0.8763 - val_loss: 0.4367 - val_categorical_accuracy: 0.8600 - lr: 8.0000e-06\n",
      "Epoch 26/30\n",
      "34/34 [==============================] - ETA: 0s - loss: 0.3587 - categorical_accuracy: 0.8718\n",
      "Epoch 00026: saving model to model_init_2023-03-2203_11_46.187135/model-00026-0.35871-0.87179-0.43860-0.86000.h5\n",
      "34/34 [==============================] - 152s 5s/step - loss: 0.3587 - categorical_accuracy: 0.8718 - val_loss: 0.4386 - val_categorical_accuracy: 0.8600 - lr: 8.0000e-06\n",
      "Epoch 27/30\n",
      "34/34 [==============================] - ETA: 0s - loss: 0.3306 - categorical_accuracy: 0.8756\n",
      "Epoch 00027: saving model to model_init_2023-03-2203_11_46.187135/model-00027-0.33058-0.87557-0.39002-0.88000.h5\n",
      "34/34 [==============================] - 151s 5s/step - loss: 0.3306 - categorical_accuracy: 0.8756 - val_loss: 0.3900 - val_categorical_accuracy: 0.8800 - lr: 8.0000e-06\n",
      "Epoch 28/30\n",
      "34/34 [==============================] - ETA: 0s - loss: 0.3151 - categorical_accuracy: 0.8861\n",
      "Epoch 00028: saving model to model_init_2023-03-2203_11_46.187135/model-00028-0.31510-0.88612-0.36830-0.91000.h5\n",
      "34/34 [==============================] - 152s 5s/step - loss: 0.3151 - categorical_accuracy: 0.8861 - val_loss: 0.3683 - val_categorical_accuracy: 0.9100 - lr: 8.0000e-06\n",
      "Epoch 29/30\n",
      "34/34 [==============================] - ETA: 0s - loss: 0.3416 - categorical_accuracy: 0.8793\n",
      "Epoch 00029: saving model to model_init_2023-03-2203_11_46.187135/model-00029-0.34158-0.87934-0.33314-0.91000.h5\n",
      "34/34 [==============================] - 152s 5s/step - loss: 0.3416 - categorical_accuracy: 0.8793 - val_loss: 0.3331 - val_categorical_accuracy: 0.9100 - lr: 8.0000e-06\n",
      "Epoch 30/30\n",
      "34/34 [==============================] - ETA: 0s - loss: 0.3177 - categorical_accuracy: 0.8786\n",
      "Epoch 00030: saving model to model_init_2023-03-2203_11_46.187135/model-00030-0.31773-0.87858-0.42721-0.91000.h5\n",
      "34/34 [==============================] - 153s 5s/step - loss: 0.3177 - categorical_accuracy: 0.8786 - val_loss: 0.4272 - val_categorical_accuracy: 0.9100 - lr: 8.0000e-06\n"
     ]
    }
   ],
   "source": [
    "print(\"Total Params:\", conv_3d4_model.count_params())\n",
    "history_model4=conv_3d4.train_model(conv_3d4_model,augment_data=True)"
   ]
  },
  {
   "cell_type": "code",
   "execution_count": 26,
   "id": "36bebea7",
   "metadata": {},
   "outputs": [
    {
     "data": {
      "image/png": "[encoded data removed]",
      "text/plain": [
       "<Figure size 1080x288 with 2 Axes>"
      ]
     },
     "metadata": {
      "needs_background": "light"
     },
     "output_type": "display_data"
    }
   ],
   "source": [
    "plot(history_model4)"
   ]
  },
  {
   "cell_type": "code",
   "execution_count": 27,
   "id": "c66243d9",
   "metadata": {},
   "outputs": [],
   "source": [
    "#With more layers we dont see much performance improvement. We get a best validation accuracy of 76% . Let's try adding dropouts at the convolution layers"
   ]
  },
  {
   "cell_type": "code",
   "execution_count": 28,
   "id": "4bf32fa5",
   "metadata": {},
   "outputs": [],
   "source": [
    "#Model 5 Adding dropout at convolution layers"
   ]
  },
  {
   "cell_type": "code",
   "execution_count": 29,
   "id": "16077167",
   "metadata": {},
   "outputs": [],
   "source": [
    "class ModelConv3D5(ModelBuilder):\n",
    "    \n",
    "    def define_model(self,filtersize=(3,3,3),dense_neurons=64,dropout=0.25):\n",
    "\n",
    "        model = Sequential()\n",
    "        model.add(Conv3D(16, filtersize, padding='same',\n",
    "                 input_shape=(self.frames_to_sample,self.image_height,self.image_width,self.channels)))\n",
    "        model.add(Activation('relu'))\n",
    "        model.add(BatchNormalization())\n",
    "        \n",
    "        model.add(Conv3D(16, filtersize, padding='same',\n",
    "                 input_shape=(self.frames_to_sample,self.image_height,self.image_width,self.channels)))\n",
    "        model.add(Activation('relu'))\n",
    "        model.add(BatchNormalization())\n",
    "        \n",
    "        model.add(MaxPooling3D(pool_size=(2, 2, 2)))\n",
    "        model.add(Dropout(dropout))\n",
    "\n",
    "        model.add(Conv3D(32, filtersize, padding='same'))\n",
    "        model.add(Activation('relu'))\n",
    "        model.add(BatchNormalization())\n",
    "        \n",
    "        model.add(Conv3D(32, filtersize, padding='same'))\n",
    "        model.add(Activation('relu'))\n",
    "        model.add(BatchNormalization())\n",
    "        \n",
    "        model.add(MaxPooling3D(pool_size=(2, 2, 2)))\n",
    "        model.add(Dropout(dropout))\n",
    "\n",
    "        model.add(Conv3D(64, filtersize, padding='same'))\n",
    "        model.add(Activation('relu'))\n",
    "        model.add(BatchNormalization())\n",
    "        \n",
    "        model.add(Conv3D(64, filtersize, padding='same'))\n",
    "        model.add(Activation('relu'))\n",
    "        model.add(BatchNormalization())\n",
    "        \n",
    "        model.add(MaxPooling3D(pool_size=(2, 2, 2)))\n",
    "        model.add(Dropout(dropout))\n",
    "\n",
    "        model.add(Conv3D(128, filtersize, padding='same'))\n",
    "        model.add(Activation('relu'))\n",
    "        model.add(BatchNormalization())\n",
    "        \n",
    "        model.add(Conv3D(128, filtersize, padding='same'))\n",
    "        model.add(Activation('relu'))\n",
    "        model.add(BatchNormalization())\n",
    "        \n",
    "        model.add(MaxPooling3D(pool_size=(2, 2, 2)))\n",
    "        model.add(Dropout(dropout))\n",
    "        \n",
    "        model.add(Flatten())\n",
    "        model.add(Dense(dense_neurons,activation='relu'))\n",
    "        model.add(BatchNormalization())\n",
    "        model.add(Dropout(dropout))\n",
    "\n",
    "        model.add(Dense(dense_neurons,activation='relu'))\n",
    "        model.add(BatchNormalization())\n",
    "        model.add(Dropout(dropout))\n",
    "\n",
    "\n",
    "        model.add(Dense(self.num_classes,activation='softmax'))\n",
    "\n",
    "        optimiser = tf.optimizers.Adam()\n",
    "        model.compile(optimizer=optimiser, loss='categorical_crossentropy', metrics=['categorical_accuracy'])\n",
    "        return model"
   ]
  },
  {
   "cell_type": "code",
   "execution_count": 30,
   "id": "3cab4ae4",
   "metadata": {},
   "outputs": [
    {
     "name": "stdout",
     "output_type": "stream",
     "text": [
      "Model: \"sequential_3\"\n",
      "_________________________________________________________________\n",
      " Layer (type)                Output Shape              Param #   \n",
      "=================================================================\n",
      " conv3d_16 (Conv3D)          (None, 16, 120, 120, 16)  1312      \n",
      "                                                                 \n",
      " activation_16 (Activation)  (None, 16, 120, 120, 16)  0         \n",
      "                                                                 \n",
      " batch_normalization_22 (Bat  (None, 16, 120, 120, 16)  64       \n",
      " chNormalization)                                                \n",
      "                                                                 \n",
      " conv3d_17 (Conv3D)          (None, 16, 120, 120, 16)  6928      \n",
      "                                                                 \n",
      " activation_17 (Activation)  (None, 16, 120, 120, 16)  0         \n",
      "                                                                 \n",
      " batch_normalization_23 (Bat  (None, 16, 120, 120, 16)  64       \n",
      " chNormalization)                                                \n",
      "                                                                 \n",
      " max_pooling3d_12 (MaxPoolin  (None, 8, 60, 60, 16)    0         \n",
      " g3D)                                                            \n",
      "                                                                 \n",
      " dropout_6 (Dropout)         (None, 8, 60, 60, 16)     0         \n",
      "                                                                 \n",
      " conv3d_18 (Conv3D)          (None, 8, 60, 60, 32)     13856     \n",
      "                                                                 \n",
      " activation_18 (Activation)  (None, 8, 60, 60, 32)     0         \n",
      "                                                                 \n",
      " batch_normalization_24 (Bat  (None, 8, 60, 60, 32)    128       \n",
      " chNormalization)                                                \n",
      "                                                                 \n",
      " conv3d_19 (Conv3D)          (None, 8, 60, 60, 32)     27680     \n",
      "                                                                 \n",
      " activation_19 (Activation)  (None, 8, 60, 60, 32)     0         \n",
      "                                                                 \n",
      " batch_normalization_25 (Bat  (None, 8, 60, 60, 32)    128       \n",
      " chNormalization)                                                \n",
      "                                                                 \n",
      " max_pooling3d_13 (MaxPoolin  (None, 4, 30, 30, 32)    0         \n",
      " g3D)                                                            \n",
      "                                                                 \n",
      " dropout_7 (Dropout)         (None, 4, 30, 30, 32)     0         \n",
      "                                                                 \n",
      " conv3d_20 (Conv3D)          (None, 4, 30, 30, 64)     55360     \n",
      "                                                                 \n",
      " activation_20 (Activation)  (None, 4, 30, 30, 64)     0         \n",
      "                                                                 \n",
      " batch_normalization_26 (Bat  (None, 4, 30, 30, 64)    256       \n",
      " chNormalization)                                                \n",
      "                                                                 \n",
      " conv3d_21 (Conv3D)          (None, 4, 30, 30, 64)     110656    \n",
      "                                                                 \n",
      " activation_21 (Activation)  (None, 4, 30, 30, 64)     0         \n",
      "                                                                 \n",
      " batch_normalization_27 (Bat  (None, 4, 30, 30, 64)    256       \n",
      " chNormalization)                                                \n",
      "                                                                 \n",
      " max_pooling3d_14 (MaxPoolin  (None, 2, 15, 15, 64)    0         \n",
      " g3D)                                                            \n",
      "                                                                 \n",
      " dropout_8 (Dropout)         (None, 2, 15, 15, 64)     0         \n",
      "                                                                 \n",
      " conv3d_22 (Conv3D)          (None, 2, 15, 15, 128)    221312    \n",
      "                                                                 \n",
      " activation_22 (Activation)  (None, 2, 15, 15, 128)    0         \n",
      "                                                                 \n",
      " batch_normalization_28 (Bat  (None, 2, 15, 15, 128)   512       \n",
      " chNormalization)                                                \n",
      "                                                                 \n",
      " conv3d_23 (Conv3D)          (None, 2, 15, 15, 128)    442496    \n",
      "                                                                 \n",
      " activation_23 (Activation)  (None, 2, 15, 15, 128)    0         \n",
      "                                                                 \n",
      " batch_normalization_29 (Bat  (None, 2, 15, 15, 128)   512       \n",
      " chNormalization)                                                \n",
      "                                                                 \n",
      " max_pooling3d_15 (MaxPoolin  (None, 1, 7, 7, 128)     0         \n",
      " g3D)                                                            \n",
      "                                                                 \n",
      " dropout_9 (Dropout)         (None, 1, 7, 7, 128)      0         \n",
      "                                                                 \n",
      " flatten_3 (Flatten)         (None, 6272)              0         \n",
      "                                                                 \n",
      " dense_9 (Dense)             (None, 256)               1605888   \n",
      "                                                                 \n",
      " batch_normalization_30 (Bat  (None, 256)              1024      \n",
      " chNormalization)                                                \n",
      "                                                                 \n",
      " dropout_10 (Dropout)        (None, 256)               0         \n",
      "                                                                 \n",
      " dense_10 (Dense)            (None, 256)               65792     \n",
      "                                                                 \n",
      " batch_normalization_31 (Bat  (None, 256)              1024      \n",
      " chNormalization)                                                \n",
      "                                                                 \n",
      " dropout_11 (Dropout)        (None, 256)               0         \n",
      "                                                                 \n",
      " dense_11 (Dense)            (None, 5)                 1285      \n",
      "                                                                 \n",
      "=================================================================\n",
      "Total params: 2,556,533\n",
      "Trainable params: 2,554,549\n",
      "Non-trainable params: 1,984\n",
      "_________________________________________________________________\n"
     ]
    }
   ],
   "source": [
    "conv_3d5=ModelConv3D5()\n",
    "conv_3d5.initialize_path(project_folder)\n",
    "conv_3d5.initialize_image_properties(image_height=120,image_width=120)\n",
    "conv_3d5.initialize_hyperparams(frames_to_sample=16,batch_size=20,num_epochs=22)\n",
    "conv_3d5_model=conv_3d5.define_model(filtersize=(3,3,3),dense_neurons=256,dropout=0.25)\n",
    "conv_3d5_model.summary()"
   ]
  },
  {
   "cell_type": "code",
   "execution_count": 31,
   "id": "58249bce",
   "metadata": {},
   "outputs": [
    {
     "name": "stdout",
     "output_type": "stream",
     "text": [
      "Total Params: 2556533\n",
      "WARNING:tensorflow:`period` argument is deprecated. Please use `save_freq` to specify the frequency in number of batches seen.\n",
      "Epoch 1/22\n",
      "34/34 [==============================] - ETA: 0s - loss: 1.6760 - categorical_accuracy: 0.4103\n",
      "Epoch 00001: saving model to model_init_2023-03-2204_41_22.714350/model-00001-1.67602-0.41026-1.90580-0.21000.h5\n",
      "34/34 [==============================] - 154s 5s/step - loss: 1.6760 - categorical_accuracy: 0.4103 - val_loss: 1.9058 - val_categorical_accuracy: 0.2100 - lr: 0.0010\n",
      "Epoch 2/22\n",
      "34/34 [==============================] - ETA: 0s - loss: 1.2536 - categorical_accuracy: 0.5241\n",
      "Epoch 00002: saving model to model_init_2023-03-2204_41_22.714350/model-00002-1.25360-0.52413-1.81035-0.25000.h5\n",
      "34/34 [==============================] - 152s 5s/step - loss: 1.2536 - categorical_accuracy: 0.5241 - val_loss: 1.8104 - val_categorical_accuracy: 0.2500 - lr: 0.0010\n",
      "Epoch 3/22\n",
      "34/34 [==============================] - ETA: 0s - loss: 1.1499 - categorical_accuracy: 0.5626\n",
      "Epoch 00003: saving model to model_init_2023-03-2204_41_22.714350/model-00003-1.14989-0.56259-1.93329-0.26000.h5\n",
      "34/34 [==============================] - 152s 5s/step - loss: 1.1499 - categorical_accuracy: 0.5626 - val_loss: 1.9333 - val_categorical_accuracy: 0.2600 - lr: 0.0010\n",
      "Epoch 4/22\n",
      "34/34 [==============================] - ETA: 0s - loss: 1.0104 - categorical_accuracy: 0.6116\n",
      "Epoch 00004: saving model to model_init_2023-03-2204_41_22.714350/model-00004-1.01041-0.61161-3.36043-0.21000.h5\n",
      "34/34 [==============================] - 150s 5s/step - loss: 1.0104 - categorical_accuracy: 0.6116 - val_loss: 3.3604 - val_categorical_accuracy: 0.2100 - lr: 0.0010\n",
      "Epoch 5/22\n",
      "34/34 [==============================] - ETA: 0s - loss: 0.9310 - categorical_accuracy: 0.6538\n",
      "Epoch 00005: saving model to model_init_2023-03-2204_41_22.714350/model-00005-0.93104-0.65385-3.34729-0.26000.h5\n",
      "34/34 [==============================] - 153s 5s/step - loss: 0.9310 - categorical_accuracy: 0.6538 - val_loss: 3.3473 - val_categorical_accuracy: 0.2600 - lr: 0.0010\n",
      "Epoch 6/22\n",
      "34/34 [==============================] - ETA: 0s - loss: 0.7902 - categorical_accuracy: 0.7097\n",
      "Epoch 00006: saving model to model_init_2023-03-2204_41_22.714350/model-00006-0.79021-0.70965-3.97552-0.23000.h5\n",
      "\n",
      "Epoch 00006: ReduceLROnPlateau reducing learning rate to 0.00020000000949949026.\n",
      "34/34 [==============================] - 151s 5s/step - loss: 0.7902 - categorical_accuracy: 0.7097 - val_loss: 3.9755 - val_categorical_accuracy: 0.2300 - lr: 0.0010\n",
      "Epoch 7/22\n",
      "34/34 [==============================] - ETA: 0s - loss: 0.6147 - categorical_accuracy: 0.7707\n",
      "Epoch 00007: saving model to model_init_2023-03-2204_41_22.714350/model-00007-0.61465-0.77074-2.42091-0.29000.h5\n",
      "34/34 [==============================] - 152s 5s/step - loss: 0.6147 - categorical_accuracy: 0.7707 - val_loss: 2.4209 - val_categorical_accuracy: 0.2900 - lr: 2.0000e-04\n",
      "Epoch 8/22\n",
      "34/34 [==============================] - ETA: 0s - loss: 0.5732 - categorical_accuracy: 0.7866\n",
      "Epoch 00008: saving model to model_init_2023-03-2204_41_22.714350/model-00008-0.57323-0.78658-3.84314-0.24000.h5\n",
      "34/34 [==============================] - 152s 5s/step - loss: 0.5732 - categorical_accuracy: 0.7866 - val_loss: 3.8431 - val_categorical_accuracy: 0.2400 - lr: 2.0000e-04\n",
      "Epoch 9/22\n",
      "34/34 [==============================] - ETA: 0s - loss: 0.4721 - categorical_accuracy: 0.8243\n",
      "Epoch 00009: saving model to model_init_2023-03-2204_41_22.714350/model-00009-0.47210-0.82428-3.33265-0.28000.h5\n",
      "34/34 [==============================] - 151s 5s/step - loss: 0.4721 - categorical_accuracy: 0.8243 - val_loss: 3.3326 - val_categorical_accuracy: 0.2800 - lr: 2.0000e-04\n",
      "Epoch 10/22\n",
      "34/34 [==============================] - ETA: 0s - loss: 0.4657 - categorical_accuracy: 0.8416\n",
      "Epoch 00010: saving model to model_init_2023-03-2204_41_22.714350/model-00010-0.46566-0.84163-2.93846-0.23000.h5\n",
      "\n",
      "Epoch 00010: ReduceLROnPlateau reducing learning rate to 4.0000001899898055e-05.\n",
      "34/34 [==============================] - 155s 5s/step - loss: 0.4657 - categorical_accuracy: 0.8416 - val_loss: 2.9385 - val_categorical_accuracy: 0.2300 - lr: 2.0000e-04\n",
      "Epoch 11/22\n",
      "34/34 [==============================] - ETA: 0s - loss: 0.3859 - categorical_accuracy: 0.8560\n",
      "Epoch 00011: saving model to model_init_2023-03-2204_41_22.714350/model-00011-0.38588-0.85596-3.17089-0.23000.h5\n",
      "34/34 [==============================] - 151s 5s/step - loss: 0.3859 - categorical_accuracy: 0.8560 - val_loss: 3.1709 - val_categorical_accuracy: 0.2300 - lr: 4.0000e-05\n",
      "Epoch 12/22\n",
      "34/34 [==============================] - ETA: 0s - loss: 0.3647 - categorical_accuracy: 0.8627\n",
      "Epoch 00012: saving model to model_init_2023-03-2204_41_22.714350/model-00012-0.36474-0.86275-2.85932-0.26000.h5\n",
      "34/34 [==============================] - 151s 5s/step - loss: 0.3647 - categorical_accuracy: 0.8627 - val_loss: 2.8593 - val_categorical_accuracy: 0.2600 - lr: 4.0000e-05\n",
      "Epoch 13/22\n",
      "34/34 [==============================] - ETA: 0s - loss: 0.3909 - categorical_accuracy: 0.8492\n",
      "Epoch 00013: saving model to model_init_2023-03-2204_41_22.714350/model-00013-0.39089-0.84917-2.54544-0.33000.h5\n",
      "34/34 [==============================] - 153s 5s/step - loss: 0.3909 - categorical_accuracy: 0.8492 - val_loss: 2.5454 - val_categorical_accuracy: 0.3300 - lr: 4.0000e-05\n",
      "Epoch 14/22\n",
      "34/34 [==============================] - ETA: 0s - loss: 0.3611 - categorical_accuracy: 0.8620\n",
      "Epoch 00014: saving model to model_init_2023-03-2204_41_22.714350/model-00014-0.36109-0.86199-2.26884-0.33000.h5\n",
      "\n",
      "Epoch 00014: ReduceLROnPlateau reducing learning rate to 8.000000525498762e-06.\n",
      "34/34 [==============================] - 151s 5s/step - loss: 0.3611 - categorical_accuracy: 0.8620 - val_loss: 2.2688 - val_categorical_accuracy: 0.3300 - lr: 4.0000e-05\n",
      "Epoch 15/22\n",
      "34/34 [==============================] - ETA: 0s - loss: 0.3696 - categorical_accuracy: 0.8658\n",
      "Epoch 00015: saving model to model_init_2023-03-2204_41_22.714350/model-00015-0.36963-0.86576-2.25273-0.38000.h5\n",
      "34/34 [==============================] - 151s 5s/step - loss: 0.3696 - categorical_accuracy: 0.8658 - val_loss: 2.2527 - val_categorical_accuracy: 0.3800 - lr: 8.0000e-06\n",
      "Epoch 16/22\n",
      "34/34 [==============================] - ETA: 0s - loss: 0.3325 - categorical_accuracy: 0.8808\n",
      "Epoch 00016: saving model to model_init_2023-03-2204_41_22.714350/model-00016-0.33246-0.88084-1.75801-0.50000.h5\n",
      "34/34 [==============================] - 154s 5s/step - loss: 0.3325 - categorical_accuracy: 0.8808 - val_loss: 1.7580 - val_categorical_accuracy: 0.5000 - lr: 8.0000e-06\n",
      "Epoch 17/22\n",
      "34/34 [==============================] - ETA: 0s - loss: 0.3632 - categorical_accuracy: 0.8665\n",
      "Epoch 00017: saving model to model_init_2023-03-2204_41_22.714350/model-00017-0.36318-0.86652-1.62973-0.50000.h5\n",
      "34/34 [==============================] - 150s 5s/step - loss: 0.3632 - categorical_accuracy: 0.8665 - val_loss: 1.6297 - val_categorical_accuracy: 0.5000 - lr: 8.0000e-06\n",
      "Epoch 18/22\n",
      "34/34 [==============================] - ETA: 0s - loss: 0.3440 - categorical_accuracy: 0.8771\n",
      "Epoch 00018: saving model to model_init_2023-03-2204_41_22.714350/model-00018-0.34401-0.87707-1.31575-0.59000.h5\n",
      "34/34 [==============================] - 152s 5s/step - loss: 0.3440 - categorical_accuracy: 0.8771 - val_loss: 1.3157 - val_categorical_accuracy: 0.5900 - lr: 8.0000e-06\n",
      "Epoch 19/22\n",
      "34/34 [==============================] - ETA: 0s - loss: 0.3497 - categorical_accuracy: 0.8688\n",
      "Epoch 00019: saving model to model_init_2023-03-2204_41_22.714350/model-00019-0.34973-0.86878-1.30800-0.60000.h5\n",
      "34/34 [==============================] - 152s 5s/step - loss: 0.3497 - categorical_accuracy: 0.8688 - val_loss: 1.3080 - val_categorical_accuracy: 0.6000 - lr: 8.0000e-06\n",
      "Epoch 20/22\n",
      "34/34 [==============================] - ETA: 0s - loss: 0.3653 - categorical_accuracy: 0.8763\n",
      "Epoch 00020: saving model to model_init_2023-03-2204_41_22.714350/model-00020-0.36534-0.87632-1.04211-0.69000.h5\n",
      "34/34 [==============================] - 152s 5s/step - loss: 0.3653 - categorical_accuracy: 0.8763 - val_loss: 1.0421 - val_categorical_accuracy: 0.6900 - lr: 8.0000e-06\n",
      "Epoch 21/22\n",
      "34/34 [==============================] - ETA: 0s - loss: 0.3359 - categorical_accuracy: 0.8725\n",
      "Epoch 00021: saving model to model_init_2023-03-2204_41_22.714350/model-00021-0.33594-0.87255-1.02172-0.66000.h5\n",
      "34/34 [==============================] - 151s 5s/step - loss: 0.3359 - categorical_accuracy: 0.8725 - val_loss: 1.0217 - val_categorical_accuracy: 0.6600 - lr: 8.0000e-06\n",
      "Epoch 22/22\n",
      "34/34 [==============================] - ETA: 0s - loss: 0.3624 - categorical_accuracy: 0.8620\n",
      "Epoch 00022: saving model to model_init_2023-03-2204_41_22.714350/model-00022-0.36236-0.86199-0.96969-0.65000.h5\n",
      "34/34 [==============================] - 153s 5s/step - loss: 0.3624 - categorical_accuracy: 0.8620 - val_loss: 0.9697 - val_categorical_accuracy: 0.6500 - lr: 8.0000e-06\n"
     ]
    }
   ],
   "source": [
    "print(\"Total Params:\", conv_3d5_model.count_params())\n",
    "history_model5=conv_3d5.train_model(conv_3d5_model,augment_data=True)"
   ]
  },
  {
   "cell_type": "code",
   "execution_count": 32,
   "id": "1e67d707",
   "metadata": {},
   "outputs": [
    {
     "data": {
      "image/png": "[encoded data removed]",
      "text/plain": [
       "<Figure size 1080x288 with 2 Axes>"
      ]
     },
     "metadata": {
      "needs_background": "light"
     },
     "output_type": "display_data"
    }
   ],
   "source": [
    "plot(history_model5)"
   ]
  },
  {
   "cell_type": "code",
   "execution_count": 33,
   "id": "1882232c",
   "metadata": {},
   "outputs": [],
   "source": [
    "#Adding dropouts has further reduced validation accuracy as its not to learn generalizable features"
   ]
  },
  {
   "cell_type": "code",
   "execution_count": 34,
   "id": "5597ab00",
   "metadata": {},
   "outputs": [],
   "source": [
    "#All models experimental models above have more than 1 million parameters. Let's try to reduce the model size and see the performance"
   ]
  },
  {
   "cell_type": "code",
   "execution_count": 35,
   "id": "a76ed24e",
   "metadata": {},
   "outputs": [],
   "source": [
    "#Model 6 - reducing the number of parameters"
   ]
  },
  {
   "cell_type": "code",
   "execution_count": 36,
   "id": "50c812f3",
   "metadata": {},
   "outputs": [],
   "source": [
    "class ModelConv3D6(ModelBuilder):\n",
    "    \n",
    "    def define_model(self,dense_neurons=64,dropout=0.25):\n",
    "\n",
    "        model = Sequential()\n",
    "        model.add(Conv3D(16, (3, 3, 3), padding='same',\n",
    "                 input_shape=(self.frames_to_sample,self.image_height,self.image_width,self.channels)))\n",
    "        model.add(Activation('relu'))\n",
    "        model.add(BatchNormalization())\n",
    "        model.add(MaxPooling3D(pool_size=(2, 2, 2)))\n",
    "\n",
    "        model.add(Conv3D(32, (2, 2, 2), padding='same'))\n",
    "        model.add(Activation('relu'))\n",
    "        model.add(BatchNormalization())\n",
    "        model.add(MaxPooling3D(pool_size=(2, 2, 2)))\n",
    "\n",
    "        model.add(Conv3D(64, (2, 2, 2), padding='same'))\n",
    "        model.add(Activation('relu'))\n",
    "        model.add(BatchNormalization())\n",
    "        model.add(MaxPooling3D(pool_size=(2, 2, 2)))\n",
    "\n",
    "        model.add(Conv3D(128, (2, 2, 2), padding='same'))\n",
    "        model.add(Activation('relu'))\n",
    "        model.add(BatchNormalization())\n",
    "        model.add(MaxPooling3D(pool_size=(2, 2, 2)))\n",
    "        \n",
    "        model.add(Flatten())\n",
    "        model.add(Dense(dense_neurons,activation='relu'))\n",
    "        model.add(BatchNormalization())\n",
    "        model.add(Dropout(dropout))\n",
    "\n",
    "        model.add(Dense(dense_neurons,activation='relu'))\n",
    "        model.add(BatchNormalization())\n",
    "        model.add(Dropout(dropout))\n",
    "\n",
    "        model.add(Dense(self.num_classes,activation='softmax'))\n",
    "\n",
    "        optimiser = tf.optimizers.Adam(lr=0.0002)\n",
    "        model.compile(optimizer=optimiser, loss='categorical_crossentropy', metrics=['categorical_accuracy'])\n",
    "        return model"
   ]
  },
  {
   "cell_type": "code",
   "execution_count": 37,
   "id": "1b914a7c",
   "metadata": {},
   "outputs": [
    {
     "name": "stdout",
     "output_type": "stream",
     "text": [
      "Model: \"sequential_4\"\n",
      "_________________________________________________________________\n",
      " Layer (type)                Output Shape              Param #   \n",
      "=================================================================\n",
      " conv3d_24 (Conv3D)          (None, 16, 100, 100, 16)  1312      \n",
      "                                                                 \n",
      " activation_24 (Activation)  (None, 16, 100, 100, 16)  0         \n",
      "                                                                 \n",
      " batch_normalization_32 (Bat  (None, 16, 100, 100, 16)  64       \n",
      " chNormalization)                                                \n",
      "                                                                 \n",
      " max_pooling3d_16 (MaxPoolin  (None, 8, 50, 50, 16)    0         \n",
      " g3D)                                                            \n",
      "                                                                 \n",
      " conv3d_25 (Conv3D)          (None, 8, 50, 50, 32)     4128      \n",
      "                                                                 \n",
      " activation_25 (Activation)  (None, 8, 50, 50, 32)     0         \n",
      "                                                                 \n",
      " batch_normalization_33 (Bat  (None, 8, 50, 50, 32)    128       \n",
      " chNormalization)                                                \n",
      "                                                                 \n",
      " max_pooling3d_17 (MaxPoolin  (None, 4, 25, 25, 32)    0         \n",
      " g3D)                                                            \n",
      "                                                                 \n",
      " conv3d_26 (Conv3D)          (None, 4, 25, 25, 64)     16448     \n",
      "                                                                 \n",
      " activation_26 (Activation)  (None, 4, 25, 25, 64)     0         \n",
      "                                                                 \n",
      " batch_normalization_34 (Bat  (None, 4, 25, 25, 64)    256       \n",
      " chNormalization)                                                \n",
      "                                                                 \n",
      " max_pooling3d_18 (MaxPoolin  (None, 2, 12, 12, 64)    0         \n",
      " g3D)                                                            \n",
      "                                                                 \n",
      " conv3d_27 (Conv3D)          (None, 2, 12, 12, 128)    65664     \n",
      "                                                                 \n",
      " activation_27 (Activation)  (None, 2, 12, 12, 128)    0         \n",
      "                                                                 \n",
      " batch_normalization_35 (Bat  (None, 2, 12, 12, 128)   512       \n",
      " chNormalization)                                                \n",
      "                                                                 \n",
      " max_pooling3d_19 (MaxPoolin  (None, 1, 6, 6, 128)     0         \n",
      " g3D)                                                            \n",
      "                                                                 \n",
      " flatten_4 (Flatten)         (None, 4608)              0         \n",
      "                                                                 \n",
      " dense_12 (Dense)            (None, 128)               589952    \n",
      "                                                                 \n",
      " batch_normalization_36 (Bat  (None, 128)              512       \n",
      " chNormalization)                                                \n",
      "                                                                 \n",
      " dropout_12 (Dropout)        (None, 128)               0         \n",
      "                                                                 \n",
      " dense_13 (Dense)            (None, 128)               16512     \n",
      "                                                                 \n",
      " batch_normalization_37 (Bat  (None, 128)              512       \n",
      " chNormalization)                                                \n",
      "                                                                 \n",
      " dropout_13 (Dropout)        (None, 128)               0         \n",
      "                                                                 \n",
      " dense_14 (Dense)            (None, 5)                 645       \n",
      "                                                                 \n",
      "=================================================================\n",
      "Total params: 696,645\n",
      "Trainable params: 695,653\n",
      "Non-trainable params: 992\n",
      "_________________________________________________________________\n"
     ]
    }
   ],
   "source": [
    "conv_3d6=ModelConv3D6()\n",
    "conv_3d6.initialize_path(project_folder)\n",
    "conv_3d6.initialize_image_properties(image_height=100,image_width=100)\n",
    "conv_3d6.initialize_hyperparams(frames_to_sample=16,batch_size=20,num_epochs=30)\n",
    "conv_3d6_model=conv_3d6.define_model(dense_neurons=128,dropout=0.25)\n",
    "conv_3d6_model.summary()"
   ]
  },
  {
   "cell_type": "code",
   "execution_count": null,
   "id": "3b451981",
   "metadata": {},
   "outputs": [
    {
     "name": "stdout",
     "output_type": "stream",
     "text": [
      "Total Params: 696645\n",
      "WARNING:tensorflow:`period` argument is deprecated. Please use `save_freq` to specify the frequency in number of batches seen.\n",
      "Epoch 1/30\n",
      "34/34 [==============================] - ETA: 0s - loss: 1.7996 - categorical_accuracy: 0.3748\n",
      "Epoch 00001: saving model to model_init_2023-03-2205_37_09.092714/model-00001-1.79964-0.37481-1.96411-0.21000.h5\n",
      "34/34 [==============================] - 149s 4s/step - loss: 1.7996 - categorical_accuracy: 0.3748 - val_loss: 1.9641 - val_categorical_accuracy: 0.2100 - lr: 2.0000e-04\n",
      "Epoch 2/30\n",
      "34/34 [==============================] - ETA: 0s - loss: 1.2421 - categorical_accuracy: 0.5362\n",
      "Epoch 00002: saving model to model_init_2023-03-2205_37_09.092714/model-00002-1.24213-0.53620-3.07601-0.23000.h5\n",
      "34/34 [==============================] - 148s 4s/step - loss: 1.2421 - categorical_accuracy: 0.5362 - val_loss: 3.0760 - val_categorical_accuracy: 0.2300 - lr: 2.0000e-04\n",
      "Epoch 3/30\n",
      "34/34 [==============================] - ETA: 0s - loss: 1.0229 - categorical_accuracy: 0.6176\n",
      "Epoch 00003: saving model to model_init_2023-03-2205_37_09.092714/model-00003-1.02293-0.61765-4.46512-0.20000.h5\n",
      "34/34 [==============================] - 148s 4s/step - loss: 1.0229 - categorical_accuracy: 0.6176 - val_loss: 4.4651 - val_categorical_accuracy: 0.2000 - lr: 2.0000e-04\n",
      "Epoch 4/30\n",
      "34/34 [==============================] - ETA: 0s - loss: 0.8798 - categorical_accuracy: 0.6659\n",
      "Epoch 00004: saving model to model_init_2023-03-2205_37_09.092714/model-00004-0.87977-0.66591-5.37832-0.21000.h5\n",
      "34/34 [==============================] - 146s 4s/step - loss: 0.8798 - categorical_accuracy: 0.6659 - val_loss: 5.3783 - val_categorical_accuracy: 0.2100 - lr: 2.0000e-04\n",
      "Epoch 5/30\n",
      "34/34 [==============================] - ETA: 0s - loss: 0.7259 - categorical_accuracy: 0.7149\n",
      "Epoch 00005: saving model to model_init_2023-03-2205_37_09.092714/model-00005-0.72592-0.71493-6.99387-0.23000.h5\n",
      "\n",
      "Epoch 00005: ReduceLROnPlateau reducing learning rate to 3.9999998989515007e-05.\n",
      "34/34 [==============================] - 150s 5s/step - loss: 0.7259 - categorical_accuracy: 0.7149 - val_loss: 6.9939 - val_categorical_accuracy: 0.2300 - lr: 2.0000e-04\n",
      "Epoch 6/30\n",
      " 2/34 [>.............................] - ETA: 2:21 - loss: 0.6964 - categorical_accuracy: 0.7375"
     ]
    }
   ],
   "source": [
    "print(\"Total Params:\", conv_3d6_model.count_params())\n",
    "history_model6=conv_3d6.train_model(conv_3d6_model,augment_data=True)"
   ]
  },
  {
   "cell_type": "code",
   "execution_count": null,
   "id": "e16fe7c7",
   "metadata": {},
   "outputs": [],
   "source": [
    "plot(history_model6)"
   ]
  },
  {
   "cell_type": "code",
   "execution_count": null,
   "id": "8ef8790b",
   "metadata": {},
   "outputs": [],
   "source": [
    "#For the above low memory foot print model the best validation accuracy of 77%"
   ]
  },
  {
   "cell_type": "code",
   "execution_count": null,
   "id": "1734d17f",
   "metadata": {},
   "outputs": [],
   "source": [
    "#Model 7 - reducing the number of parameters"
   ]
  },
  {
   "cell_type": "code",
   "execution_count": null,
   "id": "9dd47357",
   "metadata": {},
   "outputs": [],
   "source": [
    "class ModelConv3D7(ModelBuilder):\n",
    "    \n",
    "    def define_model(self,dense_neurons=64,dropout=0.25):\n",
    "\n",
    "        model = Sequential()\n",
    "        model.add(Conv3D(16, (3, 3, 3), padding='same',\n",
    "                 input_shape=(self.frames_to_sample,self.image_height,self.image_width,self.channels)))\n",
    "        model.add(Activation('relu'))\n",
    "        model.add(BatchNormalization())\n",
    "        model.add(MaxPooling3D(pool_size=(2, 2, 2)))\n",
    "\n",
    "        model.add(Conv3D(32, (3, 3, 3), padding='same'))\n",
    "        model.add(Activation('relu'))\n",
    "        model.add(BatchNormalization())\n",
    "        model.add(MaxPooling3D(pool_size=(2, 2, 2)))\n",
    "\n",
    "        model.add(Conv3D(64, (2, 2, 2), padding='same'))\n",
    "        model.add(Activation('relu'))\n",
    "        model.add(BatchNormalization())\n",
    "        model.add(MaxPooling3D(pool_size=(2, 2, 2)))\n",
    "\n",
    "        model.add(Conv3D(128, (2, 2, 2), padding='same'))\n",
    "        model.add(Activation('relu'))\n",
    "        model.add(BatchNormalization())\n",
    "        model.add(MaxPooling3D(pool_size=(2, 2, 2)))\n",
    "        \n",
    "        model.add(Flatten())\n",
    "        model.add(Dense(dense_neurons,activation='relu'))\n",
    "        model.add(BatchNormalization())\n",
    "        model.add(Dropout(dropout))\n",
    "\n",
    "        model.add(Dense(dense_neurons,activation='relu'))\n",
    "        model.add(BatchNormalization())\n",
    "        model.add(Dropout(dropout))\n",
    "\n",
    "        model.add(Dense(self.num_classes,activation='softmax'))\n",
    "\n",
    "        optimiser = tf.optimizers.Adam(lr=0.0002)\n",
    "        model.compile(optimizer=optimiser, loss='categorical_crossentropy', metrics=['categorical_accuracy'])\n",
    "        return model"
   ]
  },
  {
   "cell_type": "code",
   "execution_count": null,
   "id": "5cfcbe55",
   "metadata": {},
   "outputs": [],
   "source": [
    "conv_3d7=ModelConv3D7()\n",
    "conv_3d7.initialize_path(project_folder)\n",
    "conv_3d7.initialize_image_properties(image_height=120,image_width=120)\n",
    "conv_3d7.initialize_hyperparams(frames_to_sample=16,batch_size=20,num_epochs=25)\n",
    "conv_3d7_model=conv_3d7.define_model(dense_neurons=64,dropout=0.25)\n",
    "conv_3d7_model.summary()"
   ]
  },
  {
   "cell_type": "code",
   "execution_count": null,
   "id": "fa92aea7",
   "metadata": {},
   "outputs": [],
   "source": [
    "print(\"Total Params:\", conv_3d7_model.count_params())\n",
    "history_model7=conv_3d7.train_model(conv_3d7_model,augment_data=True)"
   ]
  },
  {
   "cell_type": "code",
   "execution_count": null,
   "id": "24b09c74",
   "metadata": {},
   "outputs": [],
   "source": [
    "plot(history_model7)"
   ]
  },
  {
   "cell_type": "code",
   "execution_count": null,
   "id": "125c6878",
   "metadata": {},
   "outputs": [],
   "source": [
    "#For the above low memory foot print model the best validation accuracy of 77%"
   ]
  },
  {
   "cell_type": "code",
   "execution_count": null,
   "id": "6711592f",
   "metadata": {},
   "outputs": [],
   "source": [
    "#Model 8 - reducing the number of parameters"
   ]
  },
  {
   "cell_type": "code",
   "execution_count": null,
   "id": "ce837099",
   "metadata": {},
   "outputs": [],
   "source": [
    "class ModelConv3D8(ModelBuilder):\n",
    "    \n",
    "    def define_model(self,dense_neurons=64,dropout=0.25):\n",
    "\n",
    "        model = Sequential()\n",
    "        model.add(Conv3D(8, (3, 3, 3), padding='same',\n",
    "                 input_shape=(self.frames_to_sample,self.image_height,self.image_width,self.channels)))\n",
    "        model.add(Activation('relu'))\n",
    "        model.add(BatchNormalization())\n",
    "        model.add(MaxPooling3D(pool_size=(2, 2, 2)))\n",
    "\n",
    "        model.add(Conv3D(16, (3, 3, 3), padding='same'))\n",
    "        model.add(Activation('relu'))\n",
    "        model.add(BatchNormalization())\n",
    "        model.add(MaxPooling3D(pool_size=(2, 2, 2)))\n",
    "\n",
    "        model.add(Conv3D(32, (2, 2, 2), padding='same'))\n",
    "        model.add(Activation('relu'))\n",
    "        model.add(BatchNormalization())\n",
    "        model.add(MaxPooling3D(pool_size=(2, 2, 2)))\n",
    "\n",
    "        model.add(Conv3D(64, (2, 2, 2), padding='same'))\n",
    "        model.add(Activation('relu'))\n",
    "        model.add(BatchNormalization())\n",
    "        model.add(MaxPooling3D(pool_size=(2, 2, 2)))\n",
    "        \n",
    "        model.add(Flatten())\n",
    "        model.add(Dense(dense_neurons,activation='relu'))\n",
    "        model.add(BatchNormalization())\n",
    "        model.add(Dropout(dropout))\n",
    "\n",
    "        model.add(Dense(dense_neurons,activation='relu'))\n",
    "        model.add(BatchNormalization())\n",
    "        model.add(Dropout(dropout))\n",
    "\n",
    "        model.add(Dense(self.num_classes,activation='softmax'))\n",
    "\n",
    "        optimiser = tf.optimizers.Adam(lr=0.0002)\n",
    "        model.compile(optimizer=optimiser, loss='categorical_crossentropy', metrics=['categorical_accuracy'])\n",
    "        return model"
   ]
  },
  {
   "cell_type": "code",
   "execution_count": null,
   "id": "d011ef89",
   "metadata": {},
   "outputs": [],
   "source": [
    "conv_3d8=ModelConv3D8()\n",
    "conv_3d8.initialize_path(project_folder)\n",
    "conv_3d8.initialize_image_properties(image_height=120,image_width=120)\n",
    "conv_3d8.initialize_hyperparams(frames_to_sample=16,batch_size=20,num_epochs=30)\n",
    "conv_3d8_model=conv_3d8.define_model(dense_neurons=64,dropout=0.25)\n",
    "conv_3d8_model.summary()"
   ]
  },
  {
   "cell_type": "code",
   "execution_count": null,
   "id": "a42a0c33",
   "metadata": {},
   "outputs": [],
   "source": [
    "print(\"Total Params:\", conv_3d8_model.count_params())\n",
    "history_model8=conv_3d8.train_model(conv_3d8_model,augment_data=True)"
   ]
  },
  {
   "cell_type": "code",
   "execution_count": null,
   "id": "23730aec",
   "metadata": {},
   "outputs": [],
   "source": [
    "plot(history_model8)"
   ]
  },
  {
   "cell_type": "code",
   "execution_count": null,
   "id": "e10d9b76",
   "metadata": {},
   "outputs": [],
   "source": [
    "#For the above low memory foot print model the best validation accuracy of 78%"
   ]
  },
  {
   "cell_type": "code",
   "execution_count": null,
   "id": "f53493b2",
   "metadata": {},
   "outputs": [],
   "source": [
    "#Model 9 - CNN- LSTM Model"
   ]
  },
  {
   "cell_type": "code",
   "execution_count": null,
   "id": "30b9502d",
   "metadata": {},
   "outputs": [],
   "source": [
    "class RNNCNN1(ModelBuilder):\n",
    "    \n",
    "    def define_model(self,lstm_cells=64,dense_neurons=64,dropout=0.25):\n",
    "\n",
    "        model = Sequential()\n",
    "\n",
    "        model.add(TimeDistributed(Conv2D(16, (3, 3) , padding='same', activation='relu'),\n",
    "                                  input_shape=(self.frames_to_sample,self.image_height,self.image_width,self.channels)))\n",
    "        model.add(TimeDistributed(BatchNormalization()))\n",
    "        model.add(TimeDistributed(MaxPooling2D((2, 2))))\n",
    "        \n",
    "        model.add(TimeDistributed(Conv2D(32, (3, 3) , padding='same', activation='relu')))\n",
    "        model.add(TimeDistributed(BatchNormalization()))\n",
    "        model.add(TimeDistributed(MaxPooling2D((2, 2))))\n",
    "        \n",
    "        model.add(TimeDistributed(Conv2D(64, (3, 3) , padding='same', activation='relu')))\n",
    "        model.add(TimeDistributed(BatchNormalization()))\n",
    "        model.add(TimeDistributed(MaxPooling2D((2, 2))))\n",
    "        \n",
    "        model.add(TimeDistributed(Conv2D(128, (3, 3) , padding='same', activation='relu')))\n",
    "        model.add(TimeDistributed(BatchNormalization()))\n",
    "        model.add(TimeDistributed(MaxPooling2D((2, 2))))\n",
    "        \n",
    "        model.add(TimeDistributed(Conv2D(256, (3, 3) , padding='same', activation='relu')))\n",
    "        model.add(TimeDistributed(BatchNormalization()))\n",
    "        model.add(TimeDistributed(MaxPooling2D((2, 2))))\n",
    "        \n",
    "        #model.add(TimeDistributed(Conv2D(512, (2, 2) , padding='valid', activation='relu')))\n",
    "       # model.add(TimeDistributed(BatchNormalization()))\n",
    "       # model.add(TimeDistributed(MaxPooling2D((2, 2))))\n",
    "\n",
    "        model.add(TimeDistributed(Flatten()))\n",
    "\n",
    "\n",
    "        model.add(LSTM(lstm_cells))\n",
    "        model.add(Dropout(dropout))\n",
    "        \n",
    "        model.add(Dense(dense_neurons,activation='relu'))\n",
    "        model.add(Dropout(dropout))\n",
    "        \n",
    "        model.add(Dense(self.num_classes, activation='softmax'))\n",
    "        optimiser = tf.optimizers.Adam()\n",
    "        model.compile(optimizer=optimiser, loss='categorical_crossentropy', metrics=['categorical_accuracy'])\n",
    "        return model"
   ]
  },
  {
   "cell_type": "code",
   "execution_count": null,
   "id": "bc8c205f",
   "metadata": {},
   "outputs": [],
   "source": [
    "rnn_cnn1=RNNCNN1()\n",
    "rnn_cnn1.initialize_path(project_folder)\n",
    "rnn_cnn1.initialize_image_properties(image_height=120,image_width=120)\n",
    "rnn_cnn1.initialize_hyperparams(frames_to_sample=18,batch_size=20,num_epochs=20)\n",
    "rnn_cnn1_model=rnn_cnn1.define_model(lstm_cells=128,dense_neurons=128,dropout=0.25)\n",
    "rnn_cnn1_model.summary()"
   ]
  },
  {
   "cell_type": "code",
   "execution_count": null,
   "id": "fe5dfc20",
   "metadata": {},
   "outputs": [],
   "source": [
    "print(\"Total Params:\", rnn_cnn1_model.count_params())\n",
    "history_model9=rnn_cnn1.train_model(rnn_cnn1_model,augment_data=True)"
   ]
  },
  {
   "cell_type": "code",
   "execution_count": null,
   "id": "f65a12e3",
   "metadata": {},
   "outputs": [],
   "source": [
    "plot(history_model9)"
   ]
  },
  {
   "cell_type": "code",
   "execution_count": null,
   "id": "1dda7e93",
   "metadata": {},
   "outputs": [],
   "source": [
    "#For CNN - LSTM model we get a best validation accuracy of 75%"
   ]
  },
  {
   "cell_type": "code",
   "execution_count": null,
   "id": "04f0abd4",
   "metadata": {},
   "outputs": [],
   "source": [
    "#As we see more cases of overfitting, lets augment the data with slight rotation as well and run the same set of models again"
   ]
  },
  {
   "cell_type": "code",
   "execution_count": null,
   "id": "04120fac",
   "metadata": {},
   "outputs": [],
   "source": [
    "#More Augmentation"
   ]
  },
  {
   "cell_type": "code",
   "execution_count": null,
   "id": "5f2a8808",
   "metadata": {},
   "outputs": [],
   "source": [
    "class ModelBuilderMoreAugmentation(metaclass= abc.ABCMeta):\n",
    "    \n",
    "    def initialize_path(self,project_folder):\n",
    "        self.train_doc = np.random.permutation(open(project_folder + '/' + 'train.csv').readlines())\n",
    "        self.val_doc = np.random.permutation(open(project_folder + '/' + 'val.csv').readlines())\n",
    "        self.train_path = project_folder + '/' + 'train'\n",
    "        self.val_path =  project_folder + '/' + 'val'\n",
    "        self.num_train_sequences = len(self.train_doc)\n",
    "        self.num_val_sequences = len(self.val_doc)\n",
    "        \n",
    "    def initialize_image_properties(self,image_height=100,image_width=100):\n",
    "        self.image_height=image_height\n",
    "        self.image_width=image_width\n",
    "        self.channels=3\n",
    "        self.num_classes=5\n",
    "        self.total_frames=30\n",
    "          \n",
    "    def initialize_hyperparams(self,frames_to_sample=30,batch_size=20,num_epochs=20):\n",
    "        self.frames_to_sample=frames_to_sample\n",
    "        self.batch_size=batch_size\n",
    "        self.num_epochs=num_epochs\n",
    "        \n",
    "        \n",
    "    def generator(self,source_path, folder_list, augment=False):\n",
    "        img_idx = np.round(np.linspace(0,self.total_frames-1,self.frames_to_sample)).astype(int)\n",
    "        batch_size=self.batch_size\n",
    "        while True:\n",
    "            t = np.random.permutation(folder_list)\n",
    "            num_batches = len(t)//batch_size\n",
    "        \n",
    "            for batch in range(num_batches): \n",
    "                batch_data, batch_labels= self.one_batch_data(source_path,t,batch,batch_size,img_idx,augment)\n",
    "                yield batch_data, batch_labels \n",
    "\n",
    "            remaining_seq=len(t)%batch_size\n",
    "        \n",
    "            if (remaining_seq != 0):\n",
    "                batch_data, batch_labels= self.one_batch_data(source_path,t,num_batches,batch_size,img_idx,augment,remaining_seq)\n",
    "                yield batch_data, batch_labels \n",
    "    \n",
    "    \n",
    "    def one_batch_data(self,source_path,t,batch,batch_size,img_idx,augment,remaining_seq=0):\n",
    "    \n",
    "        seq_len = remaining_seq if remaining_seq else batch_size\n",
    "    \n",
    "        batch_data = np.zeros((seq_len,len(img_idx),self.image_height,self.image_width,self.channels)) \n",
    "        batch_labels = np.zeros((seq_len,self.num_classes)) \n",
    "    \n",
    "        if (augment): batch_data_aug = np.zeros((seq_len,len(img_idx),self.image_height,self.image_width,self.channels))\n",
    "\n",
    "        \n",
    "        for folder in range(seq_len): \n",
    "            imgs = os.listdir(source_path+'/'+ t[folder + (batch*batch_size)].split(';')[0]) \n",
    "            for idx,item in enumerate(img_idx): \n",
    "                image = imread(source_path+'/'+ t[folder + (batch*batch_size)].strip().split(';')[0]+'/'+imgs[item]).astype(np.float32)\n",
    "                image_resized=resize(image,(self.image_height,self.image_width,3))\n",
    "            \n",
    "\n",
    "                batch_data[folder,idx,:,:,0] = (image_resized[:,:,0])/255\n",
    "                batch_data[folder,idx,:,:,1] = (image_resized[:,:,1])/255\n",
    "                batch_data[folder,idx,:,:,2] = (image_resized[:,:,2])/255\n",
    "            \n",
    "                if (augment):\n",
    "                    shifted = cv2.warpAffine(image, \n",
    "                                             np.float32([[1, 0, np.random.randint(-30,30)],[0, 1, np.random.randint(-30,30)]]), \n",
    "                                            (image.shape[1], image.shape[0]))\n",
    "                    \n",
    "                    gray = cv2.cvtColor(shifted,cv2.COLOR_BGR2GRAY)\n",
    "\n",
    "                    x0, y0 = np.argwhere(gray > 0).min(axis=0)\n",
    "                    x1, y1 = np.argwhere(gray > 0).max(axis=0) \n",
    "                    \n",
    "                    cropped=shifted[x0:x1,y0:y1,:]\n",
    "                    \n",
    "                    image_resized=resize(cropped,(self.image_height,self.image_width,3))\n",
    "                    \n",
    "                    M = cv2.getRotationMatrix2D((self.image_width//2,self.image_height//2),\n",
    "                                                np.random.randint(-10,10), 1.0)\n",
    "                    rotated = cv2.warpAffine(image_resized, M, (self.image_width, self.image_height))\n",
    "                    \n",
    "                    #shifted = cv2.warpAffine(image_resized, \n",
    "                    #                        np.float32([[1, 0, np.random.randint(-3,3)],[0, 1, np.random.randint(-3,3)]]), \n",
    "                    #                        (image_resized.shape[1], image_resized.shape[0]))\n",
    "            \n",
    "                    batch_data_aug[folder,idx,:,:,0] = (rotated[:,:,0])/255\n",
    "                    batch_data_aug[folder,idx,:,:,1] = (rotated[:,:,1])/255\n",
    "                    batch_data_aug[folder,idx,:,:,2] = (rotated[:,:,2])/255\n",
    "                \n",
    "            \n",
    "            batch_labels[folder, int(t[folder + (batch*batch_size)].strip().split(';')[2])] = 1\n",
    "            \n",
    "    \n",
    "        if (augment):\n",
    "            batch_data=np.concatenate([batch_data,batch_data_aug])\n",
    "            batch_labels=np.concatenate([batch_labels,batch_labels])\n",
    "\n",
    "        \n",
    "        return(batch_data,batch_labels)\n",
    "    \n",
    "    \n",
    "    def train_model(self, model, augment_data=False):\n",
    "        train_generator = self.generator(self.train_path, self.train_doc,augment=augment_data)\n",
    "        val_generator = self.generator(self.val_path, self.val_doc)\n",
    "\n",
    "        model_name = 'model_init' + '_' + str(datetime.datetime.now()).replace(' ','').replace(':','_') + '/'\n",
    "    \n",
    "        if not os.path.exists(model_name):\n",
    "            os.mkdir(model_name)\n",
    "        \n",
    "        filepath = model_name + 'model-{epoch:05d}-{loss:.5f}-{categorical_accuracy:.5f}-{val_loss:.5f}-{val_categorical_accuracy:.5f}.h5'\n",
    "\n",
    "        checkpoint = ModelCheckpoint(filepath, monitor='val_loss', verbose=1, save_best_only=False, save_weights_only=False, mode='auto', period=1)\n",
    "        LR = ReduceLROnPlateau(monitor='val_loss', factor=0.2, verbose=1, patience=4)\n",
    "        callbacks_list = [checkpoint, LR]\n",
    "\n",
    "        if (self.num_train_sequences%self.batch_size) == 0:\n",
    "            steps_per_epoch = int(self.num_train_sequences/self.batch_size)\n",
    "        else:\n",
    "            steps_per_epoch = (self.num_train_sequences//self.batch_size) + 1\n",
    "\n",
    "        if (self.num_val_sequences%self.batch_size) == 0:\n",
    "            validation_steps = int(self.num_val_sequences/self.batch_size)\n",
    "        else:\n",
    "            validation_steps = (self.num_val_sequences//self.batch_size) + 1\n",
    "    \n",
    "        history=model.fit_generator(train_generator, steps_per_epoch=steps_per_epoch, epochs=self.num_epochs, verbose=1, \n",
    "                            callbacks=callbacks_list, validation_data=val_generator, \n",
    "                            validation_steps=validation_steps, class_weight=None, workers=1, initial_epoch=0)\n",
    "        return history\n",
    "\n",
    "        \n",
    "    @abc.abstractmethod\n",
    "    def define_model(self):\n",
    "        pass"
   ]
  },
  {
   "cell_type": "code",
   "execution_count": null,
   "id": "69a8fc19",
   "metadata": {},
   "outputs": [],
   "source": [
    "#Model 10 - (3,3,3) Filter & 160x160 Image resolution - similar to Model 2"
   ]
  },
  {
   "cell_type": "code",
   "execution_count": null,
   "id": "87a1253f",
   "metadata": {},
   "outputs": [],
   "source": [
    "class ModelConv3D10(ModelBuilderMoreAugmentation):\n",
    "    \n",
    "    def define_model(self,filtersize=(3,3,3),dense_neurons=64,dropout=0.25):\n",
    "\n",
    "        model = Sequential()\n",
    "        model.add(Conv3D(16, filtersize, padding='same',\n",
    "                 input_shape=(self.frames_to_sample,self.image_height,self.image_width,self.channels)))\n",
    "        model.add(Activation('relu'))\n",
    "        model.add(BatchNormalization())\n",
    "        model.add(MaxPooling3D(pool_size=(2, 2, 2)))\n",
    "\n",
    "        model.add(Conv3D(32, filtersize, padding='same'))\n",
    "        model.add(Activation('relu'))\n",
    "        model.add(BatchNormalization())\n",
    "        model.add(MaxPooling3D(pool_size=(2, 2, 2)))\n",
    "\n",
    "        model.add(Conv3D(64, filtersize, padding='same'))\n",
    "        model.add(Activation('relu'))\n",
    "        model.add(BatchNormalization())\n",
    "        model.add(MaxPooling3D(pool_size=(2, 2, 2)))\n",
    "\n",
    "        model.add(Conv3D(128, filtersize, padding='same'))\n",
    "        model.add(Activation('relu'))\n",
    "        model.add(BatchNormalization())\n",
    "        model.add(MaxPooling3D(pool_size=(2, 2, 2)))\n",
    "\n",
    "        model.add(Flatten())\n",
    "        model.add(Dense(dense_neurons,activation='relu'))\n",
    "        model.add(BatchNormalization())\n",
    "        model.add(Dropout(dropout))\n",
    "\n",
    "        model.add(Dense(dense_neurons,activation='relu'))\n",
    "        model.add(BatchNormalization())\n",
    "        model.add(Dropout(dropout))\n",
    "\n",
    "\n",
    "        model.add(Dense(self.num_classes,activation='softmax'))\n",
    "\n",
    "        optimiser = tf.optimizers.Adam(lr=0.0002)\n",
    "        model.compile(optimizer=optimiser, loss='categorical_crossentropy', metrics=['categorical_accuracy'])\n",
    "        return model"
   ]
  },
  {
   "cell_type": "code",
   "execution_count": null,
   "id": "6e4ad3e1",
   "metadata": {},
   "outputs": [],
   "source": [
    "conv_3d10=ModelConv3D10()\n",
    "conv_3d10.initialize_path(project_folder)\n",
    "conv_3d10.initialize_image_properties(image_height=160,image_width=160)\n",
    "conv_3d10.initialize_hyperparams(frames_to_sample=20,batch_size=20,num_epochs=30)\n",
    "conv_3d10_model=conv_3d10.define_model(dense_neurons=256,dropout=0.5)\n",
    "conv_3d10_model.summary()"
   ]
  },
  {
   "cell_type": "code",
   "execution_count": null,
   "id": "808dea80",
   "metadata": {},
   "outputs": [],
   "source": [
    "print(\"Total Params:\", conv_3d10_model.count_params())\n",
    "history_model10=conv_3d10.train_model(conv_3d10_model,augment_data=True)"
   ]
  },
  {
   "cell_type": "code",
   "execution_count": null,
   "id": "455086f5",
   "metadata": {},
   "outputs": [],
   "source": [
    "plot(history_model10)"
   ]
  },
  {
   "cell_type": "code",
   "execution_count": null,
   "id": "eec9c8e6",
   "metadata": {},
   "outputs": [],
   "source": [
    "#Model 11 - (2,2,2) Filter & 120x120 Image resolution - similar to Model 3"
   ]
  },
  {
   "cell_type": "code",
   "execution_count": null,
   "id": "939f1a56",
   "metadata": {},
   "outputs": [],
   "source": [
    "class ModelConv3D11(ModelBuilderMoreAugmentation):\n",
    "    \n",
    "    def define_model(self,filtersize=(3,3,3),dense_neurons=64,dropout=0.25):\n",
    "\n",
    "        model = Sequential()\n",
    "        model.add(Conv3D(16, filtersize, padding='same',\n",
    "                 input_shape=(self.frames_to_sample,self.image_height,self.image_width,self.channels)))\n",
    "        model.add(Activation('relu'))\n",
    "        model.add(BatchNormalization())\n",
    "        model.add(MaxPooling3D(pool_size=(2, 2, 2)))\n",
    "\n",
    "        model.add(Conv3D(32, filtersize, padding='same'))\n",
    "        model.add(Activation('relu'))\n",
    "        model.add(BatchNormalization())\n",
    "        model.add(MaxPooling3D(pool_size=(2, 2, 2)))\n",
    "\n",
    "        model.add(Conv3D(64, filtersize, padding='same'))\n",
    "        model.add(Activation('relu'))\n",
    "        model.add(BatchNormalization())\n",
    "        model.add(MaxPooling3D(pool_size=(2, 2, 2)))\n",
    "\n",
    "        model.add(Conv3D(128, filtersize, padding='same'))\n",
    "        model.add(Activation('relu'))\n",
    "        model.add(BatchNormalization())\n",
    "        model.add(MaxPooling3D(pool_size=(2, 2, 2)))\n",
    "\n",
    "        model.add(Flatten())\n",
    "        model.add(Dense(dense_neurons,activation='relu'))\n",
    "        model.add(BatchNormalization())\n",
    "        model.add(Dropout(dropout))\n",
    "\n",
    "        model.add(Dense(dense_neurons,activation='relu'))\n",
    "        model.add(BatchNormalization())\n",
    "        model.add(Dropout(dropout))\n",
    "\n",
    "\n",
    "        model.add(Dense(self.num_classes,activation='softmax'))\n",
    "\n",
    "        optimiser = tf.optimizers.Adam(lr=0.0002)\n",
    "        model.compile(optimizer=optimiser, loss='categorical_crossentropy', metrics=['categorical_accuracy'])\n",
    "        return model"
   ]
  },
  {
   "cell_type": "code",
   "execution_count": null,
   "id": "1d223a3a",
   "metadata": {},
   "outputs": [],
   "source": [
    "conv_3d11=ModelConv3D11()\n",
    "conv_3d11.initialize_path(project_folder)\n",
    "conv_3d11.initialize_image_properties(image_height=120,image_width=120)\n",
    "conv_3d11.initialize_hyperparams(frames_to_sample=16,batch_size=30,num_epochs=30)\n",
    "conv_3d11_model=conv_3d11.define_model(filtersize=(2,2,2),dense_neurons=256,dropout=0.5)\n",
    "conv_3d11_model.summary()"
   ]
  },
  {
   "cell_type": "code",
   "execution_count": null,
   "id": "1dc80a39",
   "metadata": {},
   "outputs": [],
   "source": [
    "print(\"Total Params:\", conv_3d11_model.count_params())\n",
    "history_model11=conv_3d11.train_model(conv_3d11_model,augment_data=True)"
   ]
  },
  {
   "cell_type": "code",
   "execution_count": null,
   "id": "9381ad46",
   "metadata": {},
   "outputs": [],
   "source": [
    "plot(history_model11)"
   ]
  },
  {
   "cell_type": "code",
   "execution_count": null,
   "id": "8a4c0759",
   "metadata": {},
   "outputs": [],
   "source": [
    "#Model 12 - Adding more layers - Similar to model 4"
   ]
  },
  {
   "cell_type": "code",
   "execution_count": null,
   "id": "fd6812fa",
   "metadata": {},
   "outputs": [],
   "source": [
    "class ModelConv3D12(ModelBuilderMoreAugmentation):\n",
    "    \n",
    "    def define_model(self,filtersize=(3,3,3),dense_neurons=64,dropout=0.25):\n",
    "\n",
    "        model = Sequential()\n",
    "        model.add(Conv3D(16, filtersize, padding='same',\n",
    "                 input_shape=(self.frames_to_sample,self.image_height,self.image_width,self.channels)))\n",
    "        model.add(Activation('relu'))\n",
    "        model.add(BatchNormalization())\n",
    "        \n",
    "        model.add(Conv3D(16, filtersize, padding='same',\n",
    "                 input_shape=(self.frames_to_sample,self.image_height,self.image_width,self.channels)))\n",
    "        model.add(Activation('relu'))\n",
    "        model.add(BatchNormalization())\n",
    "        \n",
    "        model.add(MaxPooling3D(pool_size=(2, 2, 2)))\n",
    "\n",
    "        model.add(Conv3D(32, filtersize, padding='same'))\n",
    "        model.add(Activation('relu'))\n",
    "        model.add(BatchNormalization())\n",
    "        \n",
    "        model.add(Conv3D(32, filtersize, padding='same'))\n",
    "        model.add(Activation('relu'))\n",
    "        model.add(BatchNormalization())\n",
    "        \n",
    "        model.add(MaxPooling3D(pool_size=(2, 2, 2)))\n",
    "\n",
    "        model.add(Conv3D(64, filtersize, padding='same'))\n",
    "        model.add(Activation('relu'))\n",
    "        model.add(BatchNormalization())\n",
    "        \n",
    "        model.add(Conv3D(64, filtersize, padding='same'))\n",
    "        model.add(Activation('relu'))\n",
    "        model.add(BatchNormalization())\n",
    "        \n",
    "        model.add(MaxPooling3D(pool_size=(2, 2, 2)))\n",
    "\n",
    "        model.add(Conv3D(128, filtersize, padding='same'))\n",
    "        model.add(Activation('relu'))\n",
    "        model.add(BatchNormalization())\n",
    "        \n",
    "        model.add(Conv3D(128, filtersize, padding='same'))\n",
    "        model.add(Activation('relu'))\n",
    "        model.add(BatchNormalization())\n",
    "        \n",
    "        model.add(MaxPooling3D(pool_size=(2, 2, 2)))\n",
    "        \n",
    "\n",
    "        model.add(Flatten())\n",
    "        model.add(Dense(dense_neurons,activation='relu'))\n",
    "        model.add(BatchNormalization())\n",
    "        model.add(Dropout(dropout))\n",
    "\n",
    "        model.add(Dense(dense_neurons,activation='relu'))\n",
    "        model.add(BatchNormalization())\n",
    "        model.add(Dropout(dropout))\n",
    "\n",
    "\n",
    "        model.add(Dense(self.num_classes,activation='softmax'))\n",
    "\n",
    "        optimiser = tf.optimizers.Adam(lr=0.0002)\n",
    "        model.compile(optimizer=optimiser, loss='categorical_crossentropy', metrics=['categorical_accuracy'])\n",
    "        return model"
   ]
  },
  {
   "cell_type": "code",
   "execution_count": null,
   "id": "2198fae4",
   "metadata": {},
   "outputs": [],
   "source": [
    "conv_3d12=ModelConv3D12()\n",
    "conv_3d12.initialize_path(project_folder)\n",
    "conv_3d12.initialize_image_properties(image_height=120,image_width=120)\n",
    "conv_3d12.initialize_hyperparams(frames_to_sample=16,batch_size=20,num_epochs=30)\n",
    "conv_3d12_model=conv_3d12.define_model(filtersize=(3,3,3),dense_neurons=256,dropout=0.5)\n",
    "conv_3d12_model.summary()"
   ]
  },
  {
   "cell_type": "code",
   "execution_count": null,
   "id": "61f20f19",
   "metadata": {},
   "outputs": [],
   "source": [
    "print(\"Total Params:\", conv_3d12_model.count_params())\n",
    "history_model12=conv_3d12.train_model(conv_3d12_model,augment_data=True)"
   ]
  },
  {
   "cell_type": "code",
   "execution_count": null,
   "id": "07656066",
   "metadata": {},
   "outputs": [],
   "source": [
    "plot(history_model12)"
   ]
  },
  {
   "cell_type": "code",
   "execution_count": null,
   "id": "975e4101",
   "metadata": {},
   "outputs": [],
   "source": [
    "#Model 13 - Adding dropouts - Similar to Model 5"
   ]
  },
  {
   "cell_type": "code",
   "execution_count": null,
   "id": "00a9e471",
   "metadata": {},
   "outputs": [],
   "source": [
    "class ModelConv3D13(ModelBuilderMoreAugmentation):\n",
    "    \n",
    "    def define_model(self,filtersize=(3,3,3),dense_neurons=64,dropout=0.25):\n",
    "\n",
    "        model = Sequential()\n",
    "        model.add(Conv3D(16, filtersize, padding='same',\n",
    "                 input_shape=(self.frames_to_sample,self.image_height,self.image_width,self.channels)))\n",
    "        model.add(Activation('relu'))\n",
    "        model.add(BatchNormalization())\n",
    "        \n",
    "        model.add(Conv3D(16, filtersize, padding='same',\n",
    "                 input_shape=(self.frames_to_sample,self.image_height,self.image_width,self.channels)))\n",
    "        model.add(Activation('relu'))\n",
    "        model.add(BatchNormalization())\n",
    "        \n",
    "        model.add(MaxPooling3D(pool_size=(2, 2, 2)))\n",
    "        model.add(Dropout(dropout))\n",
    "\n",
    "        model.add(Conv3D(32, filtersize, padding='same'))\n",
    "        model.add(Activation('relu'))\n",
    "        model.add(BatchNormalization())\n",
    "        \n",
    "        model.add(Conv3D(32, filtersize, padding='same'))\n",
    "        model.add(Activation('relu'))\n",
    "        model.add(BatchNormalization())\n",
    "        \n",
    "        model.add(MaxPooling3D(pool_size=(2, 2, 2)))\n",
    "        model.add(Dropout(dropout))\n",
    "\n",
    "        model.add(Conv3D(64, filtersize, padding='same'))\n",
    "        model.add(Activation('relu'))\n",
    "        model.add(BatchNormalization())\n",
    "        \n",
    "        model.add(Conv3D(64, filtersize, padding='same'))\n",
    "        model.add(Activation('relu'))\n",
    "        model.add(BatchNormalization())\n",
    "        \n",
    "        model.add(MaxPooling3D(pool_size=(2, 2, 2)))\n",
    "        model.add(Dropout(dropout))\n",
    "\n",
    "        model.add(Conv3D(128, filtersize, padding='same'))\n",
    "        model.add(Activation('relu'))\n",
    "        model.add(BatchNormalization())\n",
    "        \n",
    "        model.add(Conv3D(128, filtersize, padding='same'))\n",
    "        model.add(Activation('relu'))\n",
    "        model.add(BatchNormalization())\n",
    "        \n",
    "        model.add(MaxPooling3D(pool_size=(2, 2, 2)))\n",
    "        model.add(Dropout(dropout))\n",
    "        \n",
    "        model.add(Flatten())\n",
    "        model.add(Dense(dense_neurons,activation='relu'))\n",
    "        model.add(BatchNormalization())\n",
    "        model.add(Dropout(dropout))\n",
    "\n",
    "        model.add(Dense(dense_neurons,activation='relu'))\n",
    "        model.add(BatchNormalization())\n",
    "        model.add(Dropout(dropout))\n",
    "\n",
    "\n",
    "        model.add(Dense(self.num_classes,activation='softmax'))\n",
    "\n",
    "        optimiser = tf.optimizers.Adam(lr=0.0002)\n",
    "        model.compile(optimizer=optimiser, loss='categorical_crossentropy', metrics=['categorical_accuracy'])\n",
    "        return model"
   ]
  },
  {
   "cell_type": "code",
   "execution_count": null,
   "id": "cf671169",
   "metadata": {},
   "outputs": [],
   "source": [
    "conv_3d13=ModelConv3D13()\n",
    "conv_3d13.initialize_path(project_folder)\n",
    "conv_3d13.initialize_image_properties(image_height=120,image_width=120)\n",
    "conv_3d13.initialize_hyperparams(frames_to_sample=16,batch_size=20,num_epochs=25)\n",
    "conv_3d13_model=conv_3d13.define_model(filtersize=(3,3,3),dense_neurons=256,dropout=0.25)\n",
    "conv_3d13_model.summary()"
   ]
  },
  {
   "cell_type": "code",
   "execution_count": null,
   "id": "fcdaeb19",
   "metadata": {},
   "outputs": [],
   "source": [
    "print(\"Total Params:\", conv_3d13_model.count_params())\n",
    "history_model13=conv_3d13.train_model(conv_3d13_model,augment_data=True)"
   ]
  },
  {
   "cell_type": "code",
   "execution_count": null,
   "id": "a7284097",
   "metadata": {},
   "outputs": [],
   "source": [
    "plot(history_model13)"
   ]
  },
  {
   "cell_type": "code",
   "execution_count": null,
   "id": "26c624d6",
   "metadata": {},
   "outputs": [],
   "source": [
    "#Model 14 - reducing network parameters - Similar to Model 6"
   ]
  },
  {
   "cell_type": "code",
   "execution_count": null,
   "id": "75ffc35b",
   "metadata": {},
   "outputs": [],
   "source": [
    "class ModelConv3D14(ModelBuilderMoreAugmentation):\n",
    "    \n",
    "    def define_model(self,dense_neurons=64,dropout=0.25):\n",
    "\n",
    "        model = Sequential()\n",
    "        model.add(Conv3D(16, (3, 3, 3), padding='same',\n",
    "                 input_shape=(self.frames_to_sample,self.image_height,self.image_width,self.channels)))\n",
    "        model.add(Activation('relu'))\n",
    "        model.add(BatchNormalization())\n",
    "        model.add(MaxPooling3D(pool_size=(2, 2, 2)))\n",
    "\n",
    "        model.add(Conv3D(32, (2, 2, 2), padding='same'))\n",
    "        model.add(Activation('relu'))\n",
    "        model.add(BatchNormalization())\n",
    "        model.add(MaxPooling3D(pool_size=(2, 2, 2)))\n",
    "\n",
    "        model.add(Conv3D(64, (2, 2, 2), padding='same'))\n",
    "        model.add(Activation('relu'))\n",
    "        model.add(BatchNormalization())\n",
    "        model.add(MaxPooling3D(pool_size=(2, 2, 2)))\n",
    "\n",
    "        model.add(Conv3D(128, (2, 2, 2), padding='same'))\n",
    "        model.add(Activation('relu'))\n",
    "        model.add(BatchNormalization())\n",
    "        model.add(MaxPooling3D(pool_size=(2, 2, 2)))\n",
    "        \n",
    "        model.add(Flatten())\n",
    "        model.add(Dense(dense_neurons,activation='relu'))\n",
    "        model.add(BatchNormalization())\n",
    "        model.add(Dropout(dropout))\n",
    "\n",
    "        model.add(Dense(dense_neurons,activation='relu'))\n",
    "        model.add(BatchNormalization())\n",
    "        model.add(Dropout(dropout))\n",
    "\n",
    "        model.add(Dense(self.num_classes,activation='softmax'))\n",
    "\n",
    "        optimiser = tf.optimizers.Adam(lr=0.0002)\n",
    "        model.compile(optimizer=optimiser, loss='categorical_crossentropy', metrics=['categorical_accuracy'])\n",
    "        return model"
   ]
  },
  {
   "cell_type": "code",
   "execution_count": null,
   "id": "7beebe4a",
   "metadata": {},
   "outputs": [],
   "source": [
    "conv_3d14=ModelConv3D14()\n",
    "conv_3d14.initialize_path(project_folder)\n",
    "conv_3d14.initialize_image_properties(image_height=100,image_width=100)\n",
    "conv_3d14.initialize_hyperparams(frames_to_sample=16,batch_size=20,num_epochs=30)\n",
    "conv_3d14_model=conv_3d14.define_model(dense_neurons=128,dropout=0.25)\n",
    "conv_3d14_model.summary()"
   ]
  },
  {
   "cell_type": "code",
   "execution_count": null,
   "id": "bdf5511d",
   "metadata": {},
   "outputs": [],
   "source": [
    "print(\"Total Params:\", conv_3d14_model.count_params())\n",
    "history_model14=conv_3d14.train_model(conv_3d14_model,augment_data=True)"
   ]
  },
  {
   "cell_type": "code",
   "execution_count": null,
   "id": "f5fb57e7",
   "metadata": {},
   "outputs": [],
   "source": [
    "plot(history_model14)"
   ]
  },
  {
   "cell_type": "code",
   "execution_count": null,
   "id": "ae91715d",
   "metadata": {},
   "outputs": [],
   "source": [
    "#Model 15 - reducing network parameters - Similar to model 7"
   ]
  },
  {
   "cell_type": "code",
   "execution_count": null,
   "id": "6906880d",
   "metadata": {},
   "outputs": [],
   "source": [
    "class ModelConv3D15(ModelBuilderMoreAugmentation):\n",
    "    \n",
    "    def define_model(self,dense_neurons=64,dropout=0.25):\n",
    "\n",
    "        model = Sequential()\n",
    "        model.add(Conv3D(16, (3, 3, 3), padding='same',\n",
    "                 input_shape=(self.frames_to_sample,self.image_height,self.image_width,self.channels)))\n",
    "        model.add(Activation('relu'))\n",
    "        model.add(BatchNormalization())\n",
    "        model.add(MaxPooling3D(pool_size=(2, 2, 2)))\n",
    "\n",
    "        model.add(Conv3D(32, (3, 3, 3), padding='same'))\n",
    "        model.add(Activation('relu'))\n",
    "        model.add(BatchNormalization())\n",
    "        model.add(MaxPooling3D(pool_size=(2, 2, 2)))\n",
    "\n",
    "        model.add(Conv3D(64, (2, 2, 2), padding='same'))\n",
    "        model.add(Activation('relu'))\n",
    "        model.add(BatchNormalization())\n",
    "        model.add(MaxPooling3D(pool_size=(2, 2, 2)))\n",
    "\n",
    "        model.add(Conv3D(128, (2, 2, 2), padding='same'))\n",
    "        model.add(Activation('relu'))\n",
    "        model.add(BatchNormalization())\n",
    "        model.add(MaxPooling3D(pool_size=(2, 2, 2)))\n",
    "        \n",
    "        model.add(Flatten())\n",
    "        model.add(Dense(dense_neurons,activation='relu'))\n",
    "        model.add(BatchNormalization())\n",
    "        model.add(Dropout(dropout))\n",
    "\n",
    "        model.add(Dense(dense_neurons,activation='relu'))\n",
    "        model.add(BatchNormalization())\n",
    "        model.add(Dropout(dropout))\n",
    "\n",
    "        model.add(Dense(self.num_classes,activation='softmax'))\n",
    "\n",
    "        optimiser = tf.optimizers.Adam(lr=0.0002)\n",
    "        model.compile(optimizer=optimiser, loss='categorical_crossentropy', metrics=['categorical_accuracy'])\n",
    "        return model"
   ]
  },
  {
   "cell_type": "code",
   "execution_count": null,
   "id": "45aeca18",
   "metadata": {},
   "outputs": [],
   "source": [
    "conv_3d15=ModelConv3D15()\n",
    "conv_3d15.initialize_path(project_folder)\n",
    "conv_3d15.initialize_image_properties(image_height=120,image_width=120)\n",
    "conv_3d15.initialize_hyperparams(frames_to_sample=16,batch_size=20,num_epochs=25)\n",
    "conv_3d15_model=conv_3d15.define_model(dense_neurons=64,dropout=0.25)\n",
    "conv_3d15_model.summary()"
   ]
  },
  {
   "cell_type": "code",
   "execution_count": null,
   "id": "9ad106c0",
   "metadata": {},
   "outputs": [],
   "source": [
    "print(\"Total Params:\", conv_3d15_model.count_params())\n",
    "history_model15=conv_3d15.train_model(conv_3d15_model,augment_data=True)"
   ]
  },
  {
   "cell_type": "code",
   "execution_count": null,
   "id": "bd2ce467",
   "metadata": {},
   "outputs": [],
   "source": [
    "plot(history_model15)"
   ]
  },
  {
   "cell_type": "code",
   "execution_count": null,
   "id": "090250c3",
   "metadata": {},
   "outputs": [],
   "source": [
    "#Model 16 - reducing network parameters - Similar to Model 8"
   ]
  },
  {
   "cell_type": "code",
   "execution_count": null,
   "id": "97c0225b",
   "metadata": {},
   "outputs": [],
   "source": [
    "class ModelConv3D16(ModelBuilderMoreAugmentation):\n",
    "    \n",
    "    def define_model(self,dense_neurons=64,dropout=0.25):\n",
    "\n",
    "        model = Sequential()\n",
    "        model.add(Conv3D(8, (3, 3, 3), padding='same',\n",
    "                 input_shape=(self.frames_to_sample,self.image_height,self.image_width,self.channels)))\n",
    "        model.add(Activation('relu'))\n",
    "        model.add(BatchNormalization())\n",
    "        model.add(MaxPooling3D(pool_size=(2, 2, 2)))\n",
    "\n",
    "        model.add(Conv3D(16, (3, 3, 3), padding='same'))\n",
    "        model.add(Activation('relu'))\n",
    "        model.add(BatchNormalization())\n",
    "        model.add(MaxPooling3D(pool_size=(2, 2, 2)))\n",
    "\n",
    "        model.add(Conv3D(32, (2, 2, 2), padding='same'))\n",
    "        model.add(Activation('relu'))\n",
    "        model.add(BatchNormalization())\n",
    "        model.add(MaxPooling3D(pool_size=(2, 2, 2)))\n",
    "\n",
    "        model.add(Conv3D(64, (2, 2, 2), padding='same'))\n",
    "        model.add(Activation('relu'))\n",
    "        model.add(BatchNormalization())\n",
    "        model.add(MaxPooling3D(pool_size=(2, 2, 2)))\n",
    "        \n",
    "        model.add(Flatten())\n",
    "        model.add(Dense(dense_neurons,activation='relu'))\n",
    "        model.add(BatchNormalization())\n",
    "        model.add(Dropout(dropout))\n",
    "\n",
    "        model.add(Dense(dense_neurons,activation='relu'))\n",
    "        model.add(BatchNormalization())\n",
    "        model.add(Dropout(dropout))\n",
    "\n",
    "        model.add(Dense(self.num_classes,activation='softmax'))\n",
    "\n",
    "        optimiser = tf.optimizers.Adam(lr=0.0002)\n",
    "        model.compile(optimizer=optimiser, loss='categorical_crossentropy', metrics=['categorical_accuracy'])\n",
    "        return model"
   ]
  },
  {
   "cell_type": "code",
   "execution_count": null,
   "id": "0b3e15d7",
   "metadata": {},
   "outputs": [],
   "source": [
    "conv_3d16=ModelConv3D16()\n",
    "conv_3d16.initialize_path(project_folder)\n",
    "conv_3d16.initialize_image_properties(image_height=120,image_width=120)\n",
    "conv_3d16.initialize_hyperparams(frames_to_sample=16,batch_size=20,num_epochs=30)\n",
    "conv_3d16_model=conv_3d16.define_model(dense_neurons=64,dropout=0.25)\n",
    "conv_3d16_model.summary()"
   ]
  },
  {
   "cell_type": "code",
   "execution_count": null,
   "id": "062800a8",
   "metadata": {},
   "outputs": [],
   "source": [
    "print(\"Total Params:\", conv_3d16_model.count_params())\n",
    "history_model16=conv_3d16.train_model(conv_3d16_model,augment_data=True)"
   ]
  },
  {
   "cell_type": "code",
   "execution_count": null,
   "id": "6806749d",
   "metadata": {},
   "outputs": [],
   "source": [
    "plot(history_model16)"
   ]
  },
  {
   "cell_type": "code",
   "execution_count": null,
   "id": "3b199743",
   "metadata": {},
   "outputs": [],
   "source": [
    "#Model 17 - CNN LSTM with GRU - Similar to Model 9"
   ]
  },
  {
   "cell_type": "code",
   "execution_count": null,
   "id": "a0707fca",
   "metadata": {},
   "outputs": [],
   "source": [
    "class RNNCNN2(ModelBuilderMoreAugmentation):\n",
    "    \n",
    "    def define_model(self,lstm_cells=64,dense_neurons=64,dropout=0.25):\n",
    "\n",
    "        model = Sequential()\n",
    "\n",
    "        model.add(TimeDistributed(Conv2D(16, (3, 3) , padding='same', activation='relu'),\n",
    "                                  input_shape=(self.frames_to_sample,self.image_height,self.image_width,self.channels)))\n",
    "        model.add(TimeDistributed(BatchNormalization()))\n",
    "        model.add(TimeDistributed(MaxPooling2D((2, 2))))\n",
    "        \n",
    "        model.add(TimeDistributed(Conv2D(32, (3, 3) , padding='same', activation='relu')))\n",
    "        model.add(TimeDistributed(BatchNormalization()))\n",
    "        model.add(TimeDistributed(MaxPooling2D((2, 2))))\n",
    "        \n",
    "        model.add(TimeDistributed(Conv2D(64, (3, 3) , padding='same', activation='relu')))\n",
    "        model.add(TimeDistributed(BatchNormalization()))\n",
    "        model.add(TimeDistributed(MaxPooling2D((2, 2))))\n",
    "        \n",
    "        model.add(TimeDistributed(Conv2D(128, (3, 3) , padding='same', activation='relu')))\n",
    "        model.add(TimeDistributed(BatchNormalization()))\n",
    "        model.add(TimeDistributed(MaxPooling2D((2, 2))))\n",
    "        \n",
    "\n",
    "        model.add(TimeDistributed(Flatten()))\n",
    "\n",
    "\n",
    "        model.add(GRU(lstm_cells))\n",
    "        model.add(Dropout(dropout))\n",
    "        \n",
    "        model.add(Dense(dense_neurons,activation='relu'))\n",
    "        model.add(Dropout(dropout))\n",
    "        \n",
    "        model.add(Dense(self.num_classes, activation='softmax'))\n",
    "        optimiser = tf.optimizers.Adam(lr=0.0002)\n",
    "        model.compile(optimizer=optimiser, loss='categorical_crossentropy', metrics=['categorical_accuracy'])\n",
    "        return model"
   ]
  },
  {
   "cell_type": "code",
   "execution_count": null,
   "id": "1e6b0f06",
   "metadata": {},
   "outputs": [],
   "source": [
    "rnn_cnn2=RNNCNN2()\n",
    "rnn_cnn2.initialize_path(project_folder)\n",
    "rnn_cnn2.initialize_image_properties(image_height=120,image_width=120)\n",
    "rnn_cnn2.initialize_hyperparams(frames_to_sample=18,batch_size=20,num_epochs=20)\n",
    "rnn_cnn2_model=rnn_cnn2.define_model(lstm_cells=128,dense_neurons=128,dropout=0.25)\n",
    "rnn_cnn2_model.summary()"
   ]
  },
  {
   "cell_type": "code",
   "execution_count": null,
   "id": "6e7d6829",
   "metadata": {},
   "outputs": [],
   "source": [
    "print(\"Total Params:\", rnn_cnn2_model.count_params())\n",
    "history_model17=rnn_cnn2.train_model(rnn_cnn2_model,augment_data=True)"
   ]
  },
  {
   "cell_type": "code",
   "execution_count": null,
   "id": "72f943ed",
   "metadata": {},
   "outputs": [],
   "source": [
    "plot(history_model17)"
   ]
  },
  {
   "cell_type": "code",
   "execution_count": null,
   "id": "ffcf7da9",
   "metadata": {},
   "outputs": [],
   "source": [
    "#We see that overfitting is considerably less when we do more augmentation. However there is not much improvement on accuracy"
   ]
  },
  {
   "cell_type": "code",
   "execution_count": null,
   "id": "a4872168",
   "metadata": {},
   "outputs": [],
   "source": [
    "#Model 18 - Transfer Learning"
   ]
  },
  {
   "cell_type": "code",
   "execution_count": null,
   "id": "5010df7f",
   "metadata": {},
   "outputs": [],
   "source": [
    "from keras.applications import mobilenet"
   ]
  },
  {
   "cell_type": "code",
   "execution_count": null,
   "id": "566a8c78",
   "metadata": {},
   "outputs": [],
   "source": [
    "mobilenet_transfer = mobilenet.MobileNet(weights='imagenet', include_top=False)\n",
    "\n",
    "class RNNCNN_TL(ModelBuilderMoreAugmentation):\n",
    "    \n",
    "    def define_model(self,lstm_cells=64,dense_neurons=64,dropout=0.25):\n",
    "        \n",
    "        model = Sequential()\n",
    "        model.add(TimeDistributed(mobilenet_transfer,input_shape=(self.frames_to_sample,self.image_height,self.image_width,self.channels)))\n",
    "        \n",
    "        \n",
    "        for layer in model.layers:\n",
    "            layer.trainable = False\n",
    "        \n",
    "        \n",
    "        model.add(TimeDistributed(BatchNormalization()))\n",
    "        model.add(TimeDistributed(MaxPooling2D((2, 2))))\n",
    "        model.add(TimeDistributed(Flatten()))\n",
    "\n",
    "        model.add(LSTM(lstm_cells))\n",
    "        model.add(Dropout(dropout))\n",
    "        \n",
    "        model.add(Dense(dense_neurons,activation='relu'))\n",
    "        model.add(Dropout(dropout))\n",
    "        \n",
    "        model.add(Dense(self.num_classes, activation='softmax'))\n",
    "        \n",
    "        \n",
    "        optimiser = tf.optimizers.Adam()\n",
    "        model.compile(optimizer=optimiser, loss='categorical_crossentropy', metrics=['categorical_accuracy'])\n",
    "        return model"
   ]
  },
  {
   "cell_type": "code",
   "execution_count": null,
   "id": "10529aae",
   "metadata": {},
   "outputs": [],
   "source": [
    "rnn_cnn_tl=RNNCNN_TL()\n",
    "rnn_cnn_tl.initialize_path(project_folder)\n",
    "rnn_cnn_tl.initialize_image_properties(image_height=120,image_width=120)\n",
    "rnn_cnn_tl.initialize_hyperparams(frames_to_sample=16,batch_size=5,num_epochs=20)\n",
    "rnn_cnn_tl_model=rnn_cnn_tl.define_model(lstm_cells=128,dense_neurons=128,dropout=0.25)\n",
    "rnn_cnn_tl_model.summary()"
   ]
  },
  {
   "cell_type": "code",
   "execution_count": null,
   "id": "9eba40fd",
   "metadata": {},
   "outputs": [],
   "source": [
    "print(\"Total Params:\", rnn_cnn_tl_model.count_params())\n",
    "history_model18=rnn_cnn_tl.train_model(rnn_cnn_tl_model,augment_data=True)"
   ]
  },
  {
   "cell_type": "code",
   "execution_count": null,
   "id": "0c254f99",
   "metadata": {},
   "outputs": [],
   "source": [
    "plot(history_model18)"
   ]
  },
  {
   "cell_type": "code",
   "execution_count": null,
   "id": "8c87de1f",
   "metadata": {},
   "outputs": [],
   "source": [
    "#We are not training the mobilenet weights and we see validation accuracy is very poor. Let's train them as well and observe if there is performance improvement"
   ]
  },
  {
   "cell_type": "code",
   "execution_count": null,
   "id": "72a31ebf",
   "metadata": {},
   "outputs": [],
   "source": [
    "#Model 19 - Transfer Learning with GRU and training all weights"
   ]
  },
  {
   "cell_type": "code",
   "execution_count": null,
   "id": "f6e37db6",
   "metadata": {},
   "outputs": [],
   "source": [
    "from keras.applications import mobilenet\n",
    "\n",
    "mobilenet_transfer = mobilenet.MobileNet(weights='imagenet', include_top=False)\n",
    "\n",
    "class RNNCNN_TL2(ModelBuilderMoreAugmentation):\n",
    "    \n",
    "    def define_model(self,gru_cells=64,dense_neurons=64,dropout=0.25):\n",
    "        \n",
    "        model = Sequential()\n",
    "        model.add(TimeDistributed(mobilenet_transfer,input_shape=(self.frames_to_sample,self.image_height,self.image_width,self.channels)))\n",
    " \n",
    "        \n",
    "        model.add(TimeDistributed(BatchNormalization()))\n",
    "        model.add(TimeDistributed(MaxPooling2D((2, 2))))\n",
    "        model.add(TimeDistributed(Flatten()))\n",
    "\n",
    "        model.add(GRU(gru_cells))\n",
    "        model.add(Dropout(dropout))\n",
    "        \n",
    "        model.add(Dense(dense_neurons,activation='relu'))\n",
    "        model.add(Dropout(dropout))\n",
    "        \n",
    "        model.add(Dense(self.num_classes, activation='softmax'))\n",
    "        \n",
    "        \n",
    "        optimiser = tf.optimizers.Adam()\n",
    "        model.compile(optimizer=optimiser, loss='categorical_crossentropy', metrics=['categorical_accuracy'])\n",
    "        return model"
   ]
  },
  {
   "cell_type": "code",
   "execution_count": null,
   "id": "395492de",
   "metadata": {},
   "outputs": [],
   "source": [
    "rnn_cnn_tl2=RNNCNN_TL2()\n",
    "rnn_cnn_tl2.initialize_path(project_folder)\n",
    "rnn_cnn_tl2.initialize_image_properties(image_height=120,image_width=120)\n",
    "rnn_cnn_tl2.initialize_hyperparams(frames_to_sample=16,batch_size=5,num_epochs=20)\n",
    "rnn_cnn_tl2_model=rnn_cnn_tl2.define_model(gru_cells=128,dense_neurons=128,dropout=0.25)\n",
    "rnn_cnn_tl2_model.summary()"
   ]
  },
  {
   "cell_type": "code",
   "execution_count": null,
   "id": "e234bb90",
   "metadata": {},
   "outputs": [],
   "source": [
    "print(\"Total Params:\", rnn_cnn_tl2_model.count_params())\n",
    "history_model19=rnn_cnn_tl2.train_model(rnn_cnn_tl2_model,augment_data=True)"
   ]
  },
  {
   "cell_type": "code",
   "execution_count": null,
   "id": "cd5d2f3c",
   "metadata": {},
   "outputs": [],
   "source": [
    "plot(history_model19)"
   ]
  },
  {
   "cell_type": "code",
   "execution_count": null,
   "id": "86481628",
   "metadata": {},
   "outputs": [],
   "source": [
    "#Consolidated Final Models"
   ]
  },
  {
   "cell_type": "code",
   "execution_count": null,
   "id": "efff7f71",
   "metadata": {},
   "outputs": [],
   "source": [
    "#Loading model and Testing"
   ]
  },
  {
   "cell_type": "code",
   "execution_count": 13,
   "id": "22e22812",
   "metadata": {},
   "outputs": [],
   "source": [
    "import time\n",
    "from keras.models import load_model\n",
    "model = load_model('model_init_2023-03-2205_37_09.092714')"
   ]
  },
  {
   "cell_type": "code",
   "execution_count": null,
   "id": "e378a670",
   "metadata": {},
   "outputs": [],
   "source": [
    "test_generator=ModelConv3D10()\n",
    "test_generator.initialize_path(project_folder)\n",
    "test_generator.initialize_image_properties(image_height=160,image_width=160)\n",
    "test_generator.initialize_hyperparams(frames_to_sample=20,batch_size=5,num_epochs=1)\n",
    "\n",
    "g=test_generator.generator(test_generator.val_path,test_generator.val_doc,augment=False)\n",
    "batch_data, batch_labels=next(g)"
   ]
  },
  {
   "cell_type": "code",
   "execution_count": null,
   "id": "1565fb37",
   "metadata": {},
   "outputs": [],
   "source": [
    "batch_labels"
   ]
  },
  {
   "cell_type": "code",
   "execution_count": null,
   "id": "ea446852",
   "metadata": {},
   "outputs": [],
   "source": [
    "print(np.argmax(model.predict(batch_data[:,:,:,:,:]),axis=1))"
   ]
  },
  {
   "cell_type": "code",
   "execution_count": null,
   "id": "a67d69bd",
   "metadata": {},
   "outputs": [],
   "source": []
  },
  {
   "cell_type": "code",
   "execution_count": null,
   "id": "ec5051a8",
   "metadata": {},
   "outputs": [],
   "source": []
  }
 ],
 "metadata": {
  "kernelspec": {
   "display_name": "Python 3 (ipykernel)",
   "language": "python",
   "name": "python3"
  },
  "language_info": {
   "codemirror_mode": {
    "name": "ipython",
    "version": 3
   },
   "file_extension": ".py",
   "mimetype": "text/x-python",
   "name": "python",
   "nbconvert_exporter": "python",
   "pygments_lexer": "ipython3",
   "version": "3.8.10"
  }
 },
 "nbformat": 4,
 "nbformat_minor": 5
}
